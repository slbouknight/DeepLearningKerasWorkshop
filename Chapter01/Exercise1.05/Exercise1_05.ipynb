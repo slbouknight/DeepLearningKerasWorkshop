{
 "cells": [
  {
   "cell_type": "markdown",
   "id": "221a98ec",
   "metadata": {},
   "source": [
    "## Comparison to the baseline"
   ]
  },
  {
   "cell_type": "code",
   "execution_count": 1,
   "id": "e901f4b0",
   "metadata": {},
   "outputs": [],
   "source": [
    "import pandas as pd\n",
    "target = pd.read_csv('../data/OSI_target_e2.csv')"
   ]
  },
  {
   "cell_type": "code",
   "execution_count": 3,
   "id": "83196047",
   "metadata": {},
   "outputs": [
    {
     "data": {
      "text/plain": [
       "0    84.525547\n",
       "1    15.474453\n",
       "Name: Revenue, dtype: float64"
      ]
     },
     "execution_count": 3,
     "metadata": {},
     "output_type": "execute_result"
    }
   ],
   "source": [
    "target['Revenue'].value_counts() / target.shape[0]*100"
   ]
  },
  {
   "cell_type": "code",
   "execution_count": 4,
   "id": "d09be587",
   "metadata": {},
   "outputs": [],
   "source": [
    "y_baseline = pd.Series(data=[0]*target.shape[0])"
   ]
  },
  {
   "cell_type": "code",
   "execution_count": 5,
   "id": "f1054c20",
   "metadata": {},
   "outputs": [
    {
     "name": "stdout",
     "output_type": "stream",
     "text": [
      "Precision: 0.9226\n",
      "Recall: 0.5000\n",
      "fscore: 0.4581\n"
     ]
    }
   ],
   "source": [
    "from sklearn import metrics\n",
    "precision, recall, fscore, _ = metrics.precision_recall_fscore_support(y_pred=y_baseline, y_true=target['Revenue'], average='macro', zero_division=1)\n",
    "print(f'Precision: {precision:.4f}\\nRecall: {recall:.4f}\\nfscore: {fscore:.4f}')"
   ]
  },
  {
   "cell_type": "code",
   "execution_count": null,
   "id": "e8b3f2f1",
   "metadata": {},
   "outputs": [],
   "source": []
  }
 ],
 "metadata": {
  "kernelspec": {
   "display_name": "Python 3 (ipykernel)",
   "language": "python",
   "name": "python3"
  },
  "language_info": {
   "codemirror_mode": {
    "name": "ipython",
    "version": 3
   },
   "file_extension": ".py",
   "mimetype": "text/x-python",
   "name": "python",
   "nbconvert_exporter": "python",
   "pygments_lexer": "ipython3",
   "version": "3.10.10"
  }
 },
 "nbformat": 4,
 "nbformat_minor": 5
}
