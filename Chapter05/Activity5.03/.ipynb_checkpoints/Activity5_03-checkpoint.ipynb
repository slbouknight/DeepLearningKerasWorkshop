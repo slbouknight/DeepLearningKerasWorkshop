{
 "cells": [
  {
   "cell_type": "code",
   "execution_count": 1,
   "id": "dbfda57d",
   "metadata": {},
   "outputs": [],
   "source": [
    "import pandas as pd\n",
    "X = pd.read_csv('../data/avila-tr_feats.csv')\n",
    "y = pd.read_csv('../data/avila-tr_target.csv')"
   ]
  },
  {
   "cell_type": "code",
   "execution_count": 3,
   "id": "c0969b68",
   "metadata": {},
   "outputs": [],
   "source": [
    "from keras.models import Sequential\n",
    "from keras.layers import Dense\n",
    "from keras.regularizers import l2\n",
    "\n",
    "def build_model(lambda_parameter):\n",
    "    model = Sequential()\n",
    "    model.add(Dense(10, input_dim=X.shape[1], activation='relu', kernel_regularizer=l2(lambda_parameter)))\n",
    "    model.add(Dense(6, activation='relu', kernel_regularizer=l2(lambda_parameter)))\n",
    "    model.add(Dense(4, activation='relu', kernel_regularizer=l2(lambda_parameter)))\n",
    "    model.add(Dense(1, activation='sigmoid'))\n",
    "    model.compile(loss='binary_crossentropy', optimizer='sgd', metrics=['accuracy'])\n",
    "    return model"
   ]
  },
  {
   "cell_type": "code",
   "execution_count": null,
   "id": "2918ac35",
   "metadata": {},
   "outputs": [
    {
     "name": "stderr",
     "output_type": "stream",
     "text": [
      "C:\\Users\\lvcie\\AppData\\Local\\Temp\\ipykernel_23660\\709060476.py:10: DeprecationWarning: KerasClassifier is deprecated, use Sci-Keras (https://github.com/adriangb/scikeras) instead. See https://www.adriangb.com/scikeras/stable/migration.html for help migrating.\n",
      "  model = KerasClassifier(build_fn=build_model, verbose=0)\n"
     ]
    }
   ],
   "source": [
    "from keras.wrappers.scikit_learn import KerasClassifier\n",
    "from sklearn.model_selection import GridSearchCV\n",
    "import numpy as np\n",
    "from tensorflow import random\n",
    "\n",
    "seed = 1\n",
    "np.random.seed(seed)\n",
    "random.set_seed(seed)\n",
    "\n",
    "model = KerasClassifier(build_fn=build_model, verbose=0)\n",
    "\n",
    "lambda_parameter = [0.01, 0.5, 1]\n",
    "epochs = [50, 100]\n",
    "batch_size = [20]\n",
    "\n",
    "param_grid = dict(lambda_parameter=lambda_parameter, epochs=epochs, batch_size=batch_size)\n",
    "\n",
    "grid_search = GridSearchCV(estimator=model, param_grid=param_grid, cv=5)\n",
    "results_1 = grid_search.fit(X, y)"
   ]
  },
  {
   "cell_type": "code",
   "execution_count": null,
   "id": "41e8bf29",
   "metadata": {},
   "outputs": [],
   "source": [
    "print('Best cross validation score =', results_1.best_score_)\n",
    "print('Parameter for Best cross validation score =', results_1.best_params_)\n",
    "\n",
    "accuracy_means = results_1.cv_results_('mean_test_score')\n",
    "accuracy_std = results_1.cv_results_['std_test_score']\n",
    "parameters = results_1.cv_results_['params']\n",
    "\n",
    "for p in range(len(parameters)):\n",
    "    print('Accuracy %f (std %f) for params %r' % (accuracy_means[p], accuracy_stds[p], parameters[p]))"
   ]
  },
  {
   "cell_type": "code",
   "execution_count": null,
   "id": "1c43adf4",
   "metadata": {},
   "outputs": [],
   "source": []
  }
 ],
 "metadata": {
  "kernelspec": {
   "display_name": "Python 3 (ipykernel)",
   "language": "python",
   "name": "python3"
  },
  "language_info": {
   "codemirror_mode": {
    "name": "ipython",
    "version": 3
   },
   "file_extension": ".py",
   "mimetype": "text/x-python",
   "name": "python",
   "nbconvert_exporter": "python",
   "pygments_lexer": "ipython3",
   "version": "3.10.10"
  }
 },
 "nbformat": 4,
 "nbformat_minor": 5
}
