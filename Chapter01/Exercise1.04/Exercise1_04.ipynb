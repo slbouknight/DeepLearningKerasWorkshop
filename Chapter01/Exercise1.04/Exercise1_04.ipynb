{
 "cells": [
  {
   "cell_type": "markdown",
   "id": "351387aa",
   "metadata": {},
   "source": [
    "## Creating a simple model"
   ]
  },
  {
   "cell_type": "code",
   "execution_count": 1,
   "id": "e6c21436",
   "metadata": {},
   "outputs": [],
   "source": [
    "import pandas as pd\n",
    "feats = pd.read_csv('../data/OSI_feats_e3.csv')\n",
    "target = pd.read_csv('../data/OSI_target_e2.csv')"
   ]
  },
  {
   "cell_type": "code",
   "execution_count": 2,
   "id": "cdc6a060",
   "metadata": {},
   "outputs": [],
   "source": [
    "from sklearn.model_selection import train_test_split\n",
    "test_size = 0.2\n",
    "random_state = 42\n",
    "X_train, X_test, y_train, y_test = train_test_split(feats, target, test_size=test_size, random_state=random_state)"
   ]
  },
  {
   "cell_type": "code",
   "execution_count": 4,
   "id": "e2797f00",
   "metadata": {},
   "outputs": [
    {
     "name": "stdout",
     "output_type": "stream",
     "text": [
      "Shape of X_train: (9864, 68)\n",
      "Shape of y_train: (9864, 1)\n",
      "Shape of X_test: (2466, 68)\n",
      "Shape of y_train: (2466, 1)\n"
     ]
    }
   ],
   "source": [
    "print(f'Shape of X_train: {X_train.shape}')\n",
    "print(f'Shape of y_train: {y_train.shape}')\n",
    "print(f'Shape of X_test: {X_test.shape}')\n",
    "print(f'Shape of y_train: {y_test.shape}')"
   ]
  },
  {
   "cell_type": "code",
   "execution_count": 5,
   "id": "82bd2e92",
   "metadata": {},
   "outputs": [
    {
     "data": {
      "text/html": [
       "<style>#sk-container-id-1 {color: black;background-color: white;}#sk-container-id-1 pre{padding: 0;}#sk-container-id-1 div.sk-toggleable {background-color: white;}#sk-container-id-1 label.sk-toggleable__label {cursor: pointer;display: block;width: 100%;margin-bottom: 0;padding: 0.3em;box-sizing: border-box;text-align: center;}#sk-container-id-1 label.sk-toggleable__label-arrow:before {content: \"▸\";float: left;margin-right: 0.25em;color: #696969;}#sk-container-id-1 label.sk-toggleable__label-arrow:hover:before {color: black;}#sk-container-id-1 div.sk-estimator:hover label.sk-toggleable__label-arrow:before {color: black;}#sk-container-id-1 div.sk-toggleable__content {max-height: 0;max-width: 0;overflow: hidden;text-align: left;background-color: #f0f8ff;}#sk-container-id-1 div.sk-toggleable__content pre {margin: 0.2em;color: black;border-radius: 0.25em;background-color: #f0f8ff;}#sk-container-id-1 input.sk-toggleable__control:checked~div.sk-toggleable__content {max-height: 200px;max-width: 100%;overflow: auto;}#sk-container-id-1 input.sk-toggleable__control:checked~label.sk-toggleable__label-arrow:before {content: \"▾\";}#sk-container-id-1 div.sk-estimator input.sk-toggleable__control:checked~label.sk-toggleable__label {background-color: #d4ebff;}#sk-container-id-1 div.sk-label input.sk-toggleable__control:checked~label.sk-toggleable__label {background-color: #d4ebff;}#sk-container-id-1 input.sk-hidden--visually {border: 0;clip: rect(1px 1px 1px 1px);clip: rect(1px, 1px, 1px, 1px);height: 1px;margin: -1px;overflow: hidden;padding: 0;position: absolute;width: 1px;}#sk-container-id-1 div.sk-estimator {font-family: monospace;background-color: #f0f8ff;border: 1px dotted black;border-radius: 0.25em;box-sizing: border-box;margin-bottom: 0.5em;}#sk-container-id-1 div.sk-estimator:hover {background-color: #d4ebff;}#sk-container-id-1 div.sk-parallel-item::after {content: \"\";width: 100%;border-bottom: 1px solid gray;flex-grow: 1;}#sk-container-id-1 div.sk-label:hover label.sk-toggleable__label {background-color: #d4ebff;}#sk-container-id-1 div.sk-serial::before {content: \"\";position: absolute;border-left: 1px solid gray;box-sizing: border-box;top: 0;bottom: 0;left: 50%;z-index: 0;}#sk-container-id-1 div.sk-serial {display: flex;flex-direction: column;align-items: center;background-color: white;padding-right: 0.2em;padding-left: 0.2em;position: relative;}#sk-container-id-1 div.sk-item {position: relative;z-index: 1;}#sk-container-id-1 div.sk-parallel {display: flex;align-items: stretch;justify-content: center;background-color: white;position: relative;}#sk-container-id-1 div.sk-item::before, #sk-container-id-1 div.sk-parallel-item::before {content: \"\";position: absolute;border-left: 1px solid gray;box-sizing: border-box;top: 0;bottom: 0;left: 50%;z-index: -1;}#sk-container-id-1 div.sk-parallel-item {display: flex;flex-direction: column;z-index: 1;position: relative;background-color: white;}#sk-container-id-1 div.sk-parallel-item:first-child::after {align-self: flex-end;width: 50%;}#sk-container-id-1 div.sk-parallel-item:last-child::after {align-self: flex-start;width: 50%;}#sk-container-id-1 div.sk-parallel-item:only-child::after {width: 0;}#sk-container-id-1 div.sk-dashed-wrapped {border: 1px dashed gray;margin: 0 0.4em 0.5em 0.4em;box-sizing: border-box;padding-bottom: 0.4em;background-color: white;}#sk-container-id-1 div.sk-label label {font-family: monospace;font-weight: bold;display: inline-block;line-height: 1.2em;}#sk-container-id-1 div.sk-label-container {text-align: center;}#sk-container-id-1 div.sk-container {/* jupyter's `normalize.less` sets `[hidden] { display: none; }` but bootstrap.min.css set `[hidden] { display: none !important; }` so we also need the `!important` here to be able to override the default hidden behavior on the sphinx rendered scikit-learn.org. See: https://github.com/scikit-learn/scikit-learn/issues/21755 */display: inline-block !important;position: relative;}#sk-container-id-1 div.sk-text-repr-fallback {display: none;}</style><div id=\"sk-container-id-1\" class=\"sk-top-container\"><div class=\"sk-text-repr-fallback\"><pre>LogisticRegression(max_iter=10000, random_state=42)</pre><b>In a Jupyter environment, please rerun this cell to show the HTML representation or trust the notebook. <br />On GitHub, the HTML representation is unable to render, please try loading this page with nbviewer.org.</b></div><div class=\"sk-container\" hidden><div class=\"sk-item\"><div class=\"sk-estimator sk-toggleable\"><input class=\"sk-toggleable__control sk-hidden--visually\" id=\"sk-estimator-id-1\" type=\"checkbox\" checked><label for=\"sk-estimator-id-1\" class=\"sk-toggleable__label sk-toggleable__label-arrow\">LogisticRegression</label><div class=\"sk-toggleable__content\"><pre>LogisticRegression(max_iter=10000, random_state=42)</pre></div></div></div></div></div>"
      ],
      "text/plain": [
       "LogisticRegression(max_iter=10000, random_state=42)"
      ]
     },
     "execution_count": 5,
     "metadata": {},
     "output_type": "execute_result"
    }
   ],
   "source": [
    "from sklearn.linear_model import LogisticRegression\n",
    "model = LogisticRegression(random_state=42, max_iter=10000)\n",
    "model.fit(X_train, y_train['Revenue'])"
   ]
  },
  {
   "cell_type": "code",
   "execution_count": 6,
   "id": "dfed768d",
   "metadata": {},
   "outputs": [],
   "source": [
    "y_pred = model.predict(X_test)"
   ]
  },
  {
   "cell_type": "code",
   "execution_count": 8,
   "id": "a7311406",
   "metadata": {},
   "outputs": [
    {
     "name": "stdout",
     "output_type": "stream",
     "text": [
      "Accuracy of the model is 86.9830%\n"
     ]
    }
   ],
   "source": [
    "from sklearn import metrics\n",
    "accuracy = metrics.accuracy_score(y_pred=y_pred, y_true=y_test)\n",
    "print(f'Accuracy of the model is {accuracy*100:.4f}%')"
   ]
  },
  {
   "cell_type": "code",
   "execution_count": 9,
   "id": "b499720f",
   "metadata": {},
   "outputs": [
    {
     "name": "stdout",
     "output_type": "stream",
     "text": [
      "Precision: 0.7296\n",
      "Recall: 0.3479\n",
      "fscore:  0.4712\n"
     ]
    }
   ],
   "source": [
    "precision, recall, fscore, _ = metrics.precision_recall_fscore_support(y_pred=y_pred, y_true=y_test, average='binary')\n",
    "print(f'Precision: {precision:.4f}\\nRecall: {recall:.4f}\\nfscore: {fscore: .4f}')"
   ]
  },
  {
   "cell_type": "code",
   "execution_count": 11,
   "id": "1387b17e",
   "metadata": {},
   "outputs": [
    {
     "name": "stdout",
     "output_type": "stream",
     "text": [
      "VisitorType_Returning_Visitor: -0.7290073763869693\n",
      "Month_Dec: -0.6725609746462208\n",
      "TrafficType_13: -0.63176889721717\n",
      "OperatingSystems_3: -0.5785536758185749\n",
      "TrafficType_3: -0.5472348597679381\n",
      "Month_Mar: -0.5289268014533274\n",
      "Month_May: -0.47154785586402886\n",
      "Region_9: -0.43399032494557155\n",
      "ExitRates: -0.36625078806089423\n",
      "SpecialDay: -0.3373455366679398\n",
      "VisitorType_New_Visitor: -0.31030988504623097\n",
      "Browser_1: -0.2814308479453697\n",
      "Month_June: -0.2765872758471352\n",
      "BounceRates: -0.26758545501936254\n",
      "Region_4: -0.24635164720658567\n",
      "TrafficType_1: -0.24065942161090542\n",
      "OperatingSystems_8: -0.22589583119664866\n",
      "Browser_4: -0.21333616706551212\n",
      "Browser_6: -0.205507917853827\n",
      "Region_7: -0.1946388986058375\n",
      "Browser_2: -0.18666589440064796\n",
      "TrafficType_6: -0.17765155576962768\n",
      "OperatingSystems_1: -0.17688234870845188\n",
      "OperatingSystems_4: -0.15582206060002327\n",
      "OperatingSystems_2: -0.15542346958823364\n",
      "Browser_3: -0.1519736117838351\n",
      "Browser_13: -0.15073527742476953\n",
      "Region_3: -0.14382539593792232\n",
      "Browser_5: -0.08709519555190869\n",
      "TrafficType_4: -0.06883484825606777\n",
      "TrafficType_15: -0.06840485821746266\n",
      "Region_1: -0.0640409293903012\n",
      "TrafficType_9: -0.05368585585586371\n",
      "TrafficType_20: -0.05100644054748099\n",
      "Browser_8: -0.044475135684864796\n",
      "Browser_10: -0.03291720186456816\n",
      "TrafficType_19: -0.02597452263544237\n",
      "TrafficType_2: -0.02356340354826532\n",
      "Region_8: -0.019941253025083663\n",
      "TrafficType_14: -0.012310235989299041\n",
      "TrafficType_18: -0.01205528393730927\n",
      "OperatingSystems_6: -0.009633761400593585\n",
      "TrafficType_12: -0.0019283368883225881\n",
      "Browser_11: -0.0019211844927249722\n",
      "TrafficType_7: -0.0011878711850149117\n",
      "Informational_Duration: -0.0002421027258803336\n",
      "Administrative_Duration: -0.0001103427688527684\n",
      "ProductRelated_Duration: 4.612527092546241e-05\n",
      "ProductRelated: 0.0029832300169342824\n",
      "Browser_7: 0.01181520168448743\n",
      "OperatingSystems_7: 0.01701474087487026\n",
      "Administrative: 0.017781172939684\n",
      "Region_6: 0.018142830856800168\n",
      "TrafficType_16: 0.0246970501966491\n",
      "Month_Aug: 0.03636027071289096\n",
      "TrafficType_5: 0.03770097840640289\n",
      "Month_Sep: 0.052314758759866443\n",
      "Browser_12: 0.058980491892746206\n",
      "Region_2: 0.06819095265159977\n",
      "Informational: 0.07236000548714626\n",
      "PageValues: 0.08732458163180405\n",
      "Month_Jul: 0.10817201633698924\n",
      "TrafficType_11: 0.11418960889005556\n",
      "Month_Oct: 0.17493254735021518\n",
      "is_weekend: 0.21215965078724483\n",
      "TrafficType_8: 0.22564082422112242\n",
      "TrafficType_10: 0.22830039832484675\n",
      "Month_Nov: 0.5658442631025333\n"
     ]
    }
   ],
   "source": [
    "coef_list = [f'{feature}: {coef}' for coef, feature in sorted(zip(model.coef_[0], X_train.columns.values.tolist()))]\n",
    "for item in coef_list:\n",
    "    print(item)"
   ]
  },
  {
   "cell_type": "code",
   "execution_count": null,
   "id": "1a397728",
   "metadata": {},
   "outputs": [],
   "source": []
  }
 ],
 "metadata": {
  "kernelspec": {
   "display_name": "Python 3 (ipykernel)",
   "language": "python",
   "name": "python3"
  },
  "language_info": {
   "codemirror_mode": {
    "name": "ipython",
    "version": 3
   },
   "file_extension": ".py",
   "mimetype": "text/x-python",
   "name": "python",
   "nbconvert_exporter": "python",
   "pygments_lexer": "ipython3",
   "version": "3.10.10"
  }
 },
 "nbformat": 4,
 "nbformat_minor": 5
}
