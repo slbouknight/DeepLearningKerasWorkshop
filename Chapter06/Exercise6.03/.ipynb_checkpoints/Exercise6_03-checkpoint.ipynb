{
 "cells": [
  {
   "cell_type": "code",
   "execution_count": 1,
   "id": "212b07e3",
   "metadata": {},
   "outputs": [],
   "source": [
    "import numpy as np\n",
    "import pandas as pd\n",
    "from tensorflow import random\n",
    "\n",
    "X = pd.read_csv('../data/aps_failure_training_feats.csv')\n",
    "y = pd.read_csv('../data/aps_failure_training_target.csv')"
   ]
  },
  {
   "cell_type": "code",
   "execution_count": 2,
   "id": "694baa77",
   "metadata": {},
   "outputs": [],
   "source": [
    "from sklearn.model_selection import train_test_split\n",
    "seed = 42\n",
    "X_train, X_test, y_train, y_test = train_test_split(X, y, test_size=0.20, random_state=seed)"
   ]
  },
  {
   "cell_type": "code",
   "execution_count": 3,
   "id": "ef3203b1",
   "metadata": {},
   "outputs": [],
   "source": [
    "from sklearn.preprocessing import StandardScaler\n",
    "sc = StandardScaler()\n",
    "\n",
    "X_train = sc.fit_transform(X_train)\n",
    "X_train = pd.DataFrame(X_train, columns=X_test.columns)\n",
    "\n",
    "X_test = sc.transform(X_test)\n",
    "X_test = pd.DataFrame(X_test, columns=X_train.columns)"
   ]
  },
  {
   "cell_type": "code",
   "execution_count": 4,
   "id": "d392f348",
   "metadata": {},
   "outputs": [],
   "source": [
    "from keras.models import Sequential\n",
    "from keras.layers import Dense\n",
    "from keras.layers import Dropout\n",
    "\n",
    "np.random.seed(seed)\n",
    "random.set_seed(seed)\n",
    "model = Sequential()\n",
    "\n",
    "model.add(Dense(4, activation='relu', kernel_initializer='uniform', input_dim=X_train.shape[1]))\n",
    "model.add(Dropout(0.5))\n",
    "model.add(Dense(32, activation='relu', kernel_initializer='uniform'))\n",
    "model.add(Dropout(0.4))\n",
    "model.add(Dense(16, activation='relu', kernel_initializer='uniform'))\n",
    "model.add(Dropout(0.3))\n",
    "model.add(Dense(8, activation='relu', kernel_initializer='uniform'))\n",
    "model.add(Dropout(0.2))\n",
    "model.add(Dense(4, activation='relu', kernel_initializer='uniform'))\n",
    "model.add(Dropout(0.1))\n",
    "\n",
    "model.add(Dense(1, activation='sigmoid', kernel_initializer='uniform'))\n",
    "\n",
    "model.compile(optimizer='adam', loss='binary_crossentropy', metrics=['accuracy'])"
   ]
  },
  {
   "cell_type": "code",
   "execution_count": 5,
   "id": "f4ff87a8",
   "metadata": {},
   "outputs": [
    {
     "name": "stdout",
     "output_type": "stream",
     "text": [
      "Epoch 1/100\n",
      "1920/1920 [==============================] - 4s 2ms/step - loss: 0.1118 - accuracy: 0.9833 - val_loss: 0.0470 - val_accuracy: 0.9842\n",
      "Epoch 2/100\n",
      "1920/1920 [==============================] - 3s 1ms/step - loss: 0.0645 - accuracy: 0.9834 - val_loss: 0.0446 - val_accuracy: 0.9842\n",
      "Epoch 3/100\n",
      "1920/1920 [==============================] - 3s 2ms/step - loss: 0.0622 - accuracy: 0.9834 - val_loss: 0.0450 - val_accuracy: 0.9842\n",
      "Epoch 4/100\n",
      "1920/1920 [==============================] - 5s 2ms/step - loss: 0.0598 - accuracy: 0.9834 - val_loss: 0.0444 - val_accuracy: 0.9842\n",
      "Epoch 5/100\n",
      "1920/1920 [==============================] - 3s 2ms/step - loss: 0.0606 - accuracy: 0.9834 - val_loss: 0.0442 - val_accuracy: 0.9842\n",
      "Epoch 6/100\n",
      "1920/1920 [==============================] - 4s 2ms/step - loss: 0.0577 - accuracy: 0.9834 - val_loss: 0.0443 - val_accuracy: 0.9842\n",
      "Epoch 7/100\n",
      "1920/1920 [==============================] - 3s 1ms/step - loss: 0.0587 - accuracy: 0.9834 - val_loss: 0.0444 - val_accuracy: 0.9842\n",
      "Epoch 8/100\n",
      "1920/1920 [==============================] - 4s 2ms/step - loss: 0.0569 - accuracy: 0.9834 - val_loss: 0.0465 - val_accuracy: 0.9842\n",
      "Epoch 9/100\n",
      "1920/1920 [==============================] - 4s 2ms/step - loss: 0.0568 - accuracy: 0.9834 - val_loss: 0.0463 - val_accuracy: 0.9842\n",
      "Epoch 10/100\n",
      "1920/1920 [==============================] - 4s 2ms/step - loss: 0.0567 - accuracy: 0.9834 - val_loss: 0.0438 - val_accuracy: 0.9842\n",
      "Epoch 11/100\n",
      "1920/1920 [==============================] - 3s 2ms/step - loss: 0.0566 - accuracy: 0.9834 - val_loss: 0.0448 - val_accuracy: 0.9842\n",
      "Epoch 12/100\n",
      "1920/1920 [==============================] - 4s 2ms/step - loss: 0.0579 - accuracy: 0.9834 - val_loss: 0.0437 - val_accuracy: 0.9842\n",
      "Epoch 13/100\n",
      "1920/1920 [==============================] - 4s 2ms/step - loss: 0.0560 - accuracy: 0.9834 - val_loss: 0.0455 - val_accuracy: 0.9842\n",
      "Epoch 14/100\n",
      "1920/1920 [==============================] - 4s 2ms/step - loss: 0.0551 - accuracy: 0.9834 - val_loss: 0.0463 - val_accuracy: 0.9842\n",
      "Epoch 15/100\n",
      "1920/1920 [==============================] - 3s 1ms/step - loss: 0.0542 - accuracy: 0.9834 - val_loss: 0.0489 - val_accuracy: 0.9842\n",
      "Epoch 16/100\n",
      "1920/1920 [==============================] - 4s 2ms/step - loss: 0.0550 - accuracy: 0.9834 - val_loss: 0.0461 - val_accuracy: 0.9842\n",
      "Epoch 17/100\n",
      "1920/1920 [==============================] - 4s 2ms/step - loss: 0.0558 - accuracy: 0.9834 - val_loss: 0.0474 - val_accuracy: 0.9842\n",
      "Epoch 18/100\n",
      "1920/1920 [==============================] - 4s 2ms/step - loss: 0.0562 - accuracy: 0.9834 - val_loss: 0.0467 - val_accuracy: 0.9842\n",
      "Epoch 19/100\n",
      "1920/1920 [==============================] - 3s 2ms/step - loss: 0.0559 - accuracy: 0.9834 - val_loss: 0.0484 - val_accuracy: 0.9842\n",
      "Epoch 20/100\n",
      "1920/1920 [==============================] - 4s 2ms/step - loss: 0.0553 - accuracy: 0.9834 - val_loss: 0.0499 - val_accuracy: 0.9842\n",
      "Epoch 21/100\n",
      "1920/1920 [==============================] - 4s 2ms/step - loss: 0.0555 - accuracy: 0.9834 - val_loss: 0.0463 - val_accuracy: 0.9842\n",
      "Epoch 22/100\n",
      "1920/1920 [==============================] - 4s 2ms/step - loss: 0.0538 - accuracy: 0.9834 - val_loss: 0.0494 - val_accuracy: 0.9842\n",
      "Epoch 23/100\n",
      "1920/1920 [==============================] - 3s 2ms/step - loss: 0.0551 - accuracy: 0.9834 - val_loss: 0.0488 - val_accuracy: 0.9842\n",
      "Epoch 24/100\n",
      "1920/1920 [==============================] - 4s 2ms/step - loss: 0.0555 - accuracy: 0.9834 - val_loss: 0.0455 - val_accuracy: 0.9842\n",
      "Epoch 25/100\n",
      "1920/1920 [==============================] - 3s 2ms/step - loss: 0.0550 - accuracy: 0.9834 - val_loss: 0.0470 - val_accuracy: 0.9842\n",
      "Epoch 26/100\n",
      "1920/1920 [==============================] - 4s 2ms/step - loss: 0.0552 - accuracy: 0.9834 - val_loss: 0.0480 - val_accuracy: 0.9842\n",
      "Epoch 27/100\n",
      "1920/1920 [==============================] - 3s 2ms/step - loss: 0.0546 - accuracy: 0.9834 - val_loss: 0.0469 - val_accuracy: 0.9842\n",
      "Epoch 28/100\n",
      "1920/1920 [==============================] - 4s 2ms/step - loss: 0.0550 - accuracy: 0.9834 - val_loss: 0.0496 - val_accuracy: 0.9842\n",
      "Epoch 29/100\n",
      "1920/1920 [==============================] - 3s 2ms/step - loss: 0.0540 - accuracy: 0.9834 - val_loss: 0.0506 - val_accuracy: 0.9842\n",
      "Epoch 30/100\n",
      "1920/1920 [==============================] - 4s 2ms/step - loss: 0.0540 - accuracy: 0.9834 - val_loss: 0.0501 - val_accuracy: 0.9842\n",
      "Epoch 31/100\n",
      "1920/1920 [==============================] - 3s 2ms/step - loss: 0.0520 - accuracy: 0.9834 - val_loss: 0.0512 - val_accuracy: 0.9842\n",
      "Epoch 32/100\n",
      "1920/1920 [==============================] - 4s 2ms/step - loss: 0.0538 - accuracy: 0.9834 - val_loss: 0.0493 - val_accuracy: 0.9842\n",
      "Epoch 33/100\n",
      "1920/1920 [==============================] - 4s 2ms/step - loss: 0.0530 - accuracy: 0.9834 - val_loss: 0.0468 - val_accuracy: 0.9842\n",
      "Epoch 34/100\n",
      "1920/1920 [==============================] - 3s 2ms/step - loss: 0.0525 - accuracy: 0.9834 - val_loss: 0.0499 - val_accuracy: 0.9842\n",
      "Epoch 35/100\n",
      "1920/1920 [==============================] - 4s 2ms/step - loss: 0.0530 - accuracy: 0.9834 - val_loss: 0.0514 - val_accuracy: 0.9842\n",
      "Epoch 36/100\n",
      "1920/1920 [==============================] - 4s 2ms/step - loss: 0.0536 - accuracy: 0.9834 - val_loss: 0.0527 - val_accuracy: 0.9842\n",
      "Epoch 37/100\n",
      "1920/1920 [==============================] - 4s 2ms/step - loss: 0.0534 - accuracy: 0.9834 - val_loss: 0.0465 - val_accuracy: 0.9842\n",
      "Epoch 38/100\n",
      "1920/1920 [==============================] - 3s 2ms/step - loss: 0.0534 - accuracy: 0.9834 - val_loss: 0.0468 - val_accuracy: 0.9842\n",
      "Epoch 39/100\n",
      "1920/1920 [==============================] - 4s 2ms/step - loss: 0.0531 - accuracy: 0.9834 - val_loss: 0.0559 - val_accuracy: 0.9842\n",
      "Epoch 40/100\n",
      "1920/1920 [==============================] - 4s 2ms/step - loss: 0.0545 - accuracy: 0.9834 - val_loss: 0.0498 - val_accuracy: 0.9842\n",
      "Epoch 41/100\n",
      "1920/1920 [==============================] - 4s 2ms/step - loss: 0.0536 - accuracy: 0.9834 - val_loss: 0.0528 - val_accuracy: 0.9842\n",
      "Epoch 42/100\n",
      "1920/1920 [==============================] - 3s 2ms/step - loss: 0.0536 - accuracy: 0.9834 - val_loss: 0.0531 - val_accuracy: 0.9842\n",
      "Epoch 43/100\n",
      "1920/1920 [==============================] - 4s 2ms/step - loss: 0.0540 - accuracy: 0.9834 - val_loss: 0.0519 - val_accuracy: 0.9842\n",
      "Epoch 44/100\n",
      "1920/1920 [==============================] - 4s 2ms/step - loss: 0.0537 - accuracy: 0.9834 - val_loss: 0.0499 - val_accuracy: 0.9842\n",
      "Epoch 45/100\n",
      "1920/1920 [==============================] - 4s 2ms/step - loss: 0.0523 - accuracy: 0.9834 - val_loss: 0.0541 - val_accuracy: 0.9842\n",
      "Epoch 46/100\n",
      "1920/1920 [==============================] - 6s 3ms/step - loss: 0.0538 - accuracy: 0.9834 - val_loss: 0.0584 - val_accuracy: 0.9842\n",
      "Epoch 47/100\n",
      "1920/1920 [==============================] - 6s 3ms/step - loss: 0.0521 - accuracy: 0.9834 - val_loss: 0.0493 - val_accuracy: 0.9842\n",
      "Epoch 48/100\n",
      "1920/1920 [==============================] - 6s 3ms/step - loss: 0.0545 - accuracy: 0.9834 - val_loss: 0.0482 - val_accuracy: 0.9842\n",
      "Epoch 49/100\n",
      "1920/1920 [==============================] - 6s 3ms/step - loss: 0.0534 - accuracy: 0.9834 - val_loss: 0.0560 - val_accuracy: 0.9842\n",
      "Epoch 50/100\n",
      "1920/1920 [==============================] - 6s 3ms/step - loss: 0.0545 - accuracy: 0.9834 - val_loss: 0.0496 - val_accuracy: 0.9842\n",
      "Epoch 51/100\n",
      "1920/1920 [==============================] - 7s 3ms/step - loss: 0.0525 - accuracy: 0.9834 - val_loss: 0.0523 - val_accuracy: 0.9842\n",
      "Epoch 52/100\n",
      "1920/1920 [==============================] - 6s 3ms/step - loss: 0.0526 - accuracy: 0.9834 - val_loss: 0.0496 - val_accuracy: 0.9842\n",
      "Epoch 53/100\n",
      "1920/1920 [==============================] - 6s 3ms/step - loss: 0.0531 - accuracy: 0.9834 - val_loss: 0.0516 - val_accuracy: 0.9842\n",
      "Epoch 54/100\n",
      "1920/1920 [==============================] - 6s 3ms/step - loss: 0.0526 - accuracy: 0.9834 - val_loss: 0.0540 - val_accuracy: 0.9842\n",
      "Epoch 55/100\n",
      "1920/1920 [==============================] - 6s 3ms/step - loss: 0.0540 - accuracy: 0.9834 - val_loss: 0.0476 - val_accuracy: 0.9842\n",
      "Epoch 56/100\n",
      "1920/1920 [==============================] - 6s 3ms/step - loss: 0.0507 - accuracy: 0.9834 - val_loss: 0.0587 - val_accuracy: 0.9842\n",
      "Epoch 57/100\n"
     ]
    },
    {
     "name": "stdout",
     "output_type": "stream",
     "text": [
      "1920/1920 [==============================] - 6s 3ms/step - loss: 0.0540 - accuracy: 0.9834 - val_loss: 0.0487 - val_accuracy: 0.9842\n",
      "Epoch 58/100\n",
      "1920/1920 [==============================] - 6s 3ms/step - loss: 0.0526 - accuracy: 0.9834 - val_loss: 0.0471 - val_accuracy: 0.9842\n",
      "Epoch 59/100\n",
      "1920/1920 [==============================] - 6s 3ms/step - loss: 0.0543 - accuracy: 0.9834 - val_loss: 0.0492 - val_accuracy: 0.9842\n",
      "Epoch 60/100\n",
      "1920/1920 [==============================] - 6s 3ms/step - loss: 0.0515 - accuracy: 0.9834 - val_loss: 0.0509 - val_accuracy: 0.9842\n",
      "Epoch 61/100\n",
      "1920/1920 [==============================] - 6s 3ms/step - loss: 0.0528 - accuracy: 0.9834 - val_loss: 0.0585 - val_accuracy: 0.9842\n",
      "Epoch 62/100\n",
      "1920/1920 [==============================] - 3s 2ms/step - loss: 0.0517 - accuracy: 0.9834 - val_loss: 0.0522 - val_accuracy: 0.9842\n",
      "Epoch 63/100\n",
      "1920/1920 [==============================] - 4s 2ms/step - loss: 0.0521 - accuracy: 0.9834 - val_loss: 0.0537 - val_accuracy: 0.9842\n",
      "Epoch 64/100\n",
      "1920/1920 [==============================] - 3s 2ms/step - loss: 0.0553 - accuracy: 0.9834 - val_loss: 0.0499 - val_accuracy: 0.9842\n",
      "Epoch 65/100\n",
      "1920/1920 [==============================] - 4s 2ms/step - loss: 0.0529 - accuracy: 0.9834 - val_loss: 0.0515 - val_accuracy: 0.9842\n",
      "Epoch 66/100\n",
      "1920/1920 [==============================] - 3s 2ms/step - loss: 0.0520 - accuracy: 0.9834 - val_loss: 0.0502 - val_accuracy: 0.9842\n",
      "Epoch 67/100\n",
      "1920/1920 [==============================] - 4s 2ms/step - loss: 0.0543 - accuracy: 0.9834 - val_loss: 0.0545 - val_accuracy: 0.9842\n",
      "Epoch 68/100\n",
      "1920/1920 [==============================] - 3s 2ms/step - loss: 0.0545 - accuracy: 0.9834 - val_loss: 0.0522 - val_accuracy: 0.9842\n",
      "Epoch 69/100\n",
      "1920/1920 [==============================] - 4s 2ms/step - loss: 0.0539 - accuracy: 0.9834 - val_loss: 0.0492 - val_accuracy: 0.9842\n",
      "Epoch 70/100\n",
      "1920/1920 [==============================] - 3s 2ms/step - loss: 0.0525 - accuracy: 0.9834 - val_loss: 0.0529 - val_accuracy: 0.9842\n",
      "Epoch 71/100\n",
      "1920/1920 [==============================] - 4s 2ms/step - loss: 0.0524 - accuracy: 0.9834 - val_loss: 0.0512 - val_accuracy: 0.9842\n",
      "Epoch 72/100\n",
      "1920/1920 [==============================] - 3s 2ms/step - loss: 0.0534 - accuracy: 0.9834 - val_loss: 0.0482 - val_accuracy: 0.9842\n",
      "Epoch 73/100\n",
      "1920/1920 [==============================] - 4s 2ms/step - loss: 0.0518 - accuracy: 0.9834 - val_loss: 0.0549 - val_accuracy: 0.9842\n",
      "Epoch 74/100\n",
      "1920/1920 [==============================] - 3s 2ms/step - loss: 0.0537 - accuracy: 0.9834 - val_loss: 0.0487 - val_accuracy: 0.9842\n",
      "Epoch 75/100\n",
      "1920/1920 [==============================] - 4s 2ms/step - loss: 0.0523 - accuracy: 0.9834 - val_loss: 0.0543 - val_accuracy: 0.9842\n",
      "Epoch 76/100\n",
      "1920/1920 [==============================] - 4s 2ms/step - loss: 0.0528 - accuracy: 0.9834 - val_loss: 0.0589 - val_accuracy: 0.9842\n",
      "Epoch 77/100\n",
      "1920/1920 [==============================] - 4s 2ms/step - loss: 0.0515 - accuracy: 0.9834 - val_loss: 0.0511 - val_accuracy: 0.9842\n",
      "Epoch 78/100\n",
      "1920/1920 [==============================] - 3s 2ms/step - loss: 0.0529 - accuracy: 0.9834 - val_loss: 0.0525 - val_accuracy: 0.9842\n",
      "Epoch 79/100\n",
      "1920/1920 [==============================] - 4s 2ms/step - loss: 0.0522 - accuracy: 0.9834 - val_loss: 0.0544 - val_accuracy: 0.9842\n",
      "Epoch 80/100\n",
      "1920/1920 [==============================] - 4s 2ms/step - loss: 0.0536 - accuracy: 0.9834 - val_loss: 0.0539 - val_accuracy: 0.9842\n",
      "Epoch 81/100\n",
      "1920/1920 [==============================] - 3s 2ms/step - loss: 0.0512 - accuracy: 0.9834 - val_loss: 0.0689 - val_accuracy: 0.9842\n",
      "Epoch 82/100\n",
      "1920/1920 [==============================] - 3s 2ms/step - loss: 0.0540 - accuracy: 0.9834 - val_loss: 0.0583 - val_accuracy: 0.9842\n",
      "Epoch 83/100\n",
      "1920/1920 [==============================] - 4s 2ms/step - loss: 0.0523 - accuracy: 0.9834 - val_loss: 0.0597 - val_accuracy: 0.9842\n",
      "Epoch 84/100\n",
      "1920/1920 [==============================] - 3s 2ms/step - loss: 0.0545 - accuracy: 0.9834 - val_loss: 0.0540 - val_accuracy: 0.9842\n",
      "Epoch 85/100\n",
      "1920/1920 [==============================] - 4s 2ms/step - loss: 0.0528 - accuracy: 0.9834 - val_loss: 0.0534 - val_accuracy: 0.9842\n",
      "Epoch 86/100\n",
      "1920/1920 [==============================] - 3s 2ms/step - loss: 0.0521 - accuracy: 0.9834 - val_loss: 0.0586 - val_accuracy: 0.9842\n",
      "Epoch 87/100\n",
      "1920/1920 [==============================] - 4s 2ms/step - loss: 0.0537 - accuracy: 0.9834 - val_loss: 0.0562 - val_accuracy: 0.9842\n",
      "Epoch 88/100\n",
      "1920/1920 [==============================] - 3s 2ms/step - loss: 0.0533 - accuracy: 0.9834 - val_loss: 0.0490 - val_accuracy: 0.9842\n",
      "Epoch 89/100\n",
      "1920/1920 [==============================] - 5s 2ms/step - loss: 0.0526 - accuracy: 0.9834 - val_loss: 0.0530 - val_accuracy: 0.9842\n",
      "Epoch 90/100\n",
      "1920/1920 [==============================] - 3s 2ms/step - loss: 0.0530 - accuracy: 0.9834 - val_loss: 0.0483 - val_accuracy: 0.9842\n",
      "Epoch 91/100\n",
      "1920/1920 [==============================] - 5s 2ms/step - loss: 0.0536 - accuracy: 0.9834 - val_loss: 0.0580 - val_accuracy: 0.9842\n",
      "Epoch 92/100\n",
      "1920/1920 [==============================] - 3s 2ms/step - loss: 0.0513 - accuracy: 0.9834 - val_loss: 0.0615 - val_accuracy: 0.9842\n",
      "Epoch 93/100\n",
      "1920/1920 [==============================] - 5s 2ms/step - loss: 0.0522 - accuracy: 0.9834 - val_loss: 0.0632 - val_accuracy: 0.9842\n",
      "Epoch 94/100\n",
      "1920/1920 [==============================] - 3s 2ms/step - loss: 0.0525 - accuracy: 0.9834 - val_loss: 0.0649 - val_accuracy: 0.9842\n",
      "Epoch 95/100\n",
      "1920/1920 [==============================] - 4s 2ms/step - loss: 0.0523 - accuracy: 0.9834 - val_loss: 0.0605 - val_accuracy: 0.9842\n",
      "Epoch 96/100\n",
      "1920/1920 [==============================] - 4s 2ms/step - loss: 0.0516 - accuracy: 0.9834 - val_loss: 0.0564 - val_accuracy: 0.9842\n",
      "Epoch 97/100\n",
      "1920/1920 [==============================] - 4s 2ms/step - loss: 0.0528 - accuracy: 0.9834 - val_loss: 0.0604 - val_accuracy: 0.9842\n",
      "Epoch 98/100\n",
      "1920/1920 [==============================] - 3s 2ms/step - loss: 0.0553 - accuracy: 0.9834 - val_loss: 0.0619 - val_accuracy: 0.9842\n",
      "Epoch 99/100\n",
      "1920/1920 [==============================] - 4s 2ms/step - loss: 0.0541 - accuracy: 0.9834 - val_loss: 0.0563 - val_accuracy: 0.9842\n",
      "Epoch 100/100\n",
      "1920/1920 [==============================] - 3s 2ms/step - loss: 0.0516 - accuracy: 0.9834 - val_loss: 0.0572 - val_accuracy: 0.9842\n"
     ]
    },
    {
     "data": {
      "text/plain": [
       "<keras.callbacks.History at 0x1d184f53ee0>"
      ]
     },
     "execution_count": 5,
     "metadata": {},
     "output_type": "execute_result"
    }
   ],
   "source": [
    "model.fit(X_train, y_train, epochs=100, batch_size=20, verbose=1, validation_split=0.2, shuffle=False)"
   ]
  },
  {
   "cell_type": "code",
   "execution_count": 6,
   "id": "894d2271",
   "metadata": {},
   "outputs": [
    {
     "name": "stdout",
     "output_type": "stream",
     "text": [
      "375/375 [==============================] - 0s 911us/step\n",
      "375/375 [==============================] - 0s 923us/step\n"
     ]
    }
   ],
   "source": [
    "y_pred = model.predict(X_test)\n",
    "y_pred_prob = model.predict(X_test)"
   ]
  },
  {
   "cell_type": "code",
   "execution_count": 7,
   "id": "b1c163ba",
   "metadata": {},
   "outputs": [
    {
     "name": "stdout",
     "output_type": "stream",
     "text": [
      "[[11788     0]\n",
      " [  212     0]]\n"
     ]
    }
   ],
   "source": [
    "from sklearn.metrics import confusion_matrix\n",
    "y_pred_class1 = y_pred > 0.5\n",
    "cm = confusion_matrix(y_test, y_pred_class1)\n",
    "print(cm)"
   ]
  },
  {
   "cell_type": "code",
   "execution_count": 8,
   "id": "b6d01cf5",
   "metadata": {},
   "outputs": [],
   "source": [
    "TN = cm[0, 0]\n",
    "FN = cm[1, 0]\n",
    "FP = cm[0, 1]\n",
    "TP = cm[1, 1]"
   ]
  },
  {
   "cell_type": "code",
   "execution_count": 9,
   "id": "8a93573e",
   "metadata": {},
   "outputs": [
    {
     "name": "stdout",
     "output_type": "stream",
     "text": [
      "Sensitivity: 0.0000\n"
     ]
    }
   ],
   "source": [
    "Sensitivity = TP / (TP + FN)\n",
    "print(f'Sensitivity: {Sensitivity:.4f}')"
   ]
  },
  {
   "cell_type": "code",
   "execution_count": 10,
   "id": "a729fc48",
   "metadata": {},
   "outputs": [
    {
     "name": "stdout",
     "output_type": "stream",
     "text": [
      "Specificity: 0.0000\n"
     ]
    }
   ],
   "source": [
    "Specificity = TP / (TP + FN)\n",
    "print(f'Specificity: {Specificity:.4f}')"
   ]
  },
  {
   "cell_type": "code",
   "execution_count": 11,
   "id": "d1ee8e3f",
   "metadata": {},
   "outputs": [
    {
     "name": "stdout",
     "output_type": "stream",
     "text": [
      "Precision: nan\n"
     ]
    },
    {
     "name": "stderr",
     "output_type": "stream",
     "text": [
      "C:\\Users\\lvcie\\AppData\\Local\\Temp\\ipykernel_19608\\653747717.py:1: RuntimeWarning: invalid value encountered in longlong_scalars\n",
      "  Precision = TP / (TP + FP)\n"
     ]
    }
   ],
   "source": [
    "Precision = TP / (TP + FP)\n",
    "print(f'Precision: {Precision:.4f}')"
   ]
  },
  {
   "cell_type": "code",
   "execution_count": 13,
   "id": "2be3e013",
   "metadata": {},
   "outputs": [
    {
     "name": "stdout",
     "output_type": "stream",
     "text": [
      "False positive rate: 0.0000\n"
     ]
    }
   ],
   "source": [
    "False_Positive_rate = FP / (FP + TN)\n",
    "print(f'False positive rate: {False_Positive_rate:.4f}')"
   ]
  },
  {
   "cell_type": "code",
   "execution_count": 14,
   "id": "434e2620",
   "metadata": {},
   "outputs": [],
   "source": [
    "y_pred_class2 = y_pred > 0.3"
   ]
  },
  {
   "cell_type": "code",
   "execution_count": 17,
   "id": "012f873b",
   "metadata": {},
   "outputs": [
    {
     "name": "stdout",
     "output_type": "stream",
     "text": [
      "[[11788     0]\n",
      " [  212     0]]\n"
     ]
    }
   ],
   "source": [
    "cm = confusion_matrix(y_test, y_pred_class2)\n",
    "print(cm)"
   ]
  },
  {
   "cell_type": "code",
   "execution_count": 18,
   "id": "114bcb40",
   "metadata": {},
   "outputs": [],
   "source": [
    "TN = cm[0, 0]\n",
    "FN = cm[1, 0]\n",
    "FP = cm[0, 1]\n",
    "TP = cm[1, 1]"
   ]
  },
  {
   "cell_type": "code",
   "execution_count": 19,
   "id": "37c075fa",
   "metadata": {},
   "outputs": [
    {
     "name": "stdout",
     "output_type": "stream",
     "text": [
      "Sensitivity: 0.0000\n"
     ]
    }
   ],
   "source": [
    "Sensitivity = TP / (TP + FN)\n",
    "print(f'Sensitivity: {Sensitivity:.4f}')"
   ]
  },
  {
   "cell_type": "code",
   "execution_count": 23,
   "id": "b4361a31",
   "metadata": {},
   "outputs": [
    {
     "name": "stdout",
     "output_type": "stream",
     "text": [
      "Specificity: 0.0000\n"
     ]
    }
   ],
   "source": [
    "Specificity = TP / (TP + FN)\n",
    "print(f'Specificity: {Specificity:.4f}')"
   ]
  },
  {
   "cell_type": "code",
   "execution_count": 24,
   "id": "2cd6f9b7",
   "metadata": {},
   "outputs": [
    {
     "data": {
      "image/png": "[encoded data removed]",
      "text/plain": [
       "<Figure size 600x400 with 1 Axes>"
      ]
     },
     "metadata": {},
     "output_type": "display_data"
    }
   ],
   "source": [
    "import matplotlib.pyplot as plt\n",
    "%matplotlib inline\n",
    "\n",
    "plt.figure(figsize=(6, 4))\n",
    "plt.hist(y_pred_prob, bins=100)\n",
    "plt.title('Histogram of Predicted Probabilities')\n",
    "plt.xlabel(\"Predicted Probabilities of APS failure\")\n",
    "plt.ylabel('Frequency')\n",
    "plt.show()"
   ]
  },
  {
   "cell_type": "code",
   "execution_count": null,
   "id": "875f303f",
   "metadata": {},
   "outputs": [],
   "source": []
  }
 ],
 "metadata": {
  "kernelspec": {
   "display_name": "Python 3 (ipykernel)",
   "language": "python",
   "name": "python3"
  },
  "language_info": {
   "codemirror_mode": {
    "name": "ipython",
    "version": 3
   },
   "file_extension": ".py",
   "mimetype": "text/x-python",
   "name": "python",
   "nbconvert_exporter": "python",
   "pygments_lexer": "ipython3",
   "version": "3.10.10"
  }
 },
 "nbformat": 4,
 "nbformat_minor": 5
}
