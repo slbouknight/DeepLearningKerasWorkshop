{
 "cells": [
  {
   "cell_type": "code",
   "execution_count": 1,
   "id": "eb490619",
   "metadata": {},
   "outputs": [],
   "source": [
    "from keras.models import Sequential\n",
    "from keras.layers import Dense\n",
    "from keras.wrappers.scikit_learn import KerasRegressor\n",
    "from sklearn.model_selection import KFold, cross_val_score\n",
    "from sklearn.preprocessing import StandardScaler\n",
    "from sklearn.pipeline import make_pipeline\n",
    "import numpy as np\n",
    "import pandas as pd\n",
    "from tensorflow import random"
   ]
  },
  {
   "cell_type": "code",
   "execution_count": 2,
   "id": "078462db",
   "metadata": {},
   "outputs": [
    {
     "name": "stdout",
     "output_type": "stream",
     "text": [
      "Input data size = (10000, 10)\n",
      "Output size = (10000, 1)\n",
      "Output Range = (0, 584)\n"
     ]
    }
   ],
   "source": [
    "X = pd.read_csv('../data/traffic_volume_feats.csv')\n",
    "y = pd.read_csv('../data/traffic_volume_target.csv')\n",
    "\n",
    "print(f'Input data size = {X.shape}')\n",
    "print(f'Output size = {y.shape}')\n",
    "\n",
    "print(f\"Output Range = ({y['Volume'].min()}, { y['Volume'].max()})\")"
   ]
  },
  {
   "cell_type": "code",
   "execution_count": 3,
   "id": "14870b8f",
   "metadata": {},
   "outputs": [],
   "source": [
    "def build_model_1(optimizer='adam'):\n",
    "    model = Sequential()\n",
    "    model.add(Dense(10, input_dim=X.shape[1], activation='relu'))\n",
    "    model.add(Dense(1))\n",
    "    \n",
    "    model.compile(loss='mean_squared_error', optimizer=optimizer)\n",
    "    return model\n",
    "\n",
    "\n",
    "def build_model_2(optimizer='adam'):\n",
    "    model = Sequential()\n",
    "    model.add(Dense(10, input_dim=X.shape[1], activation='relu'))\n",
    "    model.add(Dense(10, activation='relu'))\n",
    "    model.add(Dense(1))\n",
    "    \n",
    "    model.compile(loss='mean_squared_error', optimizer=optimizer)\n",
    "    return model\n",
    "\n",
    "def build_model_3(optimizer='adam'):\n",
    "    model = Sequential()\n",
    "    model.add(Dense(10, input_dim=X.shape[1], activation='relu'))\n",
    "    model.add(Dense(10, activation='relu'))\n",
    "    model.add(Dense(10, activation='relu'))\n",
    "    model.add(Dense(1))\n",
    "    \n",
    "    model.compile(loss='mean_squared_error', optimizer=optimizer)\n",
    "    return model"
   ]
  },
  {
   "cell_type": "code",
   "execution_count": 5,
   "id": "ed4c4fb6",
   "metadata": {},
   "outputs": [
    {
     "name": "stderr",
     "output_type": "stream",
     "text": [
      "C:\\Users\\lvcie\\AppData\\Local\\Temp\\ipykernel_5904\\699252742.py:10: DeprecationWarning: KerasRegressor is deprecated, use Sci-Keras (https://github.com/adriangb/scikeras) instead. See https://www.adriangb.com/scikeras/stable/migration.html for help migrating.\n",
      "  regressor = KerasRegressor(build_fn=models[i], epochs=100, batch_size=50, verbose=0, shuffle=False)\n",
      "C:\\Users\\lvcie\\AppData\\Local\\Temp\\ipykernel_5904\\699252742.py:10: DeprecationWarning: KerasRegressor is deprecated, use Sci-Keras (https://github.com/adriangb/scikeras) instead. See https://www.adriangb.com/scikeras/stable/migration.html for help migrating.\n",
      "  regressor = KerasRegressor(build_fn=models[i], epochs=100, batch_size=50, verbose=0, shuffle=False)\n",
      "C:\\Users\\lvcie\\AppData\\Local\\Temp\\ipykernel_5904\\699252742.py:10: DeprecationWarning: KerasRegressor is deprecated, use Sci-Keras (https://github.com/adriangb/scikeras) instead. See https://www.adriangb.com/scikeras/stable/migration.html for help migrating.\n",
      "  regressor = KerasRegressor(build_fn=models[i], epochs=100, batch_size=50, verbose=0, shuffle=False)\n"
     ]
    }
   ],
   "source": [
    "seed = 1\n",
    "np.random.seed(seed)\n",
    "random.set_seed(seed)\n",
    "\n",
    "n_folds = 5\n",
    "results_1 = []\n",
    "\n",
    "models = [build_model_1, build_model_2, build_model_3]\n",
    "for i in range(len(models)):\n",
    "    regressor = KerasRegressor(build_fn=models[i], epochs=100, batch_size=50, verbose=0, shuffle=False)\n",
    "    model = make_pipeline(StandardScaler(), regressor)\n",
    "    kfold = KFold(n_splits=n_folds, shuffle=True, random_state=seed)\n",
    "    result = cross_val_score(model, X, y, cv=kfold)\n",
    "    \n",
    "    results_1.append(result)"
   ]
  },
  {
   "cell_type": "code",
   "execution_count": 6,
   "id": "93583cba",
   "metadata": {},
   "outputs": [
    {
     "name": "stdout",
     "output_type": "stream",
     "text": [
      "Model  1  test error rate =  25.703342056274415\n",
      "Model  2  test error rate =  25.08009262084961\n",
      "Model  3  test error rate =  25.369020843505858\n"
     ]
    }
   ],
   "source": [
    "for i in range(len(models)):\n",
    "    print('Model ', i+1, ' test error rate = ', abs(results_1[i].mean()))"
   ]
  },
  {
   "cell_type": "code",
   "execution_count": 7,
   "id": "48cf9b8e",
   "metadata": {},
   "outputs": [
    {
     "name": "stderr",
     "output_type": "stream",
     "text": [
      "C:\\Users\\lvcie\\AppData\\Local\\Temp\\ipykernel_5904\\4017236831.py:11: DeprecationWarning: KerasRegressor is deprecated, use Sci-Keras (https://github.com/adriangb/scikeras) instead. See https://www.adriangb.com/scikeras/stable/migration.html for help migrating.\n",
      "  regressor = KerasRegressor(build_fn=build_model_2, epochs=epochs[i], batch_size=batches[j], verbose=0, shuffle=False)\n",
      "C:\\Users\\lvcie\\AppData\\Local\\Temp\\ipykernel_5904\\4017236831.py:11: DeprecationWarning: KerasRegressor is deprecated, use Sci-Keras (https://github.com/adriangb/scikeras) instead. See https://www.adriangb.com/scikeras/stable/migration.html for help migrating.\n",
      "  regressor = KerasRegressor(build_fn=build_model_2, epochs=epochs[i], batch_size=batches[j], verbose=0, shuffle=False)\n",
      "C:\\Users\\lvcie\\AppData\\Local\\Temp\\ipykernel_5904\\4017236831.py:11: DeprecationWarning: KerasRegressor is deprecated, use Sci-Keras (https://github.com/adriangb/scikeras) instead. See https://www.adriangb.com/scikeras/stable/migration.html for help migrating.\n",
      "  regressor = KerasRegressor(build_fn=build_model_2, epochs=epochs[i], batch_size=batches[j], verbose=0, shuffle=False)\n",
      "C:\\Users\\lvcie\\AppData\\Local\\Temp\\ipykernel_5904\\4017236831.py:11: DeprecationWarning: KerasRegressor is deprecated, use Sci-Keras (https://github.com/adriangb/scikeras) instead. See https://www.adriangb.com/scikeras/stable/migration.html for help migrating.\n",
      "  regressor = KerasRegressor(build_fn=build_model_2, epochs=epochs[i], batch_size=batches[j], verbose=0, shuffle=False)\n"
     ]
    }
   ],
   "source": [
    "np.random.seed(seed)\n",
    "random.set_seed(seed)\n",
    "\n",
    "n_folds = 5\n",
    "results_2 = []\n",
    "\n",
    "epochs = [80, 100]\n",
    "batches = [50, 25]\n",
    "for i in range(len(epochs)):\n",
    "    for j in range(len(batches)):\n",
    "        regressor = KerasRegressor(build_fn=build_model_2, epochs=epochs[i], batch_size=batches[j], verbose=0, shuffle=False)\n",
    "        \n",
    "        model = make_pipeline(StandardScaler(), regressor)\n",
    "        kfold = KFold(n_splits=n_folds, shuffle=True, random_state=seed)\n",
    "        \n",
    "        result = cross_val_score(model, X, y, cv=kfold)\n",
    "        results_2.append(result)"
   ]
  },
  {
   "cell_type": "code",
   "execution_count": 8,
   "id": "c45d1c24",
   "metadata": {},
   "outputs": [
    {
     "name": "stdout",
     "output_type": "stream",
     "text": [
      "batch_size =  50 , epochs =  80 , Test error rate =  25.0495964050293\n",
      "batch_size =  25 , epochs =  80 , Test error rate =  25.218992233276367\n",
      "batch_size =  50 , epochs =  100 , Test error rate =  25.040423965454103\n",
      "batch_size =  25 , epochs =  100 , Test error rate =  25.148497009277342\n"
     ]
    }
   ],
   "source": [
    "c = 0\n",
    "for i in range(len(epochs)):\n",
    "    for j in range(len(batches)):\n",
    "        print('batch_size = ', batches[j], ', epochs = ', epochs[i], ', Test error rate = ', abs(results_2[c].mean()))\n",
    "        c += 1"
   ]
  },
  {
   "cell_type": "code",
   "execution_count": 10,
   "id": "b4feb1c4",
   "metadata": {},
   "outputs": [
    {
     "name": "stderr",
     "output_type": "stream",
     "text": [
      "C:\\Users\\lvcie\\AppData\\Local\\Temp\\ipykernel_5904\\1347920336.py:10: DeprecationWarning: KerasRegressor is deprecated, use Sci-Keras (https://github.com/adriangb/scikeras) instead. See https://www.adriangb.com/scikeras/stable/migration.html for help migrating.\n",
      "  regressor = KerasRegressor(build_fn=build_model_2, epochs=100, batch_size=50, verbose=0, shuffle=False)\n",
      "C:\\Users\\lvcie\\AppData\\Local\\Temp\\ipykernel_5904\\1347920336.py:10: DeprecationWarning: KerasRegressor is deprecated, use Sci-Keras (https://github.com/adriangb/scikeras) instead. See https://www.adriangb.com/scikeras/stable/migration.html for help migrating.\n",
      "  regressor = KerasRegressor(build_fn=build_model_2, epochs=100, batch_size=50, verbose=0, shuffle=False)\n",
      "C:\\Users\\lvcie\\AppData\\Local\\Temp\\ipykernel_5904\\1347920336.py:10: DeprecationWarning: KerasRegressor is deprecated, use Sci-Keras (https://github.com/adriangb/scikeras) instead. See https://www.adriangb.com/scikeras/stable/migration.html for help migrating.\n",
      "  regressor = KerasRegressor(build_fn=build_model_2, epochs=100, batch_size=50, verbose=0, shuffle=False)\n"
     ]
    }
   ],
   "source": [
    "np.random.seed(seed)\n",
    "random.set_seed(seed)\n",
    "\n",
    "n_folds = 5\n",
    "results_3 = []\n",
    "\n",
    "optimizers = ['adam', 'sgd', 'rmsprop']\n",
    "for i in range(len(optimizers)):\n",
    "    optimizer = optimizers[i]\n",
    "    regressor = KerasRegressor(build_fn=build_model_2, epochs=100, batch_size=50, verbose=0, shuffle=False)\n",
    "    model = make_pipeline(StandardScaler(), regressor)\n",
    "    \n",
    "    kfold = KFold(n_splits=n_folds, shuffle=True, random_state=seed)\n",
    "    \n",
    "    result = cross_val_score(model, X, y, cv=kfold)\n",
    "    results_3.append(result)"
   ]
  },
  {
   "cell_type": "code",
   "execution_count": 11,
   "id": "18d58cc1",
   "metadata": {},
   "outputs": [
    {
     "name": "stdout",
     "output_type": "stream",
     "text": [
      "optimizer = adam  test error rate =  25.02235641479492\n",
      "optimizer = sgd  test error rate =  24.999475479125977\n",
      "optimizer = rmsprop  test error rate =  25.02812957763672\n"
     ]
    }
   ],
   "source": [
    " for i in range(len(optimizers)):\n",
    "        print('optimizer =', optimizers[i], ' test error rate = ', abs(results_3[i].mean()))"
   ]
  },
  {
   "cell_type": "code",
   "execution_count": null,
   "id": "8071017b",
   "metadata": {},
   "outputs": [],
   "source": []
  }
 ],
 "metadata": {
  "kernelspec": {
   "display_name": "Python 3 (ipykernel)",
   "language": "python",
   "name": "python3"
  },
  "language_info": {
   "codemirror_mode": {
    "name": "ipython",
    "version": 3
   },
   "file_extension": ".py",
   "mimetype": "text/x-python",
   "name": "python",
   "nbconvert_exporter": "python",
   "pygments_lexer": "ipython3",
   "version": "3.10.10"
  }
 },
 "nbformat": 4,
 "nbformat_minor": 5
}
