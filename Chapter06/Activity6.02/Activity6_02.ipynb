{
 "cells": [
  {
   "cell_type": "code",
   "execution_count": 1,
   "id": "5828eb5d",
   "metadata": {},
   "outputs": [],
   "source": [
    "import numpy as np\n",
    "import pandas as pd\n",
    "from tensorflow import random\n",
    "\n",
    "X = pd.read_csv('../data/aps_failure_training_feats.csv')\n",
    "y = pd.read_csv('../data/aps_failure_training_target.csv')"
   ]
  },
  {
   "cell_type": "code",
   "execution_count": 2,
   "id": "d92e8bd2",
   "metadata": {},
   "outputs": [],
   "source": [
    "from sklearn.model_selection import train_test_split\n",
    "seed = 42\n",
    "X_train, X_test, y_train, y_test = train_test_split(X, y, test_size=0.2, random_state=seed)"
   ]
  },
  {
   "cell_type": "code",
   "execution_count": 3,
   "id": "37c4832d",
   "metadata": {},
   "outputs": [],
   "source": [
    "from sklearn.preprocessing import StandardScaler\n",
    "sc = StandardScaler()\n",
    "\n",
    "X_train = sc.fit_transform(X_train)\n",
    "X_train = pd.DataFrame(X_train, columns=X_test.columns)\n",
    "\n",
    "X_test = sc.transform(X_test)\n",
    "X_test = pd.DataFrame(X_test, columns=X_train.columns)"
   ]
  },
  {
   "cell_type": "code",
   "execution_count": 4,
   "id": "7eea66ed",
   "metadata": {},
   "outputs": [],
   "source": [
    "from keras.models import Sequential\n",
    "from keras.layers import Dense\n",
    "from keras.layers import Dropout\n",
    "\n",
    "random.set_seed(seed)\n",
    "np.random.seed(seed)\n",
    "\n",
    "model = Sequential()\n",
    "model.add(Dense(4, activation='relu', kernel_initializer='uniform', input_dim=X_train.shape[1]))\n",
    "model.add(Dropout(0.5))\n",
    "model.add(Dense(32, activation='relu', kernel_initializer='uniform'))\n",
    "model.add(Dropout(0.4))\n",
    "model.add(Dense(16, activation='relu', kernel_initializer='uniform'))\n",
    "model.add(Dropout(0.3))\n",
    "model.add(Dense(8, activation='relu', kernel_initializer='uniform'))\n",
    "model.add(Dropout(0.2))\n",
    "model.add(Dense(4, activation='relu', kernel_initializer='uniform'))\n",
    "model.add(Dropout(0.1))\n",
    "\n",
    "model.add(Dense(1, activation='sigmoid', kernel_initializer='uniform'))\n",
    "\n",
    "model.compile(optimizer='adam', loss='binary_crossentropy', metrics=['accuracy'])"
   ]
  },
  {
   "cell_type": "code",
   "execution_count": 5,
   "id": "ec038b10",
   "metadata": {},
   "outputs": [
    {
     "name": "stdout",
     "output_type": "stream",
     "text": [
      "Epoch 1/100\n",
      "1920/1920 [==============================] - 4s 2ms/step - loss: 0.1087 - accuracy: 0.9833 - val_loss: 0.0465 - val_accuracy: 0.9842\n",
      "Epoch 2/100\n",
      "1920/1920 [==============================] - 3s 2ms/step - loss: 0.0640 - accuracy: 0.9834 - val_loss: 0.0442 - val_accuracy: 0.9842\n",
      "Epoch 3/100\n",
      "1920/1920 [==============================] - 4s 2ms/step - loss: 0.0610 - accuracy: 0.9834 - val_loss: 0.0433 - val_accuracy: 0.9842\n",
      "Epoch 4/100\n",
      "1920/1920 [==============================] - 5s 3ms/step - loss: 0.0600 - accuracy: 0.9834 - val_loss: 0.0437 - val_accuracy: 0.9842\n",
      "Epoch 5/100\n",
      "1920/1920 [==============================] - 3s 2ms/step - loss: 0.0603 - accuracy: 0.9834 - val_loss: 0.0444 - val_accuracy: 0.9842\n",
      "Epoch 6/100\n",
      "1920/1920 [==============================] - 4s 2ms/step - loss: 0.0568 - accuracy: 0.9834 - val_loss: 0.0473 - val_accuracy: 0.9842\n",
      "Epoch 7/100\n",
      "1920/1920 [==============================] - 3s 2ms/step - loss: 0.0594 - accuracy: 0.9834 - val_loss: 0.0447 - val_accuracy: 0.9842\n",
      "Epoch 8/100\n",
      "1920/1920 [==============================] - 5s 2ms/step - loss: 0.0574 - accuracy: 0.9834 - val_loss: 0.0467 - val_accuracy: 0.9842\n",
      "Epoch 9/100\n",
      "1920/1920 [==============================] - 3s 2ms/step - loss: 0.0560 - accuracy: 0.9834 - val_loss: 0.0532 - val_accuracy: 0.9842\n",
      "Epoch 10/100\n",
      "1920/1920 [==============================] - 4s 2ms/step - loss: 0.0552 - accuracy: 0.9834 - val_loss: 0.0476 - val_accuracy: 0.9842\n",
      "Epoch 11/100\n",
      "1920/1920 [==============================] - 3s 2ms/step - loss: 0.0555 - accuracy: 0.9834 - val_loss: 0.0463 - val_accuracy: 0.9842\n",
      "Epoch 12/100\n",
      "1920/1920 [==============================] - 4s 2ms/step - loss: 0.0560 - accuracy: 0.9834 - val_loss: 0.0483 - val_accuracy: 0.9842\n",
      "Epoch 13/100\n",
      "1920/1920 [==============================] - 3s 2ms/step - loss: 0.0550 - accuracy: 0.9834 - val_loss: 0.0486 - val_accuracy: 0.9842\n",
      "Epoch 14/100\n",
      "1920/1920 [==============================] - 4s 2ms/step - loss: 0.0536 - accuracy: 0.9834 - val_loss: 0.0461 - val_accuracy: 0.9842\n",
      "Epoch 15/100\n",
      "1920/1920 [==============================] - 3s 2ms/step - loss: 0.0544 - accuracy: 0.9834 - val_loss: 0.0438 - val_accuracy: 0.9842\n",
      "Epoch 16/100\n",
      "1920/1920 [==============================] - 4s 2ms/step - loss: 0.0536 - accuracy: 0.9834 - val_loss: 0.0472 - val_accuracy: 0.9842\n",
      "Epoch 17/100\n",
      "1920/1920 [==============================] - 4s 2ms/step - loss: 0.0549 - accuracy: 0.9834 - val_loss: 0.0514 - val_accuracy: 0.9842\n",
      "Epoch 18/100\n",
      "1920/1920 [==============================] - 4s 2ms/step - loss: 0.0548 - accuracy: 0.9834 - val_loss: 0.0470 - val_accuracy: 0.9842\n",
      "Epoch 19/100\n",
      "1920/1920 [==============================] - 4s 2ms/step - loss: 0.0539 - accuracy: 0.9834 - val_loss: 0.0458 - val_accuracy: 0.9842\n",
      "Epoch 20/100\n",
      "1920/1920 [==============================] - 3s 2ms/step - loss: 0.0555 - accuracy: 0.9834 - val_loss: 0.0475 - val_accuracy: 0.9842\n",
      "Epoch 21/100\n",
      "1920/1920 [==============================] - 4s 2ms/step - loss: 0.0537 - accuracy: 0.9834 - val_loss: 0.0511 - val_accuracy: 0.9842\n",
      "Epoch 22/100\n",
      "1920/1920 [==============================] - 3s 2ms/step - loss: 0.0530 - accuracy: 0.9834 - val_loss: 0.0454 - val_accuracy: 0.9842\n",
      "Epoch 23/100\n",
      "1920/1920 [==============================] - 4s 2ms/step - loss: 0.0539 - accuracy: 0.9834 - val_loss: 0.0520 - val_accuracy: 0.9842\n",
      "Epoch 24/100\n",
      "1920/1920 [==============================] - 3s 2ms/step - loss: 0.0540 - accuracy: 0.9834 - val_loss: 0.0447 - val_accuracy: 0.9842\n",
      "Epoch 25/100\n",
      "1920/1920 [==============================] - 4s 2ms/step - loss: 0.0545 - accuracy: 0.9834 - val_loss: 0.0494 - val_accuracy: 0.9842\n",
      "Epoch 26/100\n",
      "1920/1920 [==============================] - 3s 2ms/step - loss: 0.0545 - accuracy: 0.9834 - val_loss: 0.0487 - val_accuracy: 0.9842\n",
      "Epoch 27/100\n",
      "1920/1920 [==============================] - 4s 2ms/step - loss: 0.0535 - accuracy: 0.9834 - val_loss: 0.0464 - val_accuracy: 0.9842\n",
      "Epoch 28/100\n",
      "1920/1920 [==============================] - 3s 2ms/step - loss: 0.0535 - accuracy: 0.9834 - val_loss: 0.0499 - val_accuracy: 0.9842\n",
      "Epoch 29/100\n",
      "1920/1920 [==============================] - 4s 2ms/step - loss: 0.0538 - accuracy: 0.9834 - val_loss: 0.0487 - val_accuracy: 0.9842\n",
      "Epoch 30/100\n",
      "1920/1920 [==============================] - 4s 2ms/step - loss: 0.0539 - accuracy: 0.9834 - val_loss: 0.0498 - val_accuracy: 0.9842\n",
      "Epoch 31/100\n",
      "1920/1920 [==============================] - 4s 2ms/step - loss: 0.0541 - accuracy: 0.9834 - val_loss: 0.0510 - val_accuracy: 0.9842\n",
      "Epoch 32/100\n",
      "1920/1920 [==============================] - 4s 2ms/step - loss: 0.0529 - accuracy: 0.9834 - val_loss: 0.0515 - val_accuracy: 0.9842\n",
      "Epoch 33/100\n",
      "1920/1920 [==============================] - 4s 2ms/step - loss: 0.0528 - accuracy: 0.9834 - val_loss: 0.0521 - val_accuracy: 0.9842\n",
      "Epoch 34/100\n",
      "1920/1920 [==============================] - 4s 2ms/step - loss: 0.0542 - accuracy: 0.9834 - val_loss: 0.0460 - val_accuracy: 0.9842\n",
      "Epoch 35/100\n",
      "1920/1920 [==============================] - 4s 2ms/step - loss: 0.0533 - accuracy: 0.9834 - val_loss: 0.0499 - val_accuracy: 0.9842\n",
      "Epoch 36/100\n",
      "1920/1920 [==============================] - 4s 2ms/step - loss: 0.0534 - accuracy: 0.9834 - val_loss: 0.0506 - val_accuracy: 0.9842\n",
      "Epoch 37/100\n",
      "1920/1920 [==============================] - 4s 2ms/step - loss: 0.0546 - accuracy: 0.9834 - val_loss: 0.0500 - val_accuracy: 0.9842\n",
      "Epoch 38/100\n",
      "1920/1920 [==============================] - 4s 2ms/step - loss: 0.0540 - accuracy: 0.9834 - val_loss: 0.0545 - val_accuracy: 0.9842\n",
      "Epoch 39/100\n",
      "1920/1920 [==============================] - 4s 2ms/step - loss: 0.0535 - accuracy: 0.9834 - val_loss: 0.0570 - val_accuracy: 0.9842\n",
      "Epoch 40/100\n",
      "1920/1920 [==============================] - 4s 2ms/step - loss: 0.0537 - accuracy: 0.9834 - val_loss: 0.0612 - val_accuracy: 0.9842\n",
      "Epoch 41/100\n",
      "1920/1920 [==============================] - 4s 2ms/step - loss: 0.0535 - accuracy: 0.9834 - val_loss: 0.0609 - val_accuracy: 0.9842\n",
      "Epoch 42/100\n",
      "1920/1920 [==============================] - 4s 2ms/step - loss: 0.0553 - accuracy: 0.9834 - val_loss: 0.0523 - val_accuracy: 0.9842\n",
      "Epoch 43/100\n",
      "1920/1920 [==============================] - 4s 2ms/step - loss: 0.0532 - accuracy: 0.9834 - val_loss: 0.0583 - val_accuracy: 0.9842\n",
      "Epoch 44/100\n",
      "1920/1920 [==============================] - 4s 2ms/step - loss: 0.0550 - accuracy: 0.9834 - val_loss: 0.0447 - val_accuracy: 0.9842\n",
      "Epoch 45/100\n",
      "1920/1920 [==============================] - 4s 2ms/step - loss: 0.0523 - accuracy: 0.9834 - val_loss: 0.0561 - val_accuracy: 0.9842\n",
      "Epoch 46/100\n",
      "1920/1920 [==============================] - 4s 2ms/step - loss: 0.0542 - accuracy: 0.9834 - val_loss: 0.0549 - val_accuracy: 0.9842\n",
      "Epoch 47/100\n",
      "1920/1920 [==============================] - 4s 2ms/step - loss: 0.0527 - accuracy: 0.9834 - val_loss: 0.0519 - val_accuracy: 0.9842\n",
      "Epoch 48/100\n",
      "1920/1920 [==============================] - 4s 2ms/step - loss: 0.0547 - accuracy: 0.9834 - val_loss: 0.0452 - val_accuracy: 0.9842\n",
      "Epoch 49/100\n",
      "1920/1920 [==============================] - 4s 2ms/step - loss: 0.0541 - accuracy: 0.9834 - val_loss: 0.0540 - val_accuracy: 0.9842\n",
      "Epoch 50/100\n",
      "1920/1920 [==============================] - 4s 2ms/step - loss: 0.0557 - accuracy: 0.9834 - val_loss: 0.0502 - val_accuracy: 0.9842\n",
      "Epoch 51/100\n",
      "1920/1920 [==============================] - 4s 2ms/step - loss: 0.0532 - accuracy: 0.9834 - val_loss: 0.0564 - val_accuracy: 0.9842\n",
      "Epoch 52/100\n",
      "1920/1920 [==============================] - 3s 2ms/step - loss: 0.0529 - accuracy: 0.9834 - val_loss: 0.0482 - val_accuracy: 0.9842\n",
      "Epoch 53/100\n",
      "1920/1920 [==============================] - 4s 2ms/step - loss: 0.0534 - accuracy: 0.9834 - val_loss: 0.0458 - val_accuracy: 0.9842\n",
      "Epoch 54/100\n",
      "1920/1920 [==============================] - 3s 2ms/step - loss: 0.0530 - accuracy: 0.9834 - val_loss: 0.0578 - val_accuracy: 0.9842\n",
      "Epoch 55/100\n",
      "1920/1920 [==============================] - 4s 2ms/step - loss: 0.0523 - accuracy: 0.9834 - val_loss: 0.0580 - val_accuracy: 0.9842\n",
      "Epoch 56/100\n",
      "1920/1920 [==============================] - 3s 2ms/step - loss: 0.0528 - accuracy: 0.9834 - val_loss: 0.0543 - val_accuracy: 0.9842\n",
      "Epoch 57/100\n"
     ]
    },
    {
     "name": "stdout",
     "output_type": "stream",
     "text": [
      "1920/1920 [==============================] - 4s 2ms/step - loss: 0.0535 - accuracy: 0.9834 - val_loss: 0.0573 - val_accuracy: 0.9842\n",
      "Epoch 58/100\n",
      "1920/1920 [==============================] - 3s 2ms/step - loss: 0.0532 - accuracy: 0.9834 - val_loss: 0.0478 - val_accuracy: 0.9842\n",
      "Epoch 59/100\n",
      "1920/1920 [==============================] - 4s 2ms/step - loss: 0.0542 - accuracy: 0.9834 - val_loss: 0.0581 - val_accuracy: 0.9842\n",
      "Epoch 60/100\n",
      "1920/1920 [==============================] - 3s 2ms/step - loss: 0.0531 - accuracy: 0.9834 - val_loss: 0.0549 - val_accuracy: 0.9842\n",
      "Epoch 61/100\n",
      "1920/1920 [==============================] - 4s 2ms/step - loss: 0.0542 - accuracy: 0.9834 - val_loss: 0.0558 - val_accuracy: 0.9842\n",
      "Epoch 62/100\n",
      "1920/1920 [==============================] - 3s 2ms/step - loss: 0.0525 - accuracy: 0.9834 - val_loss: 0.0547 - val_accuracy: 0.9842\n",
      "Epoch 63/100\n",
      "1920/1920 [==============================] - 4s 2ms/step - loss: 0.0540 - accuracy: 0.9834 - val_loss: 0.0472 - val_accuracy: 0.9842\n",
      "Epoch 64/100\n",
      "1920/1920 [==============================] - 3s 2ms/step - loss: 0.0539 - accuracy: 0.9834 - val_loss: 0.0524 - val_accuracy: 0.9842\n",
      "Epoch 65/100\n",
      "1920/1920 [==============================] - 4s 2ms/step - loss: 0.0521 - accuracy: 0.9834 - val_loss: 0.0557 - val_accuracy: 0.9842\n",
      "Epoch 66/100\n",
      "1920/1920 [==============================] - 3s 2ms/step - loss: 0.0524 - accuracy: 0.9834 - val_loss: 0.0571 - val_accuracy: 0.9842\n",
      "Epoch 67/100\n",
      "1920/1920 [==============================] - 4s 2ms/step - loss: 0.0549 - accuracy: 0.9834 - val_loss: 0.0572 - val_accuracy: 0.9842\n",
      "Epoch 68/100\n",
      "1920/1920 [==============================] - 4s 2ms/step - loss: 0.0535 - accuracy: 0.9834 - val_loss: 0.0633 - val_accuracy: 0.9842\n",
      "Epoch 69/100\n",
      "1920/1920 [==============================] - 4s 2ms/step - loss: 0.0539 - accuracy: 0.9834 - val_loss: 0.0518 - val_accuracy: 0.9842\n",
      "Epoch 70/100\n",
      "1920/1920 [==============================] - 3s 2ms/step - loss: 0.0533 - accuracy: 0.9834 - val_loss: 0.0614 - val_accuracy: 0.9842\n",
      "Epoch 71/100\n",
      "1920/1920 [==============================] - 4s 2ms/step - loss: 0.0530 - accuracy: 0.9834 - val_loss: 0.0556 - val_accuracy: 0.9842\n",
      "Epoch 72/100\n",
      "1920/1920 [==============================] - 4s 2ms/step - loss: 0.0540 - accuracy: 0.9834 - val_loss: 0.0518 - val_accuracy: 0.9842\n",
      "Epoch 73/100\n",
      "1920/1920 [==============================] - 4s 2ms/step - loss: 0.0531 - accuracy: 0.9834 - val_loss: 0.0665 - val_accuracy: 0.9842\n",
      "Epoch 74/100\n",
      "1920/1920 [==============================] - 4s 2ms/step - loss: 0.0535 - accuracy: 0.9834 - val_loss: 0.0629 - val_accuracy: 0.9842\n",
      "Epoch 75/100\n",
      "1920/1920 [==============================] - 3s 2ms/step - loss: 0.0538 - accuracy: 0.9834 - val_loss: 0.0579 - val_accuracy: 0.9842\n",
      "Epoch 76/100\n",
      "1920/1920 [==============================] - 4s 2ms/step - loss: 0.0534 - accuracy: 0.9834 - val_loss: 0.0542 - val_accuracy: 0.9842\n",
      "Epoch 77/100\n",
      "1920/1920 [==============================] - 4s 2ms/step - loss: 0.0521 - accuracy: 0.9834 - val_loss: 0.0557 - val_accuracy: 0.9842\n",
      "Epoch 78/100\n",
      "1920/1920 [==============================] - 4s 2ms/step - loss: 0.0532 - accuracy: 0.9834 - val_loss: 0.0592 - val_accuracy: 0.9842\n",
      "Epoch 79/100\n",
      "1920/1920 [==============================] - 3s 2ms/step - loss: 0.0530 - accuracy: 0.9834 - val_loss: 0.0597 - val_accuracy: 0.9842\n",
      "Epoch 80/100\n",
      "1920/1920 [==============================] - 4s 2ms/step - loss: 0.0536 - accuracy: 0.9834 - val_loss: 0.0580 - val_accuracy: 0.9842\n",
      "Epoch 81/100\n",
      "1920/1920 [==============================] - 4s 2ms/step - loss: 0.0519 - accuracy: 0.9834 - val_loss: 0.0745 - val_accuracy: 0.9842\n",
      "Epoch 82/100\n",
      "1920/1920 [==============================] - 4s 2ms/step - loss: 0.0533 - accuracy: 0.9834 - val_loss: 0.0694 - val_accuracy: 0.9842\n",
      "Epoch 83/100\n",
      "1920/1920 [==============================] - 3s 2ms/step - loss: 0.0531 - accuracy: 0.9834 - val_loss: 0.0729 - val_accuracy: 0.9842\n",
      "Epoch 84/100\n",
      "1920/1920 [==============================] - 4s 2ms/step - loss: 0.0546 - accuracy: 0.9834 - val_loss: 0.0595 - val_accuracy: 0.9842\n",
      "Epoch 85/100\n",
      "1920/1920 [==============================] - 4s 2ms/step - loss: 0.0526 - accuracy: 0.9834 - val_loss: 0.0561 - val_accuracy: 0.9842\n",
      "Epoch 86/100\n",
      "1920/1920 [==============================] - 4s 2ms/step - loss: 0.0525 - accuracy: 0.9834 - val_loss: 0.0753 - val_accuracy: 0.9842\n",
      "Epoch 87/100\n",
      "1920/1920 [==============================] - 3s 2ms/step - loss: 0.0559 - accuracy: 0.9834 - val_loss: 0.0660 - val_accuracy: 0.9842\n",
      "Epoch 88/100\n",
      "1920/1920 [==============================] - 4s 2ms/step - loss: 0.0534 - accuracy: 0.9834 - val_loss: 0.0631 - val_accuracy: 0.9842\n",
      "Epoch 89/100\n",
      "1920/1920 [==============================] - 3s 2ms/step - loss: 0.0528 - accuracy: 0.9834 - val_loss: 0.0647 - val_accuracy: 0.9842\n",
      "Epoch 90/100\n",
      "1920/1920 [==============================] - 4s 2ms/step - loss: 0.0545 - accuracy: 0.9834 - val_loss: 0.0623 - val_accuracy: 0.9842\n",
      "Epoch 91/100\n",
      "1920/1920 [==============================] - 4s 2ms/step - loss: 0.0546 - accuracy: 0.9834 - val_loss: 0.0665 - val_accuracy: 0.9842\n",
      "Epoch 92/100\n",
      "1920/1920 [==============================] - 4s 2ms/step - loss: 0.0522 - accuracy: 0.9834 - val_loss: 0.0624 - val_accuracy: 0.9842\n",
      "Epoch 93/100\n",
      "1920/1920 [==============================] - 3s 2ms/step - loss: 0.0520 - accuracy: 0.9834 - val_loss: 0.0700 - val_accuracy: 0.9842\n",
      "Epoch 94/100\n",
      "1920/1920 [==============================] - 4s 2ms/step - loss: 0.0523 - accuracy: 0.9834 - val_loss: 0.0774 - val_accuracy: 0.9842\n",
      "Epoch 95/100\n",
      "1920/1920 [==============================] - 4s 2ms/step - loss: 0.0541 - accuracy: 0.9834 - val_loss: 0.0540 - val_accuracy: 0.9842\n",
      "Epoch 96/100\n",
      "1920/1920 [==============================] - 4s 2ms/step - loss: 0.0532 - accuracy: 0.9834 - val_loss: 0.0604 - val_accuracy: 0.9842\n",
      "Epoch 97/100\n",
      "1920/1920 [==============================] - 3s 2ms/step - loss: 0.0531 - accuracy: 0.9834 - val_loss: 0.0635 - val_accuracy: 0.9842\n",
      "Epoch 98/100\n",
      "1920/1920 [==============================] - 4s 2ms/step - loss: 0.0540 - accuracy: 0.9834 - val_loss: 0.0597 - val_accuracy: 0.9842\n",
      "Epoch 99/100\n",
      "1920/1920 [==============================] - 4s 2ms/step - loss: 0.0545 - accuracy: 0.9834 - val_loss: 0.0690 - val_accuracy: 0.9842\n",
      "Epoch 100/100\n",
      "1920/1920 [==============================] - 4s 2ms/step - loss: 0.0526 - accuracy: 0.9834 - val_loss: 0.0614 - val_accuracy: 0.9842\n"
     ]
    },
    {
     "data": {
      "text/plain": [
       "<keras.callbacks.History at 0x208c1107ee0>"
      ]
     },
     "execution_count": 5,
     "metadata": {},
     "output_type": "execute_result"
    }
   ],
   "source": [
    "model.fit(X_train, y_train, epochs=100, batch_size=20, verbose=1, validation_split=0.2, shuffle=False)"
   ]
  },
  {
   "cell_type": "code",
   "execution_count": 6,
   "id": "a3a957db",
   "metadata": {},
   "outputs": [
    {
     "name": "stdout",
     "output_type": "stream",
     "text": [
      "375/375 [==============================] - 1s 1ms/step\n"
     ]
    }
   ],
   "source": [
    "y_pred = model.predict(X_test)"
   ]
  },
  {
   "cell_type": "markdown",
   "id": "07a5f0e1",
   "metadata": {},
   "source": [
    "Calculating ROC Curve"
   ]
  },
  {
   "cell_type": "code",
   "execution_count": 7,
   "id": "388dffd8",
   "metadata": {},
   "outputs": [],
   "source": [
    "from sklearn.metrics import roc_curve\n",
    "fpr, tpr, thresholds = roc_curve(y_test, y_pred)"
   ]
  },
  {
   "cell_type": "code",
   "execution_count": 9,
   "id": "2f5eaaf5",
   "metadata": {},
   "outputs": [
    {
     "data": {
      "image/png": "[encoded data removed]",
      "text/plain": [
       "<Figure size 640x480 with 1 Axes>"
      ]
     },
     "metadata": {},
     "output_type": "display_data"
    }
   ],
   "source": [
    "import matplotlib.pyplot as plt\n",
    "plt.plot(fpr, tpr)\n",
    "plt.title('ROC Curve for APS Failure')\n",
    "plt.xlabel('False Positive Rate (1 - Specificity)')\n",
    "plt.ylabel('True Positive Rate (Sensitivity)')\n",
    "plt.grid(True)\n",
    "plt.show()"
   ]
  },
  {
   "cell_type": "code",
   "execution_count": 11,
   "id": "b4edfee7",
   "metadata": {},
   "outputs": [
    {
     "data": {
      "text/plain": [
       "0.9647514901626855"
      ]
     },
     "execution_count": 11,
     "metadata": {},
     "output_type": "execute_result"
    }
   ],
   "source": [
    "from sklearn.metrics import roc_auc_score\n",
    "roc_auc_score(y_test, y_pred)"
   ]
  },
  {
   "cell_type": "code",
   "execution_count": null,
   "id": "f4a04c75",
   "metadata": {},
   "outputs": [],
   "source": []
  }
 ],
 "metadata": {
  "kernelspec": {
   "display_name": "Python 3 (ipykernel)",
   "language": "python",
   "name": "python3"
  },
  "language_info": {
   "codemirror_mode": {
    "name": "ipython",
    "version": 3
   },
   "file_extension": ".py",
   "mimetype": "text/x-python",
   "name": "python",
   "nbconvert_exporter": "python",
   "pygments_lexer": "ipython3",
   "version": "3.10.10"
  }
 },
 "nbformat": 4,
 "nbformat_minor": 5
}
