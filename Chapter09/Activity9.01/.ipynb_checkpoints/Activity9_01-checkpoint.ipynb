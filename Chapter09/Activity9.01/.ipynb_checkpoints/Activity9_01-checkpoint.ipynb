{
 "cells": [
  {
   "cell_type": "code",
   "execution_count": 1,
   "id": "600ecc40",
   "metadata": {},
   "outputs": [],
   "source": [
    "import numpy as np\n",
    "import matplotlib.pyplot as plt\n",
    "import pandas as pd\n",
    "from tensorflow import random"
   ]
  },
  {
   "cell_type": "code",
   "execution_count": 2,
   "id": "02c99e65",
   "metadata": {},
   "outputs": [
    {
     "data": {
      "text/html": [
       "<div>\n",
       "<style scoped>\n",
       "    .dataframe tbody tr th:only-of-type {\n",
       "        vertical-align: middle;\n",
       "    }\n",
       "\n",
       "    .dataframe tbody tr th {\n",
       "        vertical-align: top;\n",
       "    }\n",
       "\n",
       "    .dataframe thead th {\n",
       "        text-align: right;\n",
       "    }\n",
       "</style>\n",
       "<table border=\"1\" class=\"dataframe\">\n",
       "  <thead>\n",
       "    <tr style=\"text-align: right;\">\n",
       "      <th></th>\n",
       "      <th>Date</th>\n",
       "      <th>Open</th>\n",
       "      <th>High</th>\n",
       "      <th>Low</th>\n",
       "      <th>Close</th>\n",
       "      <th>Adj Close</th>\n",
       "      <th>Volume</th>\n",
       "    </tr>\n",
       "  </thead>\n",
       "  <tbody>\n",
       "    <tr>\n",
       "      <th>0</th>\n",
       "      <td>2014-01-02</td>\n",
       "      <td>398.799988</td>\n",
       "      <td>399.359985</td>\n",
       "      <td>394.019989</td>\n",
       "      <td>397.970001</td>\n",
       "      <td>397.970001</td>\n",
       "      <td>2137800</td>\n",
       "    </tr>\n",
       "    <tr>\n",
       "      <th>1</th>\n",
       "      <td>2014-01-03</td>\n",
       "      <td>398.290009</td>\n",
       "      <td>402.709991</td>\n",
       "      <td>396.220001</td>\n",
       "      <td>396.440002</td>\n",
       "      <td>396.440002</td>\n",
       "      <td>2210200</td>\n",
       "    </tr>\n",
       "    <tr>\n",
       "      <th>2</th>\n",
       "      <td>2014-01-06</td>\n",
       "      <td>395.850006</td>\n",
       "      <td>397.000000</td>\n",
       "      <td>388.420013</td>\n",
       "      <td>393.630005</td>\n",
       "      <td>393.630005</td>\n",
       "      <td>3170600</td>\n",
       "    </tr>\n",
       "    <tr>\n",
       "      <th>3</th>\n",
       "      <td>2014-01-07</td>\n",
       "      <td>395.040009</td>\n",
       "      <td>398.470001</td>\n",
       "      <td>394.290009</td>\n",
       "      <td>398.029999</td>\n",
       "      <td>398.029999</td>\n",
       "      <td>1916000</td>\n",
       "    </tr>\n",
       "    <tr>\n",
       "      <th>4</th>\n",
       "      <td>2014-01-08</td>\n",
       "      <td>398.470001</td>\n",
       "      <td>403.000000</td>\n",
       "      <td>396.040009</td>\n",
       "      <td>401.920013</td>\n",
       "      <td>401.920013</td>\n",
       "      <td>2316500</td>\n",
       "    </tr>\n",
       "  </tbody>\n",
       "</table>\n",
       "</div>"
      ],
      "text/plain": [
       "         Date        Open        High         Low       Close   Adj Close  \\\n",
       "0  2014-01-02  398.799988  399.359985  394.019989  397.970001  397.970001   \n",
       "1  2014-01-03  398.290009  402.709991  396.220001  396.440002  396.440002   \n",
       "2  2014-01-06  395.850006  397.000000  388.420013  393.630005  393.630005   \n",
       "3  2014-01-07  395.040009  398.470001  394.290009  398.029999  398.029999   \n",
       "4  2014-01-08  398.470001  403.000000  396.040009  401.920013  401.920013   \n",
       "\n",
       "    Volume  \n",
       "0  2137800  \n",
       "1  2210200  \n",
       "2  3170600  \n",
       "3  1916000  \n",
       "4  2316500  "
      ]
     },
     "execution_count": 2,
     "metadata": {},
     "output_type": "execute_result"
    }
   ],
   "source": [
    "dataset_training = pd.read_csv('../AMZN_train.csv')\n",
    "dataset_training.head()"
   ]
  },
  {
   "cell_type": "code",
   "execution_count": 3,
   "id": "acc289ad",
   "metadata": {},
   "outputs": [
    {
     "data": {
      "text/plain": [
       "array([[ 398.799988],\n",
       "       [ 398.290009],\n",
       "       [ 395.850006],\n",
       "       ...,\n",
       "       [1454.199951],\n",
       "       [1473.349976],\n",
       "       [1510.800049]])"
      ]
     },
     "execution_count": 3,
     "metadata": {},
     "output_type": "execute_result"
    }
   ],
   "source": [
    "training_data = dataset_training[['Open']].values\n",
    "training_data"
   ]
  },
  {
   "cell_type": "code",
   "execution_count": 4,
   "id": "4000c550",
   "metadata": {},
   "outputs": [
    {
     "data": {
      "text/plain": [
       "array([[0.06523313],\n",
       "       [0.06494233],\n",
       "       [0.06355099],\n",
       "       ...,\n",
       "       [0.66704299],\n",
       "       [0.67796271],\n",
       "       [0.69931748]])"
      ]
     },
     "execution_count": 4,
     "metadata": {},
     "output_type": "execute_result"
    }
   ],
   "source": [
    "from sklearn.preprocessing import MinMaxScaler\n",
    "sc = MinMaxScaler(feature_range=(0, 1))\n",
    "training_data_scaled = sc.fit_transform(training_data)\n",
    "\n",
    "training_data_scaled"
   ]
  },
  {
   "cell_type": "code",
   "execution_count": 5,
   "id": "e24e3123",
   "metadata": {},
   "outputs": [],
   "source": [
    "X_train = []\n",
    "y_train = []\n",
    "\n",
    "for i in range(60, 1258):\n",
    "    X_train.append(training_data_scaled[i-60:i, 0])\n",
    "    y_train.append(training_data_scaled[i, 0])\n",
    "    \n",
    "X_train, y_train = np.array(X_train), np.array(y_train)"
   ]
  },
  {
   "cell_type": "code",
   "execution_count": 6,
   "id": "5c18645d",
   "metadata": {},
   "outputs": [
    {
     "data": {
      "text/plain": [
       "array([[[0.06523313],\n",
       "        [0.06494233],\n",
       "        [0.06355099],\n",
       "        ...,\n",
       "        [0.04147209],\n",
       "        [0.03350041],\n",
       "        [0.03173272]],\n",
       "\n",
       "       [[0.06494233],\n",
       "        [0.06355099],\n",
       "        [0.06308912],\n",
       "        ...,\n",
       "        [0.03350041],\n",
       "        [0.03173272],\n",
       "        [0.03307274]],\n",
       "\n",
       "       [[0.06355099],\n",
       "        [0.06308912],\n",
       "        [0.06504497],\n",
       "        ...,\n",
       "        [0.03173272],\n",
       "        [0.03307274],\n",
       "        [0.0306151 ]],\n",
       "\n",
       "       ...,\n",
       "\n",
       "       [[0.99080806],\n",
       "        [0.97826323],\n",
       "        [0.96783389],\n",
       "        ...,\n",
       "        [0.67319568],\n",
       "        [0.60534525],\n",
       "        [0.61839758]],\n",
       "\n",
       "       [[0.97826323],\n",
       "        [0.96783389],\n",
       "        [0.94918773],\n",
       "        ...,\n",
       "        [0.60534525],\n",
       "        [0.61839758],\n",
       "        [0.66704299]],\n",
       "\n",
       "       [[0.96783389],\n",
       "        [0.94918773],\n",
       "        [0.93150521],\n",
       "        ...,\n",
       "        [0.61839758],\n",
       "        [0.66704299],\n",
       "        [0.67796271]]])"
      ]
     },
     "execution_count": 6,
     "metadata": {},
     "output_type": "execute_result"
    }
   ],
   "source": [
    "X_train = np.reshape(X_train, (X_train.shape[0], X_train.shape[1], 1))\n",
    "X_train"
   ]
  },
  {
   "cell_type": "code",
   "execution_count": 7,
   "id": "738b45f2",
   "metadata": {},
   "outputs": [],
   "source": [
    "from keras.models import Sequential\n",
    "from keras.layers import Dense\n",
    "from keras.layers import LSTM\n",
    "from keras.layers import Dropout"
   ]
  },
  {
   "cell_type": "code",
   "execution_count": 8,
   "id": "fd10717a",
   "metadata": {},
   "outputs": [],
   "source": [
    "seed = 1\n",
    "np.random.seed(seed)\n",
    "random.set_seed(seed)\n",
    "\n",
    "model = Sequential()"
   ]
  },
  {
   "cell_type": "code",
   "execution_count": 9,
   "id": "7b64bc34",
   "metadata": {},
   "outputs": [],
   "source": [
    "model.add(LSTM(50, return_sequences=True, input_shape=(X_train.shape[1], 1)))\n",
    "model.add(LSTM(50, return_sequences=True))\n",
    "model.add(LSTM(50, return_sequences=True))\n",
    "model.add(LSTM(50))\n",
    "model.add(Dense(1))"
   ]
  },
  {
   "cell_type": "code",
   "execution_count": 10,
   "id": "096ab723",
   "metadata": {},
   "outputs": [
    {
     "name": "stdout",
     "output_type": "stream",
     "text": [
      "Epoch 1/100\n",
      "38/38 [==============================] - 23s 250ms/step - loss: 0.0202\n",
      "Epoch 2/100\n",
      "38/38 [==============================] - 9s 250ms/step - loss: 0.0013\n",
      "Epoch 3/100\n",
      "38/38 [==============================] - 9s 246ms/step - loss: 0.0010\n",
      "Epoch 4/100\n",
      "38/38 [==============================] - 10s 250ms/step - loss: 0.0012\n",
      "Epoch 5/100\n",
      "38/38 [==============================] - 9s 243ms/step - loss: 0.0010\n",
      "Epoch 6/100\n",
      "38/38 [==============================] - 9s 247ms/step - loss: 0.0010\n",
      "Epoch 7/100\n",
      "38/38 [==============================] - 10s 253ms/step - loss: 9.3751e-04\n",
      "Epoch 8/100\n",
      "38/38 [==============================] - 10s 251ms/step - loss: 8.9055e-04\n",
      "Epoch 9/100\n",
      "38/38 [==============================] - 10s 252ms/step - loss: 9.7839e-04\n",
      "Epoch 10/100\n",
      "38/38 [==============================] - 10s 254ms/step - loss: 0.0011\n",
      "Epoch 11/100\n",
      "38/38 [==============================] - 10s 260ms/step - loss: 8.5479e-04\n",
      "Epoch 12/100\n",
      "38/38 [==============================] - 10s 260ms/step - loss: 8.2619e-04\n",
      "Epoch 13/100\n",
      "38/38 [==============================] - 9s 249ms/step - loss: 7.5467e-04\n",
      "Epoch 14/100\n",
      "38/38 [==============================] - 10s 252ms/step - loss: 7.6597e-04\n",
      "Epoch 15/100\n",
      "38/38 [==============================] - 9s 248ms/step - loss: 8.4321e-04\n",
      "Epoch 16/100\n",
      "38/38 [==============================] - 10s 250ms/step - loss: 7.1133e-04\n",
      "Epoch 17/100\n",
      "38/38 [==============================] - 9s 250ms/step - loss: 8.5718e-04\n",
      "Epoch 18/100\n",
      "38/38 [==============================] - 9s 244ms/step - loss: 0.0010\n",
      "Epoch 19/100\n",
      "38/38 [==============================] - 10s 254ms/step - loss: 7.5488e-04\n",
      "Epoch 20/100\n",
      "38/38 [==============================] - 9s 248ms/step - loss: 8.5907e-04\n",
      "Epoch 21/100\n",
      "38/38 [==============================] - 10s 253ms/step - loss: 9.1790e-04\n",
      "Epoch 22/100\n",
      "38/38 [==============================] - 9s 250ms/step - loss: 6.7490e-04\n",
      "Epoch 23/100\n",
      "38/38 [==============================] - 9s 247ms/step - loss: 6.7601e-04\n",
      "Epoch 24/100\n",
      "38/38 [==============================] - 10s 252ms/step - loss: 6.4254e-04\n",
      "Epoch 25/100\n",
      "38/38 [==============================] - 9s 245ms/step - loss: 6.8437e-04\n",
      "Epoch 26/100\n",
      "38/38 [==============================] - 9s 247ms/step - loss: 5.9880e-04\n",
      "Epoch 27/100\n",
      "38/38 [==============================] - 9s 243ms/step - loss: 6.2143e-04\n",
      "Epoch 28/100\n",
      "38/38 [==============================] - 9s 245ms/step - loss: 6.4775e-04\n",
      "Epoch 29/100\n",
      "38/38 [==============================] - 10s 252ms/step - loss: 5.6837e-04\n",
      "Epoch 30/100\n",
      "38/38 [==============================] - 10s 250ms/step - loss: 8.1679e-04\n",
      "Epoch 31/100\n",
      "38/38 [==============================] - 10s 251ms/step - loss: 6.2166e-04\n",
      "Epoch 32/100\n",
      "38/38 [==============================] - 9s 244ms/step - loss: 5.5569e-04\n",
      "Epoch 33/100\n",
      "38/38 [==============================] - 11s 278ms/step - loss: 6.8444e-04\n",
      "Epoch 34/100\n",
      "38/38 [==============================] - 10s 251ms/step - loss: 5.9446e-04\n",
      "Epoch 35/100\n",
      "38/38 [==============================] - 9s 250ms/step - loss: 5.7185e-04\n",
      "Epoch 36/100\n",
      "38/38 [==============================] - 10s 251ms/step - loss: 6.3069e-04\n",
      "Epoch 37/100\n",
      "38/38 [==============================] - 9s 249ms/step - loss: 4.5276e-04\n",
      "Epoch 38/100\n",
      "38/38 [==============================] - 9s 247ms/step - loss: 6.0148e-04\n",
      "Epoch 39/100\n",
      "38/38 [==============================] - 9s 249ms/step - loss: 4.6073e-04\n",
      "Epoch 40/100\n",
      "38/38 [==============================] - 9s 243ms/step - loss: 4.7415e-04\n",
      "Epoch 41/100\n",
      "38/38 [==============================] - 9s 246ms/step - loss: 4.4298e-04\n",
      "Epoch 42/100\n",
      "38/38 [==============================] - 9s 240ms/step - loss: 4.1569e-04\n",
      "Epoch 43/100\n",
      "38/38 [==============================] - 9s 244ms/step - loss: 3.8972e-04\n",
      "Epoch 44/100\n",
      "38/38 [==============================] - 9s 243ms/step - loss: 3.0254e-04\n",
      "Epoch 45/100\n",
      "38/38 [==============================] - 9s 237ms/step - loss: 3.3417e-04\n",
      "Epoch 46/100\n",
      "38/38 [==============================] - 9s 246ms/step - loss: 3.8953e-04\n",
      "Epoch 47/100\n",
      "38/38 [==============================] - 9s 239ms/step - loss: 3.6526e-04\n",
      "Epoch 48/100\n",
      "38/38 [==============================] - 9s 245ms/step - loss: 2.8240e-04\n",
      "Epoch 49/100\n",
      "38/38 [==============================] - 9s 244ms/step - loss: 3.1864e-04\n",
      "Epoch 50/100\n",
      "38/38 [==============================] - 9s 247ms/step - loss: 2.6427e-04\n",
      "Epoch 51/100\n",
      "38/38 [==============================] - 10s 252ms/step - loss: 2.5026e-04\n",
      "Epoch 52/100\n",
      "38/38 [==============================] - 9s 241ms/step - loss: 2.8383e-04\n",
      "Epoch 53/100\n",
      "38/38 [==============================] - 9s 247ms/step - loss: 2.8546e-04\n",
      "Epoch 54/100\n",
      "38/38 [==============================] - 9s 244ms/step - loss: 2.5153e-04\n",
      "Epoch 55/100\n",
      "38/38 [==============================] - 9s 250ms/step - loss: 2.7585e-04\n",
      "Epoch 56/100\n",
      "38/38 [==============================] - 10s 251ms/step - loss: 2.3391e-04\n",
      "Epoch 57/100\n",
      "38/38 [==============================] - 10s 251ms/step - loss: 2.4034e-04\n",
      "Epoch 58/100\n",
      "38/38 [==============================] - 9s 244ms/step - loss: 2.4319e-04\n",
      "Epoch 59/100\n",
      "38/38 [==============================] - 9s 245ms/step - loss: 2.4315e-04\n",
      "Epoch 60/100\n",
      "38/38 [==============================] - 9s 249ms/step - loss: 2.4645e-04\n",
      "Epoch 61/100\n",
      "38/38 [==============================] - 9s 240ms/step - loss: 2.3778e-04\n",
      "Epoch 62/100\n",
      "38/38 [==============================] - 9s 240ms/step - loss: 2.2802e-04\n",
      "Epoch 63/100\n",
      "38/38 [==============================] - 9s 245ms/step - loss: 2.2692e-04\n",
      "Epoch 64/100\n",
      "38/38 [==============================] - 9s 239ms/step - loss: 2.2269e-04\n",
      "Epoch 65/100\n",
      "38/38 [==============================] - 9s 249ms/step - loss: 3.9920e-04\n",
      "Epoch 66/100\n",
      "38/38 [==============================] - 9s 239ms/step - loss: 3.2293e-04\n",
      "Epoch 67/100\n",
      "38/38 [==============================] - 9s 246ms/step - loss: 2.8015e-04\n",
      "Epoch 68/100\n",
      "38/38 [==============================] - 9s 243ms/step - loss: 2.4743e-04\n",
      "Epoch 69/100\n",
      "38/38 [==============================] - 9s 245ms/step - loss: 1.9478e-04\n",
      "Epoch 70/100\n",
      "38/38 [==============================] - 10s 252ms/step - loss: 2.2947e-04\n",
      "Epoch 71/100\n",
      "38/38 [==============================] - 9s 240ms/step - loss: 2.2557e-04\n",
      "Epoch 72/100\n",
      "38/38 [==============================] - 9s 248ms/step - loss: 1.8989e-04\n",
      "Epoch 73/100\n",
      "38/38 [==============================] - 9s 245ms/step - loss: 1.9410e-04\n",
      "Epoch 74/100\n",
      "38/38 [==============================] - 9s 248ms/step - loss: 2.6789e-04\n",
      "Epoch 75/100\n",
      "38/38 [==============================] - 10s 256ms/step - loss: 3.0219e-04\n",
      "Epoch 76/100\n",
      "38/38 [==============================] - 9s 242ms/step - loss: 2.0782e-04\n",
      "Epoch 77/100\n",
      "38/38 [==============================] - 9s 244ms/step - loss: 1.9898e-04\n",
      "Epoch 78/100\n",
      "38/38 [==============================] - 9s 240ms/step - loss: 2.0997e-04\n",
      "Epoch 79/100\n",
      "38/38 [==============================] - 9s 248ms/step - loss: 1.9157e-04\n",
      "Epoch 80/100\n",
      "38/38 [==============================] - 9s 240ms/step - loss: 2.2128e-04\n",
      "Epoch 81/100\n",
      "38/38 [==============================] - 9s 247ms/step - loss: 2.4739e-04\n",
      "Epoch 82/100\n",
      "38/38 [==============================] - 11s 279ms/step - loss: 1.9549e-04\n",
      "Epoch 83/100\n",
      "38/38 [==============================] - 9s 242ms/step - loss: 2.2840e-04\n",
      "Epoch 84/100\n",
      "38/38 [==============================] - 9s 249ms/step - loss: 2.0313e-04\n",
      "Epoch 85/100\n",
      "38/38 [==============================] - 13s 339ms/step - loss: 1.9796e-04\n",
      "Epoch 86/100\n",
      "38/38 [==============================] - 9s 243ms/step - loss: 2.0388e-04\n",
      "Epoch 87/100\n",
      "38/38 [==============================] - 10s 256ms/step - loss: 2.5023e-04\n",
      "Epoch 88/100\n",
      "38/38 [==============================] - 10s 254ms/step - loss: 2.4299e-04\n",
      "Epoch 89/100\n",
      "38/38 [==============================] - 9s 246ms/step - loss: 5.1058e-04\n",
      "Epoch 90/100\n",
      "38/38 [==============================] - 9s 250ms/step - loss: 2.5054e-04\n",
      "Epoch 91/100\n",
      "38/38 [==============================] - 9s 241ms/step - loss: 2.3112e-04\n",
      "Epoch 92/100\n",
      "38/38 [==============================] - 9s 247ms/step - loss: 2.3745e-04\n",
      "Epoch 93/100\n",
      "38/38 [==============================] - 9s 242ms/step - loss: 2.0328e-04\n",
      "Epoch 94/100\n",
      "38/38 [==============================] - 9s 247ms/step - loss: 4.5900e-04\n",
      "Epoch 95/100\n"
     ]
    },
    {
     "name": "stdout",
     "output_type": "stream",
     "text": [
      "38/38 [==============================] - 9s 246ms/step - loss: 2.6334e-04\n",
      "Epoch 96/100\n",
      "38/38 [==============================] - 9s 245ms/step - loss: 2.6616e-04\n",
      "Epoch 97/100\n",
      "38/38 [==============================] - 10s 253ms/step - loss: 2.1150e-04\n",
      "Epoch 98/100\n",
      "38/38 [==============================] - 9s 244ms/step - loss: 2.1476e-04\n",
      "Epoch 99/100\n",
      "38/38 [==============================] - 10s 251ms/step - loss: 1.8781e-04\n",
      "Epoch 100/100\n",
      "38/38 [==============================] - 9s 248ms/step - loss: 1.9118e-04\n"
     ]
    },
    {
     "data": {
      "text/plain": [
       "<keras.callbacks.History at 0x25814a00fd0>"
      ]
     },
     "execution_count": 10,
     "metadata": {},
     "output_type": "execute_result"
    }
   ],
   "source": [
    "model.compile(optimizer='adam', loss='mse')\n",
    "model.fit(X_train, y_train, epochs=100, batch_size=32)"
   ]
  },
  {
   "cell_type": "code",
   "execution_count": 11,
   "id": "3702bf54",
   "metadata": {},
   "outputs": [
    {
     "data": {
      "text/plain": [
       "array([[1465.199951],\n",
       "       [1520.01001 ],\n",
       "       [1530.      ],\n",
       "       [1602.310059],\n",
       "       [1664.689941],\n",
       "       [1652.97998 ],\n",
       "       [1641.01001 ],\n",
       "       [1640.550049],\n",
       "       [1615.      ],\n",
       "       [1632.      ],\n",
       "       [1684.219971],\n",
       "       [1680.      ],\n",
       "       [1712.      ],\n",
       "       [1681.      ],\n",
       "       [1656.      ],\n",
       "       [1641.069946],\n",
       "       [1670.5     ],\n",
       "       [1643.589966],\n",
       "       [1631.27002 ],\n",
       "       [1623.      ],\n",
       "       [1692.849976]])"
      ]
     },
     "execution_count": 11,
     "metadata": {},
     "output_type": "execute_result"
    }
   ],
   "source": [
    "dataset_testing = pd.read_csv('../AMZN_test.csv')\n",
    "actual_stock_price = dataset_testing[['Open']].values\n",
    "actual_stock_price"
   ]
  },
  {
   "cell_type": "code",
   "execution_count": 12,
   "id": "5dcfb459",
   "metadata": {},
   "outputs": [
    {
     "name": "stdout",
     "output_type": "stream",
     "text": [
      "1/1 [==============================] - 3s 3s/step\n"
     ]
    }
   ],
   "source": [
    "total_data = pd.concat((dataset_training['Open'], dataset_testing['Open']), axis = 0)\n",
    "inputs = total_data[len(total_data) - len(dataset_testing) - 60:].values\n",
    "inputs = inputs.reshape(-1,1)\n",
    "inputs = sc.transform(inputs)\n",
    "X_test = []\n",
    "for i in range(60, 81):\n",
    "    X_test.append(inputs[i-60:i, 0])\n",
    "X_test = np.array(X_test)\n",
    "X_test = np.reshape(X_test, (X_test.shape[0], X_test.shape[1], 1))\n",
    "predicted_stock_price = model.predict(X_test)\n",
    "predicted_stock_price = sc.inverse_transform(predicted_stock_price)"
   ]
  },
  {
   "cell_type": "code",
   "execution_count": 13,
   "id": "dec09de6",
   "metadata": {},
   "outputs": [
    {
     "data": {
      "image/png": "[encoded data removed]",
      "text/plain": [
       "<Figure size 640x480 with 1 Axes>"
      ]
     },
     "metadata": {},
     "output_type": "display_data"
    }
   ],
   "source": [
    "plt.plot(actual_stock_price, color = 'green', label = 'Real Amazon Stock Price',ls='--')\n",
    "plt.plot(predicted_stock_price, color = 'red', label = 'Predicted Amazon Stock Price',ls='-')\n",
    "plt.title('Predicted Stock Price')\n",
    "plt.xlabel('Time in days')\n",
    "plt.ylabel('Real Stock Price')\n",
    "plt.legend()\n",
    "plt.show()"
   ]
  },
  {
   "cell_type": "code",
   "execution_count": null,
   "id": "673d0525",
   "metadata": {},
   "outputs": [],
   "source": []
  }
 ],
 "metadata": {
  "kernelspec": {
   "display_name": "Python 3 (ipykernel)",
   "language": "python",
   "name": "python3"
  },
  "language_info": {
   "codemirror_mode": {
    "name": "ipython",
    "version": 3
   },
   "file_extension": ".py",
   "mimetype": "text/x-python",
   "name": "python",
   "nbconvert_exporter": "python",
   "pygments_lexer": "ipython3",
   "version": "3.10.10"
  }
 },
 "nbformat": 4,
 "nbformat_minor": 5
}
