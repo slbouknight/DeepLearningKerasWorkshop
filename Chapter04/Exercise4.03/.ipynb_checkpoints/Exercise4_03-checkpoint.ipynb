{
 "cells": [
  {
   "cell_type": "code",
   "execution_count": 1,
   "id": "4ab4d52a",
   "metadata": {},
   "outputs": [
    {
     "name": "stdout",
     "output_type": "stream",
     "text": [
      "Number of Examples in the Dataset =  908\n",
      "Number of Features for each example =  6\n",
      "Output Range = [0.053000, 9.612000]\n"
     ]
    }
   ],
   "source": [
    "import pandas as pd\n",
    "import numpy as np\n",
    "\n",
    "colnames = ['CIC0', 'SM1_Dz(Z)', 'GATS1i', 'NdsCH', 'NdssC','MLOGP', 'LC50']\n",
    "data = pd.read_csv('../data/qsar_fish_toxicity.csv', sep=';', names=colnames)\n",
    "X = data.drop('LC50', axis=1)\n",
    "y = data['LC50']\n",
    "\n",
    "print(\"Number of Examples in the Dataset = \", X.shape[0])\n",
    "print(\"Number of Features for each example = \", X.shape[1])\n",
    "\n",
    "print(\"Output Range = [%f, %f]\" %(min(y), max(y)))"
   ]
  },
  {
   "cell_type": "code",
   "execution_count": 2,
   "id": "8b03a003",
   "metadata": {},
   "outputs": [],
   "source": [
    "from keras.models import Sequential\n",
    "from keras.layers import Dense\n",
    "\n",
    "def build_model_1():\n",
    "    model = Sequential()\n",
    "    model.add(Dense(4, input_dim=X.shape[1], activation='relu'))\n",
    "    model.add(Dense(1))\n",
    "    \n",
    "    model.compile(loss='mse', optimizer='adam')\n",
    "    \n",
    "    return model\n",
    "\n",
    "def build_model_2():\n",
    "    model = Sequential()\n",
    "    model.add(Dense(8, input_dim=X.shape[1], activation='relu'))\n",
    "    model.add(Dense(2, activation='relu'))\n",
    "    model.add(Dense(1))\n",
    "    \n",
    "    model.compile(loss='mse', optimizer='adam')\n",
    "    \n",
    "    return model\n",
    "\n",
    "def build_model_3():\n",
    "    model = Sequential()\n",
    "    model.add(Dense(4, input_dim=X.shape[1], activation='relu'))\n",
    "    model.add(Dense(2, activation='relu'))\n",
    "    model.add(Dense(1))\n",
    "    \n",
    "    model.compile(loss='mse', optimizer='adam')\n",
    "    \n",
    "    return model"
   ]
  },
  {
   "cell_type": "code",
   "execution_count": 3,
   "id": "7e34f012",
   "metadata": {},
   "outputs": [
    {
     "name": "stderr",
     "output_type": "stream",
     "text": [
      "C:\\Users\\lvcie\\AppData\\Local\\Temp\\ipykernel_14652\\254032995.py:13: DeprecationWarning: KerasRegressor is deprecated, use Sci-Keras (https://github.com/adriangb/scikeras) instead. See https://www.adriangb.com/scikeras/stable/migration.html for help migrating.\n",
      "  model = KerasRegressor(build_fn=models[n], epochs=100, batch_size=20, verbose=0, shuffle=False)\n",
      "C:\\Users\\lvcie\\AppData\\Local\\Temp\\ipykernel_14652\\254032995.py:13: DeprecationWarning: KerasRegressor is deprecated, use Sci-Keras (https://github.com/adriangb/scikeras) instead. See https://www.adriangb.com/scikeras/stable/migration.html for help migrating.\n",
      "  model = KerasRegressor(build_fn=models[n], epochs=100, batch_size=20, verbose=0, shuffle=False)\n",
      "C:\\Users\\lvcie\\AppData\\Local\\Temp\\ipykernel_14652\\254032995.py:13: DeprecationWarning: KerasRegressor is deprecated, use Sci-Keras (https://github.com/adriangb/scikeras) instead. See https://www.adriangb.com/scikeras/stable/migration.html for help migrating.\n",
      "  model = KerasRegressor(build_fn=models[n], epochs=100, batch_size=20, verbose=0, shuffle=False)\n"
     ]
    }
   ],
   "source": [
    "from tensorflow import random\n",
    "seed = 1\n",
    "np.random.seed(seed)\n",
    "random.set_seed(seed)\n",
    "\n",
    "from keras.wrappers.scikit_learn import KerasRegressor\n",
    "from sklearn.model_selection import KFold\n",
    "from sklearn.model_selection import cross_val_score\n",
    "results_1 = []\n",
    "models = [build_model_1, build_model_2, build_model_3]\n",
    "\n",
    "for n in range(len(models)):\n",
    "    model = KerasRegressor(build_fn=models[n], epochs=100, batch_size=20, verbose=0, shuffle=False)\n",
    "    kf = KFold(n_splits=3)\n",
    "    result = cross_val_score(model, X, y, cv=kf)\n",
    "    results_1.append(result)"
   ]
  },
  {
   "cell_type": "code",
   "execution_count": 4,
   "id": "794e5966",
   "metadata": {},
   "outputs": [
    {
     "name": "stdout",
     "output_type": "stream",
     "text": [
      "Cross Validation Loss for Model 1 = 0.9708917339642843\n",
      "Cross Validation Loss for Model 2 = 0.9561373988787333\n",
      "Cross Validation Loss for Model 3 = 2.49636443456014\n"
     ]
    }
   ],
   "source": [
    "print(\"Cross Validation Loss for Model 1 =\", abs(results_1[0].mean()))\n",
    "print(\"Cross Validation Loss for Model 2 =\", abs(results_1[1].mean()))\n",
    "print(\"Cross Validation Loss for Model 3 =\", abs(results_1[2].mean()))"
   ]
  },
  {
   "cell_type": "code",
   "execution_count": 5,
   "id": "381e57b3",
   "metadata": {},
   "outputs": [
    {
     "name": "stderr",
     "output_type": "stream",
     "text": [
      "C:\\Users\\lvcie\\AppData\\Local\\Temp\\ipykernel_14652\\110800924.py:9: DeprecationWarning: KerasRegressor is deprecated, use Sci-Keras (https://github.com/adriangb/scikeras) instead. See https://www.adriangb.com/scikeras/stable/migration.html for help migrating.\n",
      "  model = KerasRegressor(build_fn= build_model_2, epochs= epochs[e], batch_size= batches[b], verbose=0, shuffle=False)\n",
      "C:\\Users\\lvcie\\AppData\\Local\\Temp\\ipykernel_14652\\110800924.py:9: DeprecationWarning: KerasRegressor is deprecated, use Sci-Keras (https://github.com/adriangb/scikeras) instead. See https://www.adriangb.com/scikeras/stable/migration.html for help migrating.\n",
      "  model = KerasRegressor(build_fn= build_model_2, epochs= epochs[e], batch_size= batches[b], verbose=0, shuffle=False)\n",
      "C:\\Users\\lvcie\\AppData\\Local\\Temp\\ipykernel_14652\\110800924.py:9: DeprecationWarning: KerasRegressor is deprecated, use Sci-Keras (https://github.com/adriangb/scikeras) instead. See https://www.adriangb.com/scikeras/stable/migration.html for help migrating.\n",
      "  model = KerasRegressor(build_fn= build_model_2, epochs= epochs[e], batch_size= batches[b], verbose=0, shuffle=False)\n",
      "C:\\Users\\lvcie\\AppData\\Local\\Temp\\ipykernel_14652\\110800924.py:9: DeprecationWarning: KerasRegressor is deprecated, use Sci-Keras (https://github.com/adriangb/scikeras) instead. See https://www.adriangb.com/scikeras/stable/migration.html for help migrating.\n",
      "  model = KerasRegressor(build_fn= build_model_2, epochs= epochs[e], batch_size= batches[b], verbose=0, shuffle=False)\n"
     ]
    }
   ],
   "source": [
    "np.random.seed(seed)\n",
    "random.set_seed(seed)\n",
    "results_2 = []\n",
    "epochs = [100, 150]\n",
    "batches = [20, 15]\n",
    "\n",
    "for e in range(len(epochs)):\n",
    "    for b in range(len(batches)):\n",
    "        model = KerasRegressor(build_fn= build_model_2, epochs= epochs[e], batch_size= batches[b], verbose=0, shuffle=False)\n",
    "        kf = KFold(n_splits=3)\n",
    "        result = cross_val_score(model, X, y, cv=kf)\n",
    "        results_2.append(result)"
   ]
  },
  {
   "cell_type": "code",
   "execution_count": 6,
   "id": "2d817f49",
   "metadata": {},
   "outputs": [
    {
     "name": "stdout",
     "output_type": "stream",
     "text": [
      "batch_size = 20 , epochs = 100 , Test Loss = 2.146423041820526\n",
      "batch_size = 15 , epochs = 100 , Test Loss = 1.6488028168678284\n",
      "batch_size = 20 , epochs = 150 , Test Loss = 0.9207906126976013\n",
      "batch_size = 15 , epochs = 150 , Test Loss = 1.2925216952959697\n"
     ]
    }
   ],
   "source": [
    "# Print cross validation score for each possible pair of epochs, batch_size\n",
    "c = 0\n",
    "for e in range(len(epochs)):\n",
    "    for b in range(len(batches)):\n",
    "        print(\"batch_size =\", batches[b],\", epochs =\", epochs[e], \", Test Loss =\", abs(results_2[c].mean()))\n",
    "        c += 1"
   ]
  },
  {
   "cell_type": "markdown",
   "id": "4b5990e2",
   "metadata": {},
   "source": [
    "Build a model with the ideal architecture and hyperparameters after using cross-validation"
   ]
  },
  {
   "cell_type": "code",
   "execution_count": 9,
   "id": "57de39bc",
   "metadata": {
    "scrolled": true
   },
   "outputs": [
    {
     "name": "stderr",
     "output_type": "stream",
     "text": [
      "C:\\Users\\lvcie\\AppData\\Local\\Temp\\ipykernel_14652\\4290250674.py:24: DeprecationWarning: KerasRegressor is deprecated, use Sci-Keras (https://github.com/adriangb/scikeras) instead. See https://www.adriangb.com/scikeras/stable/migration.html for help migrating.\n",
      "  model = KerasRegressor(build_fn= build_model_2, epochs=100, batch_size=20, verbose=0, shuffle=False)\n",
      "C:\\Users\\lvcie\\AppData\\Local\\Temp\\ipykernel_14652\\4290250674.py:24: DeprecationWarning: KerasRegressor is deprecated, use Sci-Keras (https://github.com/adriangb/scikeras) instead. See https://www.adriangb.com/scikeras/stable/migration.html for help migrating.\n",
      "  model = KerasRegressor(build_fn= build_model_2, epochs=100, batch_size=20, verbose=0, shuffle=False)\n",
      "C:\\Users\\lvcie\\AppData\\Local\\Temp\\ipykernel_14652\\4290250674.py:24: DeprecationWarning: KerasRegressor is deprecated, use Sci-Keras (https://github.com/adriangb/scikeras) instead. See https://www.adriangb.com/scikeras/stable/migration.html for help migrating.\n",
      "  model = KerasRegressor(build_fn= build_model_2, epochs=100, batch_size=20, verbose=0, shuffle=False)\n",
      "C:\\Users\\lvcie\\AppData\\Local\\Temp\\ipykernel_14652\\4290250674.py:24: DeprecationWarning: KerasRegressor is deprecated, use Sci-Keras (https://github.com/adriangb/scikeras) instead. See https://www.adriangb.com/scikeras/stable/migration.html for help migrating.\n",
      "  model = KerasRegressor(build_fn= build_model_2, epochs=100, batch_size=20, verbose=0, shuffle=False)\n",
      "C:\\Users\\lvcie\\AppData\\Local\\Temp\\ipykernel_14652\\4290250674.py:24: DeprecationWarning: KerasRegressor is deprecated, use Sci-Keras (https://github.com/adriangb/scikeras) instead. See https://www.adriangb.com/scikeras/stable/migration.html for help migrating.\n",
      "  model = KerasRegressor(build_fn= build_model_2, epochs=100, batch_size=20, verbose=0, shuffle=False)\n",
      "C:\\Users\\lvcie\\AppData\\Local\\Temp\\ipykernel_14652\\4290250674.py:24: DeprecationWarning: KerasRegressor is deprecated, use Sci-Keras (https://github.com/adriangb/scikeras) instead. See https://www.adriangb.com/scikeras/stable/migration.html for help migrating.\n",
      "  model = KerasRegressor(build_fn= build_model_2, epochs=100, batch_size=20, verbose=0, shuffle=False)\n"
     ]
    }
   ],
   "source": [
    "# Modify build_model_2 function\n",
    "def build_model_2(activation='relu', optimizer='adam'):\n",
    "    # build the Keras model_2\n",
    "    model = Sequential()\n",
    "    model.add(Dense(8, input_dim=X.shape[1], activation=activation))\n",
    "    model.add(Dense(1))\n",
    "    # Compile the model\n",
    "    model.compile(loss='mean_squared_error', optimizer=optimizer)\n",
    "    # return the model\n",
    "    return model\n",
    "\n",
    "results_3 = []\n",
    "activations = ['relu', 'tanh']\n",
    "optimizers = ['sgd', 'adam', 'rmsprop']\n",
    "\n",
    "# define a seed for random number generator so the result will be reproducible\n",
    "np.random.seed(seed)\n",
    "random.set_seed(seed)\n",
    "# Loop over pairs of activation and optimizer\n",
    "for o in range(len(optimizers)):\n",
    "    for a in range(len(activations)):\n",
    "        optimizer = optimizers[o]\n",
    "        activation = activations[a]\n",
    "        model = KerasRegressor(build_fn= build_model_2, epochs=100, batch_size=20, verbose=0, shuffle=False)\n",
    "        kf = KFold(n_splits=3)\n",
    "        result = cross_val_score(model, X, y, cv=kf)\n",
    "        results_3.append(result)"
   ]
  },
  {
   "cell_type": "code",
   "execution_count": 10,
   "id": "13cff702",
   "metadata": {},
   "outputs": [
    {
     "name": "stdout",
     "output_type": "stream",
     "text": [
      "activation =  relu , optimizer =  sgd , Test Loss =  0.9898746013641357\n",
      "activation =  tanh , optimizer =  sgd , Test Loss =  0.9351770083109537\n",
      "activation =  relu , optimizer =  adam , Test Loss =  1.000377078851064\n",
      "activation =  tanh , optimizer =  adam , Test Loss =  0.9615645011266073\n",
      "activation =  relu , optimizer =  rmsprop , Test Loss =  0.935382068157196\n",
      "activation =  tanh , optimizer =  rmsprop , Test Loss =  1.0647401213645935\n"
     ]
    }
   ],
   "source": [
    "c = 0\n",
    "for o in range(len(optimizers)):\n",
    "    for a in range(len(activations)):\n",
    "        print(\"activation = \", activations[a],\", optimizer = \", optimizers[o], \", Test Loss = \", abs(results_3[c].mean()))\n",
    "        c += 1"
   ]
  },
  {
   "cell_type": "code",
   "execution_count": null,
   "id": "a47136d1",
   "metadata": {},
   "outputs": [],
   "source": []
  }
 ],
 "metadata": {
  "kernelspec": {
   "display_name": "Python 3 (ipykernel)",
   "language": "python",
   "name": "python3"
  },
  "language_info": {
   "codemirror_mode": {
    "name": "ipython",
    "version": 3
   },
   "file_extension": ".py",
   "mimetype": "text/x-python",
   "name": "python",
   "nbconvert_exporter": "python",
   "pygments_lexer": "ipython3",
   "version": "3.10.10"
  }
 },
 "nbformat": 4,
 "nbformat_minor": 5
}
