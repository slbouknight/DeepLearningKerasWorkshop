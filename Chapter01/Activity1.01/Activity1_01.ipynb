{
 "cells": [
  {
   "cell_type": "markdown",
   "id": "ad8b1834",
   "metadata": {},
   "source": [
    "## Adding Regularization to the Model"
   ]
  },
  {
   "cell_type": "code",
   "execution_count": 8,
   "id": "ad110c2a",
   "metadata": {},
   "outputs": [],
   "source": [
    "import pandas as pd\n",
    "feats = pd.read_csv('../data/OSI_feats_e3.csv')\n",
    "target = pd.read_csv('../data/OSI_target_e2.csv')"
   ]
  },
  {
   "cell_type": "code",
   "execution_count": 9,
   "id": "56c7975f",
   "metadata": {},
   "outputs": [],
   "source": [
    "from sklearn.model_selection import train_test_split\n",
    "test_size = 0.2\n",
    "random_state = 13\n",
    "X_train, X_test, y_train, y_test = train_test_split(feats, target, test_size=test_size, random_state=random_state)"
   ]
  },
  {
   "cell_type": "code",
   "execution_count": 10,
   "id": "900bb315",
   "metadata": {},
   "outputs": [
    {
     "name": "stdout",
     "output_type": "stream",
     "text": [
      "Shape of X_train: (9864, 68)\n",
      "Shape of y_train: (9864, 1)\n",
      "Shape of X_test: (2466, 68)\n",
      "Shape of y_train: (2466, 1)\n"
     ]
    }
   ],
   "source": [
    "print(f'Shape of X_train: {X_train.shape}')\n",
    "print(f'Shape of y_train: {y_train.shape}')\n",
    "print(f'Shape of X_test: {X_test.shape}')\n",
    "print(f'Shape of y_train: {y_test.shape}')"
   ]
  },
  {
   "cell_type": "code",
   "execution_count": 12,
   "id": "9da98b0e",
   "metadata": {},
   "outputs": [
    {
     "data": {
      "text/html": [
       "<style>#sk-container-id-2 {color: black;background-color: white;}#sk-container-id-2 pre{padding: 0;}#sk-container-id-2 div.sk-toggleable {background-color: white;}#sk-container-id-2 label.sk-toggleable__label {cursor: pointer;display: block;width: 100%;margin-bottom: 0;padding: 0.3em;box-sizing: border-box;text-align: center;}#sk-container-id-2 label.sk-toggleable__label-arrow:before {content: \"▸\";float: left;margin-right: 0.25em;color: #696969;}#sk-container-id-2 label.sk-toggleable__label-arrow:hover:before {color: black;}#sk-container-id-2 div.sk-estimator:hover label.sk-toggleable__label-arrow:before {color: black;}#sk-container-id-2 div.sk-toggleable__content {max-height: 0;max-width: 0;overflow: hidden;text-align: left;background-color: #f0f8ff;}#sk-container-id-2 div.sk-toggleable__content pre {margin: 0.2em;color: black;border-radius: 0.25em;background-color: #f0f8ff;}#sk-container-id-2 input.sk-toggleable__control:checked~div.sk-toggleable__content {max-height: 200px;max-width: 100%;overflow: auto;}#sk-container-id-2 input.sk-toggleable__control:checked~label.sk-toggleable__label-arrow:before {content: \"▾\";}#sk-container-id-2 div.sk-estimator input.sk-toggleable__control:checked~label.sk-toggleable__label {background-color: #d4ebff;}#sk-container-id-2 div.sk-label input.sk-toggleable__control:checked~label.sk-toggleable__label {background-color: #d4ebff;}#sk-container-id-2 input.sk-hidden--visually {border: 0;clip: rect(1px 1px 1px 1px);clip: rect(1px, 1px, 1px, 1px);height: 1px;margin: -1px;overflow: hidden;padding: 0;position: absolute;width: 1px;}#sk-container-id-2 div.sk-estimator {font-family: monospace;background-color: #f0f8ff;border: 1px dotted black;border-radius: 0.25em;box-sizing: border-box;margin-bottom: 0.5em;}#sk-container-id-2 div.sk-estimator:hover {background-color: #d4ebff;}#sk-container-id-2 div.sk-parallel-item::after {content: \"\";width: 100%;border-bottom: 1px solid gray;flex-grow: 1;}#sk-container-id-2 div.sk-label:hover label.sk-toggleable__label {background-color: #d4ebff;}#sk-container-id-2 div.sk-serial::before {content: \"\";position: absolute;border-left: 1px solid gray;box-sizing: border-box;top: 0;bottom: 0;left: 50%;z-index: 0;}#sk-container-id-2 div.sk-serial {display: flex;flex-direction: column;align-items: center;background-color: white;padding-right: 0.2em;padding-left: 0.2em;position: relative;}#sk-container-id-2 div.sk-item {position: relative;z-index: 1;}#sk-container-id-2 div.sk-parallel {display: flex;align-items: stretch;justify-content: center;background-color: white;position: relative;}#sk-container-id-2 div.sk-item::before, #sk-container-id-2 div.sk-parallel-item::before {content: \"\";position: absolute;border-left: 1px solid gray;box-sizing: border-box;top: 0;bottom: 0;left: 50%;z-index: -1;}#sk-container-id-2 div.sk-parallel-item {display: flex;flex-direction: column;z-index: 1;position: relative;background-color: white;}#sk-container-id-2 div.sk-parallel-item:first-child::after {align-self: flex-end;width: 50%;}#sk-container-id-2 div.sk-parallel-item:last-child::after {align-self: flex-start;width: 50%;}#sk-container-id-2 div.sk-parallel-item:only-child::after {width: 0;}#sk-container-id-2 div.sk-dashed-wrapped {border: 1px dashed gray;margin: 0 0.4em 0.5em 0.4em;box-sizing: border-box;padding-bottom: 0.4em;background-color: white;}#sk-container-id-2 div.sk-label label {font-family: monospace;font-weight: bold;display: inline-block;line-height: 1.2em;}#sk-container-id-2 div.sk-label-container {text-align: center;}#sk-container-id-2 div.sk-container {/* jupyter's `normalize.less` sets `[hidden] { display: none; }` but bootstrap.min.css set `[hidden] { display: none !important; }` so we also need the `!important` here to be able to override the default hidden behavior on the sphinx rendered scikit-learn.org. See: https://github.com/scikit-learn/scikit-learn/issues/21755 */display: inline-block !important;position: relative;}#sk-container-id-2 div.sk-text-repr-fallback {display: none;}</style><div id=\"sk-container-id-2\" class=\"sk-top-container\"><div class=\"sk-text-repr-fallback\"><pre>LogisticRegressionCV(Cs=array([1.e-02, 1.e-01, 1.e+00, 1.e+01, 1.e+02, 1.e+03, 1.e+04, 1.e+05,\n",
       "       1.e+06]),\n",
       "                     cv=10, max_iter=10000, random_state=42)</pre><b>In a Jupyter environment, please rerun this cell to show the HTML representation or trust the notebook. <br />On GitHub, the HTML representation is unable to render, please try loading this page with nbviewer.org.</b></div><div class=\"sk-container\" hidden><div class=\"sk-item\"><div class=\"sk-estimator sk-toggleable\"><input class=\"sk-toggleable__control sk-hidden--visually\" id=\"sk-estimator-id-2\" type=\"checkbox\" checked><label for=\"sk-estimator-id-2\" class=\"sk-toggleable__label sk-toggleable__label-arrow\">LogisticRegressionCV</label><div class=\"sk-toggleable__content\"><pre>LogisticRegressionCV(Cs=array([1.e-02, 1.e-01, 1.e+00, 1.e+01, 1.e+02, 1.e+03, 1.e+04, 1.e+05,\n",
       "       1.e+06]),\n",
       "                     cv=10, max_iter=10000, random_state=42)</pre></div></div></div></div></div>"
      ],
      "text/plain": [
       "LogisticRegressionCV(Cs=array([1.e-02, 1.e-01, 1.e+00, 1.e+01, 1.e+02, 1.e+03, 1.e+04, 1.e+05,\n",
       "       1.e+06]),\n",
       "                     cv=10, max_iter=10000, random_state=42)"
      ]
     },
     "execution_count": 12,
     "metadata": {},
     "output_type": "execute_result"
    }
   ],
   "source": [
    "import numpy as np\n",
    "from sklearn.linear_model import LogisticRegressionCV\n",
    "Cs = np.logspace(-2, 6, 9)\n",
    "model_l1 = LogisticRegressionCV(Cs=Cs, penalty='l1', cv=10, solver='liblinear', random_state=42, max_iter=10000)\n",
    "model_l2 = LogisticRegressionCV(Cs=Cs, penalty='l2', cv=10, random_state=42, max_iter=10000)\n",
    "\n",
    "model_l1.fit(X_train, y_train['Revenue'])\n",
    "model_l2.fit(X_train, y_train['Revenue'])"
   ]
  },
  {
   "cell_type": "code",
   "execution_count": 14,
   "id": "369938dd",
   "metadata": {},
   "outputs": [
    {
     "name": "stdout",
     "output_type": "stream",
     "text": [
      "Best hyperparameter for l1 regularization model: 10.0\n",
      "Best hyperparameter for l2 regularization model: 0.01\n"
     ]
    }
   ],
   "source": [
    "print(f'Best hyperparameter for l1 regularization model: {model_l1.C_[0]}')\n",
    "print(f'Best hyperparameter for l2 regularization model: {model_l2.C_[0]}')"
   ]
  },
  {
   "cell_type": "code",
   "execution_count": 15,
   "id": "11531724",
   "metadata": {},
   "outputs": [],
   "source": [
    "y_pred_l1 = model_l1.predict(X_test)\n",
    "y_pred_l2 = model_l2.predict(X_test)"
   ]
  },
  {
   "cell_type": "code",
   "execution_count": 16,
   "id": "d9eb30ff",
   "metadata": {},
   "outputs": [
    {
     "name": "stdout",
     "output_type": "stream",
     "text": [
      "Accuracy of the model with l1 regularization is 89.1727%\n",
      "Accuracy of the model with l2 regularization is 89.3350%\n"
     ]
    }
   ],
   "source": [
    "from sklearn import metrics\n",
    "accuracy_l1 = metrics.accuracy_score(y_pred=y_pred_l1, y_true=y_test)\n",
    "accuracy_l2 = metrics.accuracy_score(y_pred=y_pred_l2, y_true=y_test)\n",
    "print(f'Accuracy of the model with l1 regularization is {accuracy_l1*100:.4f}%')\n",
    "print(f'Accuracy of the model with l2 regularization is {accuracy_l2*100:.4f}%')"
   ]
  },
  {
   "cell_type": "code",
   "execution_count": 18,
   "id": "1a1fb378",
   "metadata": {},
   "outputs": [
    {
     "name": "stdout",
     "output_type": "stream",
     "text": [
      "l1\n",
      "Precision: 0.7286\n",
      "Recall: 0.4050\n",
      "fscore:  0.5206\n",
      "\n",
      "\n",
      "l2\n",
      "Precision: 0.7363\n",
      "Recall: 0.4134\n",
      "fscore:  0.5295\n"
     ]
    }
   ],
   "source": [
    "precision_l1, recall_l1, fscore_l1, _ = metrics.precision_recall_fscore_support(y_pred=y_pred_l1, y_true=y_test, average='binary')\n",
    "precision_l2, recall_l2, fscore_l2, _ = metrics.precision_recall_fscore_support(y_pred=y_pred_l2, y_true=y_test, average='binary')\n",
    "print(f'l1\\nPrecision: {precision_l1:.4f}\\nRecall: {recall_l1:.4f}\\nfscore: {fscore_l1: .4f}\\n\\n')\n",
    "print(f'l2\\nPrecision: {precision_l2:.4f}\\nRecall: {recall_l2:.4f}\\nfscore: {fscore_l2: .4f}')"
   ]
  },
  {
   "cell_type": "code",
   "execution_count": 19,
   "id": "fd159eca",
   "metadata": {},
   "outputs": [
    {
     "name": "stdout",
     "output_type": "stream",
     "text": [
      "ExitRates: -16.009484846390706\n",
      "Browser_11: -3.592835707785565\n",
      "TrafficType_15: -3.040126119856472\n",
      "TrafficType_19: -2.790744186945984\n",
      "OperatingSystems_6: -2.0377534512813567\n",
      "TrafficType_18: -1.818598979356581\n",
      "Browser_3: -1.6664330423984195\n",
      "OperatingSystems_3: -1.442939575286418\n",
      "OperatingSystems_1: -1.3661862180291797\n",
      "OperatingSystems_4: -1.3338862020698212\n",
      "Browser_13: -1.3327031980935446\n",
      "OperatingSystems_2: -1.1757977131630206\n",
      "Browser_6: -1.10493105695464\n",
      "Browser_7: -0.922122032654981\n",
      "TrafficType_13: -0.9015419721588587\n",
      "OperatingSystems_8: -0.8251399623701103\n",
      "TrafficType_14: -0.7220271174248961\n",
      "Browser_2: -0.6169689114766488\n",
      "TrafficType_3: -0.5849748832151968\n",
      "Browser_4: -0.5339172467939178\n",
      "Browser_5: -0.5244472855932206\n",
      "Browser_1: -0.5058656933293494\n",
      "Browser_8: -0.4791484495744584\n",
      "TrafficType_1: -0.3743204284388919\n",
      "TrafficType_6: -0.3727852499814628\n",
      "VisitorType_Returning_Visitor: -0.31105967077558194\n",
      "TrafficType_4: -0.2751499744031358\n",
      "BounceRates: -0.270187111115926\n",
      "TrafficType_2: -0.23125790236214885\n",
      "Browser_10: -0.21256054695815116\n",
      "SpecialDay: -0.20253836379587697\n",
      "TrafficType_5: -0.18272972861591263\n",
      "Region_9: -0.1818193903771882\n",
      "TrafficType_9: -0.16105382668576226\n",
      "TrafficType_7: -0.137564022934981\n",
      "VisitorType_New_Visitor: -0.13061777142341177\n",
      "Region_4: -0.11565406396109926\n",
      "OperatingSystems_7: -0.05025917684292253\n",
      "TrafficType_10: -0.02810785199757357\n",
      "Region_1: -0.009371850093053103\n",
      "Administrative: -0.00883963375905168\n",
      "Region_7: -0.008811644786736026\n",
      "TrafficType_12: 0.0\n",
      "ProductRelated_Duration: 7.795962793346352e-05\n",
      "Administrative_Duration: 0.00010371895300197533\n",
      "Informational_Duration: 0.00030537059998351964\n",
      "ProductRelated: 0.0011404893794925714\n",
      "Informational: 0.005312428918865952\n",
      "Region_3: 0.014089437325251662\n",
      "TrafficType_11: 0.022950634704140917\n",
      "PageValues: 0.08290669793441567\n",
      "Region_8: 0.09811735698591408\n",
      "is_weekend: 0.11810473307430508\n",
      "Region_6: 0.14840506826137828\n",
      "Month_Dec: 0.16626322515409153\n",
      "Month_Mar: 0.1730573689941486\n",
      "TrafficType_20: 0.18912504409504766\n",
      "Region_2: 0.1934384838214455\n",
      "TrafficType_8: 0.2184586536420772\n",
      "Month_May: 0.2620878251231292\n",
      "Month_June: 0.5751712390469673\n",
      "Month_Aug: 0.6222902936605617\n",
      "Month_Oct: 0.6863552715778086\n",
      "Month_Sep: 0.7648290316789197\n",
      "Month_Jul: 0.9452019048583576\n",
      "Month_Nov: 1.2666088063288692\n",
      "TrafficType_16: 1.3012595767567865\n",
      "Browser_12: 1.346001367038913\n"
     ]
    }
   ],
   "source": [
    "coef_list = [f'{feature}: {coef}' for coef, feature in sorted(zip(model_l1.coef_[0], X_train.columns.values.tolist()))]\n",
    "for item in coef_list:\n",
    "    print(item)"
   ]
  },
  {
   "cell_type": "code",
   "execution_count": 20,
   "id": "d13692a9",
   "metadata": {},
   "outputs": [
    {
     "name": "stdout",
     "output_type": "stream",
     "text": [
      "Month_May: -0.2543517004725788\n",
      "TrafficType_13: -0.21678870746777357\n",
      "VisitorType_Returning_Visitor: -0.1933752912344788\n",
      "TrafficType_3: -0.18858378940440287\n",
      "Month_Dec: -0.18519132710158503\n",
      "Month_Mar: -0.17140547271732584\n",
      "OperatingSystems_3: -0.1408866170032516\n",
      "ExitRates: -0.11740773716263075\n",
      "TrafficType_1: -0.11055967513199383\n",
      "SpecialDay: -0.10761089763698553\n",
      "BounceRates: -0.09227826561858632\n",
      "Region_4: -0.06902841083784055\n",
      "Browser_6: -0.06437675283093477\n",
      "Region_9: -0.06200945039187729\n",
      "Browser_3: -0.055886277167606864\n",
      "Month_June: -0.03242660249187416\n",
      "TrafficType_6: -0.03180154669417395\n",
      "TrafficType_15: -0.02341020614782407\n",
      "Browser_2: -0.023165062104160278\n",
      "Browser_13: -0.01881506346817186\n",
      "Browser_7: -0.017168648101402142\n",
      "Region_1: -0.016296983376358248\n",
      "OperatingSystems_6: -0.015498026889709242\n",
      "TrafficType_19: -0.013026555756653416\n",
      "Region_7: -0.012330181180759129\n",
      "Region_3: -0.010248409052295094\n",
      "OperatingSystems_8: -0.007972449754517877\n",
      "OperatingSystems_4: -0.007934530103885649\n",
      "Informational: -0.006825766799155801\n",
      "TrafficType_14: -0.005731801644811754\n",
      "TrafficType_18: -0.005164760120999304\n",
      "Browser_11: -0.0047309334191333085\n",
      "Month_Aug: -0.0043957906583233\n",
      "TrafficType_9: -0.00282475326774561\n",
      "Browser_8: -0.0008372536049551488\n",
      "TrafficType_12: -0.0006473637965846863\n",
      "ProductRelated_Duration: 6.264015019085323e-05\n",
      "Administrative_Duration: 0.00011742707557921282\n",
      "Informational_Duration: 0.0002665444213270686\n",
      "ProductRelated: 0.0034743463615235478\n",
      "Browser_5: 0.003942736196240946\n",
      "OperatingSystems_7: 0.005384187914780954\n",
      "TrafficType_7: 0.005821579020334241\n",
      "OperatingSystems_1: 0.0060981976994409414\n",
      "TrafficType_16: 0.009134367781106949\n",
      "Region_8: 0.010744255381950375\n",
      "Browser_1: 0.014881205008405722\n",
      "Administrative: 0.015046013875569978\n",
      "Browser_4: 0.02453465670001559\n",
      "Browser_12: 0.024564579999799333\n",
      "TrafficType_4: 0.024672764048821745\n",
      "TrafficType_5: 0.032545320339292944\n",
      "Month_Oct: 0.03472265181278668\n",
      "Browser_10: 0.040971799072152364\n",
      "Region_6: 0.04223509188216444\n",
      "Month_Sep: 0.04435573839838355\n",
      "TrafficType_20: 0.047145880689861704\n",
      "TrafficType_11: 0.05671667404105115\n",
      "Region_2: 0.07430553916527043\n",
      "TrafficType_10: 0.07830906077279921\n",
      "Month_Jul: 0.07966397757419406\n",
      "PageValues: 0.08745490929809187\n",
      "OperatingSystems_2: 0.08877876037666196\n",
      "is_weekend: 0.11808650079910359\n",
      "TrafficType_2: 0.12188956198936818\n",
      "TrafficType_8: 0.14605290235922333\n",
      "VisitorType_New_Visitor: 0.1524786593026867\n",
      "Month_Nov: 0.5120582414681323\n"
     ]
    }
   ],
   "source": [
    "coef_list = [f'{feature}: {coef}' for coef, feature in sorted(zip(model_l2.coef_[0], X_train.columns.values.tolist()))]\n",
    "for item in coef_list:\n",
    "    print(item)"
   ]
  },
  {
   "cell_type": "code",
   "execution_count": null,
   "id": "7b6e7ca3",
   "metadata": {},
   "outputs": [],
   "source": []
  }
 ],
 "metadata": {
  "kernelspec": {
   "display_name": "Python 3 (ipykernel)",
   "language": "python",
   "name": "python3"
  },
  "language_info": {
   "codemirror_mode": {
    "name": "ipython",
    "version": 3
   },
   "file_extension": ".py",
   "mimetype": "text/x-python",
   "name": "python",
   "nbconvert_exporter": "python",
   "pygments_lexer": "ipython3",
   "version": "3.10.10"
  }
 },
 "nbformat": 4,
 "nbformat_minor": 5
}
