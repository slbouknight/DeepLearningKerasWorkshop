{
 "cells": [
  {
   "cell_type": "code",
   "execution_count": 1,
   "id": "b5c5b436",
   "metadata": {},
   "outputs": [],
   "source": [
    "import numpy as np\n",
    "import matplotlib.pyplot as plt\n",
    "import pandas as pd\n",
    "from tensorflow import random"
   ]
  },
  {
   "cell_type": "code",
   "execution_count": 3,
   "id": "7871fc58",
   "metadata": {},
   "outputs": [
    {
     "data": {
      "text/html": [
       "<div>\n",
       "<style scoped>\n",
       "    .dataframe tbody tr th:only-of-type {\n",
       "        vertical-align: middle;\n",
       "    }\n",
       "\n",
       "    .dataframe tbody tr th {\n",
       "        vertical-align: top;\n",
       "    }\n",
       "\n",
       "    .dataframe thead th {\n",
       "        text-align: right;\n",
       "    }\n",
       "</style>\n",
       "<table border=\"1\" class=\"dataframe\">\n",
       "  <thead>\n",
       "    <tr style=\"text-align: right;\">\n",
       "      <th></th>\n",
       "      <th>Date</th>\n",
       "      <th>Open</th>\n",
       "      <th>High</th>\n",
       "      <th>Low</th>\n",
       "      <th>Close</th>\n",
       "      <th>Adj Close</th>\n",
       "      <th>Volume</th>\n",
       "    </tr>\n",
       "  </thead>\n",
       "  <tbody>\n",
       "    <tr>\n",
       "      <th>0</th>\n",
       "      <td>2014-01-02</td>\n",
       "      <td>398.799988</td>\n",
       "      <td>399.359985</td>\n",
       "      <td>394.019989</td>\n",
       "      <td>397.970001</td>\n",
       "      <td>397.970001</td>\n",
       "      <td>2137800</td>\n",
       "    </tr>\n",
       "    <tr>\n",
       "      <th>1</th>\n",
       "      <td>2014-01-03</td>\n",
       "      <td>398.290009</td>\n",
       "      <td>402.709991</td>\n",
       "      <td>396.220001</td>\n",
       "      <td>396.440002</td>\n",
       "      <td>396.440002</td>\n",
       "      <td>2210200</td>\n",
       "    </tr>\n",
       "    <tr>\n",
       "      <th>2</th>\n",
       "      <td>2014-01-06</td>\n",
       "      <td>395.850006</td>\n",
       "      <td>397.000000</td>\n",
       "      <td>388.420013</td>\n",
       "      <td>393.630005</td>\n",
       "      <td>393.630005</td>\n",
       "      <td>3170600</td>\n",
       "    </tr>\n",
       "    <tr>\n",
       "      <th>3</th>\n",
       "      <td>2014-01-07</td>\n",
       "      <td>395.040009</td>\n",
       "      <td>398.470001</td>\n",
       "      <td>394.290009</td>\n",
       "      <td>398.029999</td>\n",
       "      <td>398.029999</td>\n",
       "      <td>1916000</td>\n",
       "    </tr>\n",
       "    <tr>\n",
       "      <th>4</th>\n",
       "      <td>2014-01-08</td>\n",
       "      <td>398.470001</td>\n",
       "      <td>403.000000</td>\n",
       "      <td>396.040009</td>\n",
       "      <td>401.920013</td>\n",
       "      <td>401.920013</td>\n",
       "      <td>2316500</td>\n",
       "    </tr>\n",
       "  </tbody>\n",
       "</table>\n",
       "</div>"
      ],
      "text/plain": [
       "         Date        Open        High         Low       Close   Adj Close  \\\n",
       "0  2014-01-02  398.799988  399.359985  394.019989  397.970001  397.970001   \n",
       "1  2014-01-03  398.290009  402.709991  396.220001  396.440002  396.440002   \n",
       "2  2014-01-06  395.850006  397.000000  388.420013  393.630005  393.630005   \n",
       "3  2014-01-07  395.040009  398.470001  394.290009  398.029999  398.029999   \n",
       "4  2014-01-08  398.470001  403.000000  396.040009  401.920013  401.920013   \n",
       "\n",
       "    Volume  \n",
       "0  2137800  \n",
       "1  2210200  \n",
       "2  3170600  \n",
       "3  1916000  \n",
       "4  2316500  "
      ]
     },
     "execution_count": 3,
     "metadata": {},
     "output_type": "execute_result"
    }
   ],
   "source": [
    "dataset_training = pd.read_csv('../AMZN_train.csv')\n",
    "dataset_training.head()"
   ]
  },
  {
   "cell_type": "code",
   "execution_count": 4,
   "id": "bc4b2e68",
   "metadata": {},
   "outputs": [
    {
     "data": {
      "text/plain": [
       "array([[ 398.799988],\n",
       "       [ 398.290009],\n",
       "       [ 395.850006],\n",
       "       ...,\n",
       "       [1454.199951],\n",
       "       [1473.349976],\n",
       "       [1510.800049]])"
      ]
     },
     "execution_count": 4,
     "metadata": {},
     "output_type": "execute_result"
    }
   ],
   "source": [
    "training_data = dataset_training[['Open']].values\n",
    "training_data"
   ]
  },
  {
   "cell_type": "code",
   "execution_count": 7,
   "id": "d3fd1852",
   "metadata": {},
   "outputs": [
    {
     "data": {
      "text/plain": [
       "array([[0.06523313],\n",
       "       [0.06494233],\n",
       "       [0.06355099],\n",
       "       ...,\n",
       "       [0.66704299],\n",
       "       [0.67796271],\n",
       "       [0.69931748]])"
      ]
     },
     "execution_count": 7,
     "metadata": {},
     "output_type": "execute_result"
    }
   ],
   "source": [
    "from sklearn.preprocessing import MinMaxScaler\n",
    "sc = MinMaxScaler(feature_range=(0, 1))\n",
    "training_data_scaled = sc.fit_transform(training_data)\n",
    "training_data_scaled"
   ]
  },
  {
   "cell_type": "code",
   "execution_count": 8,
   "id": "435bf633",
   "metadata": {},
   "outputs": [],
   "source": [
    "X_train = []\n",
    "y_train = []\n",
    "\n",
    "for i in range(60, 1258):\n",
    "    X_train.append(training_data_scaled[i-60:i, 0])\n",
    "    y_train.append(training_data_scaled)\n",
    "    \n",
    "X_train, y_train = np.array(X_train), np.array(y_train)"
   ]
  },
  {
   "cell_type": "code",
   "execution_count": 9,
   "id": "7f5b3f33",
   "metadata": {},
   "outputs": [],
   "source": [
    "X_train = np.reshape(X_train, (X_train.shape[0], X_train.shape[1], 1))"
   ]
  },
  {
   "cell_type": "code",
   "execution_count": 10,
   "id": "977cdc60",
   "metadata": {},
   "outputs": [],
   "source": [
    "from keras.models import Sequential\n",
    "from keras.layers import Dense\n",
    "from keras.layers import LSTM\n",
    "from keras.layers import Dropout"
   ]
  },
  {
   "cell_type": "code",
   "execution_count": 11,
   "id": "54408256",
   "metadata": {},
   "outputs": [],
   "source": [
    "seed = 1\n",
    "np.random.seed(seed)\n",
    "random.set_seed(seed)\n",
    "\n",
    "model = Sequential()"
   ]
  },
  {
   "cell_type": "code",
   "execution_count": 12,
   "id": "fe104602",
   "metadata": {},
   "outputs": [],
   "source": [
    "model.add(LSTM(units = 50, return_sequences = True, input_shape = (X_train.shape[1], 1)))\n",
    "model.add(Dropout(0.2))\n",
    "\n",
    "# Adding a second LSTM layer and some Dropout regularisation\n",
    "model.add(LSTM(units = 50, return_sequences = True))\n",
    "model.add(Dropout(0.2))\n",
    "\n",
    "# Adding a third LSTM layer and some Dropout regularisation\n",
    "model.add(LSTM(units = 50, return_sequences = True))\n",
    "model.add(Dropout(0.2))\n",
    "\n",
    "# Adding a fourth LSTM layer and some Dropout regularisation\n",
    "model.add(LSTM(units = 50))\n",
    "model.add(Dropout(0.2))\n",
    "\n",
    "# Adding the output layer\n",
    "model.add(Dense(units = 1))"
   ]
  },
  {
   "cell_type": "code",
   "execution_count": 13,
   "id": "4f844d51",
   "metadata": {},
   "outputs": [
    {
     "name": "stdout",
     "output_type": "stream",
     "text": [
      "Epoch 1/100\n",
      "38/38 [==============================] - 23s 246ms/step - loss: 0.0852\n",
      "Epoch 2/100\n",
      "38/38 [==============================] - 9s 248ms/step - loss: 0.0750\n",
      "Epoch 3/100\n",
      "38/38 [==============================] - 9s 241ms/step - loss: 0.0749\n",
      "Epoch 4/100\n",
      "38/38 [==============================] - 9s 242ms/step - loss: 0.0749\n",
      "Epoch 5/100\n",
      "38/38 [==============================] - 9s 244ms/step - loss: 0.0748\n",
      "Epoch 6/100\n",
      "38/38 [==============================] - 9s 244ms/step - loss: 0.0747\n",
      "Epoch 7/100\n",
      "38/38 [==============================] - 10s 254ms/step - loss: 0.0747\n",
      "Epoch 8/100\n",
      "38/38 [==============================] - 10s 253ms/step - loss: 0.0747\n",
      "Epoch 9/100\n",
      "38/38 [==============================] - 9s 245ms/step - loss: 0.0748\n",
      "Epoch 10/100\n",
      "38/38 [==============================] - 9s 241ms/step - loss: 0.0747\n",
      "Epoch 11/100\n",
      "38/38 [==============================] - 9s 240ms/step - loss: 0.0747\n",
      "Epoch 12/100\n",
      "38/38 [==============================] - 9s 247ms/step - loss: 0.0746\n",
      "Epoch 13/100\n",
      "38/38 [==============================] - 9s 236ms/step - loss: 0.0746\n",
      "Epoch 14/100\n",
      "38/38 [==============================] - 9s 241ms/step - loss: 0.0746\n",
      "Epoch 15/100\n",
      "38/38 [==============================] - 11s 288ms/step - loss: 0.0746\n",
      "Epoch 16/100\n",
      "38/38 [==============================] - 10s 253ms/step - loss: 0.0746\n",
      "Epoch 17/100\n",
      "38/38 [==============================] - 9s 249ms/step - loss: 0.0746\n",
      "Epoch 18/100\n",
      "38/38 [==============================] - 9s 247ms/step - loss: 0.0746\n",
      "Epoch 19/100\n",
      "38/38 [==============================] - 9s 246ms/step - loss: 0.0746\n",
      "Epoch 20/100\n",
      "38/38 [==============================] - 9s 238ms/step - loss: 0.0745\n",
      "Epoch 21/100\n",
      "38/38 [==============================] - 9s 243ms/step - loss: 0.0745\n",
      "Epoch 22/100\n",
      "38/38 [==============================] - 9s 241ms/step - loss: 0.0745\n",
      "Epoch 23/100\n",
      "38/38 [==============================] - 9s 246ms/step - loss: 0.0745\n",
      "Epoch 24/100\n",
      "38/38 [==============================] - 9s 249ms/step - loss: 0.0745\n",
      "Epoch 25/100\n",
      "38/38 [==============================] - 9s 238ms/step - loss: 0.0745\n",
      "Epoch 26/100\n",
      "38/38 [==============================] - 9s 248ms/step - loss: 0.0745\n",
      "Epoch 27/100\n",
      "38/38 [==============================] - 9s 238ms/step - loss: 0.0745\n",
      "Epoch 28/100\n",
      "38/38 [==============================] - 9s 241ms/step - loss: 0.0745\n",
      "Epoch 29/100\n",
      "38/38 [==============================] - 9s 243ms/step - loss: 0.0745\n",
      "Epoch 30/100\n",
      "38/38 [==============================] - 9s 240ms/step - loss: 0.0744\n",
      "Epoch 31/100\n",
      "38/38 [==============================] - 9s 244ms/step - loss: 0.0745\n",
      "Epoch 32/100\n",
      "38/38 [==============================] - 9s 239ms/step - loss: 0.0745\n",
      "Epoch 33/100\n",
      "38/38 [==============================] - 9s 242ms/step - loss: 0.0744\n",
      "Epoch 34/100\n",
      "38/38 [==============================] - 9s 243ms/step - loss: 0.0744\n",
      "Epoch 35/100\n",
      "38/38 [==============================] - 9s 241ms/step - loss: 0.0744\n",
      "Epoch 36/100\n",
      "38/38 [==============================] - 9s 245ms/step - loss: 0.0744\n",
      "Epoch 37/100\n",
      "38/38 [==============================] - 9s 240ms/step - loss: 0.0744\n",
      "Epoch 38/100\n",
      "38/38 [==============================] - 9s 240ms/step - loss: 0.0744\n",
      "Epoch 39/100\n",
      "38/38 [==============================] - 10s 253ms/step - loss: 0.0744\n",
      "Epoch 40/100\n",
      "38/38 [==============================] - 9s 240ms/step - loss: 0.0744\n",
      "Epoch 41/100\n",
      "38/38 [==============================] - 9s 234ms/step - loss: 0.0744\n",
      "Epoch 42/100\n",
      "38/38 [==============================] - 9s 238ms/step - loss: 0.0744\n",
      "Epoch 43/100\n",
      "38/38 [==============================] - 9s 246ms/step - loss: 0.0744\n",
      "Epoch 44/100\n",
      "38/38 [==============================] - 9s 243ms/step - loss: 0.0743\n",
      "Epoch 45/100\n",
      "38/38 [==============================] - 9s 239ms/step - loss: 0.0743\n",
      "Epoch 46/100\n",
      "38/38 [==============================] - 9s 237ms/step - loss: 0.0743\n",
      "Epoch 47/100\n",
      "38/38 [==============================] - 9s 240ms/step - loss: 0.0743\n",
      "Epoch 48/100\n",
      "38/38 [==============================] - 9s 236ms/step - loss: 0.0743\n",
      "Epoch 49/100\n",
      "38/38 [==============================] - 9s 241ms/step - loss: 0.0743\n",
      "Epoch 50/100\n",
      "38/38 [==============================] - 9s 243ms/step - loss: 0.0743\n",
      "Epoch 51/100\n",
      "38/38 [==============================] - 9s 240ms/step - loss: 0.0743\n",
      "Epoch 52/100\n",
      "38/38 [==============================] - 9s 238ms/step - loss: 0.0743\n",
      "Epoch 53/100\n",
      "38/38 [==============================] - 9s 239ms/step - loss: 0.0743\n",
      "Epoch 54/100\n",
      "38/38 [==============================] - 9s 240ms/step - loss: 0.0743\n",
      "Epoch 55/100\n",
      "38/38 [==============================] - 9s 235ms/step - loss: 0.0743\n",
      "Epoch 56/100\n",
      "38/38 [==============================] - 9s 242ms/step - loss: 0.0743\n",
      "Epoch 57/100\n",
      "38/38 [==============================] - 9s 241ms/step - loss: 0.0743\n",
      "Epoch 58/100\n",
      "38/38 [==============================] - 9s 241ms/step - loss: 0.0743\n",
      "Epoch 59/100\n",
      "38/38 [==============================] - 9s 243ms/step - loss: 0.0743\n",
      "Epoch 60/100\n",
      "38/38 [==============================] - 9s 239ms/step - loss: 0.0743\n",
      "Epoch 61/100\n",
      "38/38 [==============================] - 9s 236ms/step - loss: 0.0743\n",
      "Epoch 62/100\n",
      "38/38 [==============================] - 9s 239ms/step - loss: 0.0743\n",
      "Epoch 63/100\n",
      "38/38 [==============================] - 9s 240ms/step - loss: 0.0743\n",
      "Epoch 64/100\n",
      "38/38 [==============================] - 9s 244ms/step - loss: 0.0743\n",
      "Epoch 65/100\n",
      "38/38 [==============================] - 9s 237ms/step - loss: 0.0743\n",
      "Epoch 66/100\n",
      "38/38 [==============================] - 9s 244ms/step - loss: 0.0743\n",
      "Epoch 67/100\n",
      "38/38 [==============================] - 9s 239ms/step - loss: 0.0743\n",
      "Epoch 68/100\n",
      "38/38 [==============================] - 9s 243ms/step - loss: 0.0743\n",
      "Epoch 69/100\n",
      "38/38 [==============================] - 9s 240ms/step - loss: 0.0743\n",
      "Epoch 70/100\n",
      "38/38 [==============================] - 9s 242ms/step - loss: 0.0742\n",
      "Epoch 71/100\n",
      "38/38 [==============================] - 9s 242ms/step - loss: 0.0742\n",
      "Epoch 72/100\n",
      "38/38 [==============================] - 9s 237ms/step - loss: 0.0742\n",
      "Epoch 73/100\n",
      "38/38 [==============================] - 9s 239ms/step - loss: 0.0742\n",
      "Epoch 74/100\n",
      "38/38 [==============================] - 9s 236ms/step - loss: 0.0742\n",
      "Epoch 75/100\n",
      "38/38 [==============================] - 9s 241ms/step - loss: 0.0742\n",
      "Epoch 76/100\n",
      "38/38 [==============================] - 9s 235ms/step - loss: 0.0742\n",
      "Epoch 77/100\n",
      "38/38 [==============================] - 9s 244ms/step - loss: 0.0742\n",
      "Epoch 78/100\n",
      "38/38 [==============================] - 9s 238ms/step - loss: 0.0742\n",
      "Epoch 79/100\n",
      "38/38 [==============================] - 9s 242ms/step - loss: 0.0742\n",
      "Epoch 80/100\n",
      "38/38 [==============================] - 9s 240ms/step - loss: 0.0742\n",
      "Epoch 81/100\n",
      "38/38 [==============================] - 9s 242ms/step - loss: 0.0742\n",
      "Epoch 82/100\n",
      "38/38 [==============================] - 9s 239ms/step - loss: 0.0742\n",
      "Epoch 83/100\n",
      "38/38 [==============================] - 9s 240ms/step - loss: 0.0742\n",
      "Epoch 84/100\n",
      "38/38 [==============================] - 9s 243ms/step - loss: 0.0742\n",
      "Epoch 85/100\n",
      "38/38 [==============================] - 9s 241ms/step - loss: 0.0742\n",
      "Epoch 86/100\n",
      "38/38 [==============================] - 9s 240ms/step - loss: 0.0742\n",
      "Epoch 87/100\n",
      "38/38 [==============================] - 9s 240ms/step - loss: 0.0742\n",
      "Epoch 88/100\n",
      "38/38 [==============================] - 9s 237ms/step - loss: 0.0742\n",
      "Epoch 89/100\n",
      "38/38 [==============================] - 9s 240ms/step - loss: 0.0742\n",
      "Epoch 90/100\n",
      "38/38 [==============================] - 9s 236ms/step - loss: 0.0742\n",
      "Epoch 91/100\n",
      "38/38 [==============================] - 9s 241ms/step - loss: 0.0742\n",
      "Epoch 92/100\n",
      "38/38 [==============================] - 9s 244ms/step - loss: 0.0742\n",
      "Epoch 93/100\n",
      "38/38 [==============================] - 9s 240ms/step - loss: 0.0742\n",
      "Epoch 94/100\n",
      "38/38 [==============================] - 9s 243ms/step - loss: 0.0742\n",
      "Epoch 95/100\n",
      "38/38 [==============================] - 9s 235ms/step - loss: 0.0742\n",
      "Epoch 96/100\n",
      "38/38 [==============================] - 9s 241ms/step - loss: 0.0742\n",
      "Epoch 97/100\n",
      "38/38 [==============================] - 9s 237ms/step - loss: 0.0742\n",
      "Epoch 98/100\n",
      "38/38 [==============================] - 9s 241ms/step - loss: 0.0742\n",
      "Epoch 99/100\n"
     ]
    },
    {
     "name": "stdout",
     "output_type": "stream",
     "text": [
      "38/38 [==============================] - 9s 238ms/step - loss: 0.0742\n",
      "Epoch 100/100\n",
      "38/38 [==============================] - 9s 240ms/step - loss: 0.0742\n"
     ]
    },
    {
     "data": {
      "text/plain": [
       "<keras.callbacks.History at 0x17579876440>"
      ]
     },
     "execution_count": 13,
     "metadata": {},
     "output_type": "execute_result"
    }
   ],
   "source": [
    "# Compiling the RNN\n",
    "model.compile(optimizer = 'adam', loss = 'mean_squared_error')\n",
    "\n",
    "# Fitting the RNN to the Training set\n",
    "model.fit(X_train, y_train, epochs = 100, batch_size = 32)"
   ]
  },
  {
   "cell_type": "code",
   "execution_count": 14,
   "id": "fad01f0b",
   "metadata": {},
   "outputs": [
    {
     "data": {
      "text/plain": [
       "array([[1465.199951],\n",
       "       [1520.01001 ],\n",
       "       [1530.      ],\n",
       "       [1602.310059],\n",
       "       [1664.689941],\n",
       "       [1652.97998 ],\n",
       "       [1641.01001 ],\n",
       "       [1640.550049],\n",
       "       [1615.      ],\n",
       "       [1632.      ],\n",
       "       [1684.219971],\n",
       "       [1680.      ],\n",
       "       [1712.      ],\n",
       "       [1681.      ],\n",
       "       [1656.      ],\n",
       "       [1641.069946],\n",
       "       [1670.5     ],\n",
       "       [1643.589966],\n",
       "       [1631.27002 ],\n",
       "       [1623.      ],\n",
       "       [1692.849976]])"
      ]
     },
     "execution_count": 14,
     "metadata": {},
     "output_type": "execute_result"
    }
   ],
   "source": [
    "dataset_testing = pd.read_csv('../AMZN_test.csv')\n",
    "actual_stock_price = dataset_testing[['Open']].values\n",
    "actual_stock_price"
   ]
  },
  {
   "cell_type": "code",
   "execution_count": 15,
   "id": "203f9772",
   "metadata": {},
   "outputs": [
    {
     "name": "stdout",
     "output_type": "stream",
     "text": [
      "1/1 [==============================] - 3s 3s/step\n"
     ]
    }
   ],
   "source": [
    "total_data = pd.concat((dataset_training['Open'], dataset_testing['Open']), axis = 0)\n",
    "inputs = total_data[len(total_data) - len(dataset_testing) - 60:].values\n",
    "inputs = inputs.reshape(-1,1)\n",
    "inputs = sc.transform(inputs)\n",
    "X_test = []\n",
    "for i in range(60, 81):\n",
    "    X_test.append(inputs[i-60:i, 0])\n",
    "X_test = np.array(X_test)\n",
    "X_test = np.reshape(X_test, (X_test.shape[0], X_test.shape[1], 1))\n",
    "predicted_stock_price = model.predict(X_test)\n",
    "predicted_stock_price = sc.inverse_transform(predicted_stock_price)"
   ]
  },
  {
   "cell_type": "code",
   "execution_count": 16,
   "id": "c8b5372b",
   "metadata": {},
   "outputs": [
    {
     "data": {
      "image/png": "[encoded data removed]",
      "text/plain": [
       "<Figure size 640x480 with 1 Axes>"
      ]
     },
     "metadata": {},
     "output_type": "display_data"
    }
   ],
   "source": [
    "plt.plot(actual_stock_price, color = 'green', label = 'Real Amazon Stock Price',ls='--')\n",
    "plt.plot(predicted_stock_price, color = 'red', label = 'Predicted Amazon Stock Price',ls='-')\n",
    "plt.title('Predicted Stock Price')\n",
    "plt.xlabel('Time in days')\n",
    "plt.ylabel('Real Stock Price')\n",
    "plt.legend()\n",
    "plt.show()"
   ]
  },
  {
   "cell_type": "code",
   "execution_count": null,
   "id": "31f4edf9",
   "metadata": {},
   "outputs": [],
   "source": []
  }
 ],
 "metadata": {
  "kernelspec": {
   "display_name": "Python 3 (ipykernel)",
   "language": "python",
   "name": "python3"
  },
  "language_info": {
   "codemirror_mode": {
    "name": "ipython",
    "version": 3
   },
   "file_extension": ".py",
   "mimetype": "text/x-python",
   "name": "python",
   "nbconvert_exporter": "python",
   "pygments_lexer": "ipython3",
   "version": "3.10.10"
  }
 },
 "nbformat": 4,
 "nbformat_minor": 5
}
