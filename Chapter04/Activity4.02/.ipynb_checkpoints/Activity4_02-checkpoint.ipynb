{
 "cells": [
  {
   "cell_type": "code",
   "execution_count": 1,
   "id": "96aa52ff",
   "metadata": {},
   "outputs": [],
   "source": [
    "from keras.models import Sequential\n",
    "from keras.layers import Dense\n",
    "from keras.wrappers.scikit_learn import KerasClassifier\n",
    "from sklearn.model_selection import StratifiedKFold\n",
    "from sklearn.model_selection import cross_val_score\n",
    "from sklearn.preprocessing import StandardScaler\n",
    "import numpy as np\n",
    "import pandas as pd\n",
    "from tensorflow import random"
   ]
  },
  {
   "cell_type": "code",
   "execution_count": 2,
   "id": "0df7697b",
   "metadata": {},
   "outputs": [],
   "source": [
    "X = pd.read_csv('../data/HCV_feats.csv')\n",
    "y = pd.read_csv('../data/HCV_target.csv')\n",
    "\n",
    "sc = StandardScaler()\n",
    "X = pd.DataFrame(sc.fit_transform(X), columns=X.columns)"
   ]
  },
  {
   "cell_type": "markdown",
   "id": "7bd9c4d9",
   "metadata": {},
   "source": [
    "Define different model architectures"
   ]
  },
  {
   "cell_type": "code",
   "execution_count": 3,
   "id": "fca14a59",
   "metadata": {},
   "outputs": [],
   "source": [
    "def build_model_1(activation='relu', optimizer='adam'):\n",
    "    # create model 1\n",
    "    model = Sequential()\n",
    "    model.add(Dense(4, input_dim=X.shape[1], activation=activation))\n",
    "    model.add(Dense(4, activation=activation))\n",
    "    model.add(Dense(4, activation=activation))\n",
    "    model.add(Dense(1, activation='sigmoid'))\n",
    "    # Compile model\n",
    "    model.compile(loss='binary_crossentropy', optimizer=optimizer, metrics=['accuracy'])\n",
    "    return model\n",
    "\n",
    "# Create the function that returns the keras model 2\n",
    "def build_model_2(activation='relu', optimizer='adam'):\n",
    "    # create model 2\n",
    "    model = Sequential()\n",
    "    model.add(Dense(4, input_dim=X.shape[1], activation=activation))\n",
    "    model.add(Dense(2, activation=activation))\n",
    "    model.add(Dense(1, activation='sigmoid'))\n",
    "    # Compile model\n",
    "    model.compile(loss='binary_crossentropy', optimizer=optimizer, metrics=['accuracy'])\n",
    "    return model\n",
    "\n",
    "# Create the function that returns the keras model 3\n",
    "def build_model_3(activation='relu', optimizer='adam'):\n",
    "    # create model 3\n",
    "    model = Sequential()\n",
    "    model.add(Dense(8, input_dim=X.shape[1], activation=activation))\n",
    "    model.add(Dense(8, activation=activation))\n",
    "    model.add(Dense(1, activation='sigmoid'))\n",
    "    # Compile model\n",
    "    model.compile(loss='binary_crossentropy', optimizer=optimizer, metrics=['accuracy'])\n",
    "    return model"
   ]
  },
  {
   "cell_type": "code",
   "execution_count": 4,
   "id": "82cafdc1",
   "metadata": {},
   "outputs": [
    {
     "name": "stderr",
     "output_type": "stream",
     "text": [
      "C:\\Users\\lvcie\\AppData\\Local\\Temp\\ipykernel_12348\\2600822520.py:14: DeprecationWarning: KerasClassifier is deprecated, use Sci-Keras (https://github.com/adriangb/scikeras) instead. See https://www.adriangb.com/scikeras/stable/migration.html for help migrating.\n",
      "  classifier = KerasClassifier(build_fn=models[n], epochs=epochs, batch_size=batch_size, verbose=0, shuffle=False)\n",
      "C:\\Users\\lvcie\\AppData\\Local\\Temp\\ipykernel_12348\\2600822520.py:14: DeprecationWarning: KerasClassifier is deprecated, use Sci-Keras (https://github.com/adriangb/scikeras) instead. See https://www.adriangb.com/scikeras/stable/migration.html for help migrating.\n",
      "  classifier = KerasClassifier(build_fn=models[n], epochs=epochs, batch_size=batch_size, verbose=0, shuffle=False)\n",
      "C:\\Users\\lvcie\\AppData\\Local\\Temp\\ipykernel_12348\\2600822520.py:14: DeprecationWarning: KerasClassifier is deprecated, use Sci-Keras (https://github.com/adriangb/scikeras) instead. See https://www.adriangb.com/scikeras/stable/migration.html for help migrating.\n",
      "  classifier = KerasClassifier(build_fn=models[n], epochs=epochs, batch_size=batch_size, verbose=0, shuffle=False)\n"
     ]
    }
   ],
   "source": [
    "seed = 2\n",
    "np.random.seed(seed)\n",
    "random.set_seed(seed)\n",
    "\n",
    "n_folds = 5\n",
    "batch_size = 20\n",
    "epochs = 50\n",
    "\n",
    "results_1 = []\n",
    "\n",
    "models = [build_model_1, build_model_2, build_model_3]\n",
    "\n",
    "for n in range(len(models)):\n",
    "    classifier = KerasClassifier(build_fn=models[n], epochs=epochs, batch_size=batch_size, verbose=0, shuffle=False)\n",
    "    kfold = StratifiedKFold(n_splits=n_folds, shuffle=True, random_state=seed)\n",
    "    result = cross_val_score(classifier, X, y, cv=kfold)\n",
    "    results_1.append(result)"
   ]
  },
  {
   "cell_type": "code",
   "execution_count": 5,
   "id": "c310b06b",
   "metadata": {},
   "outputs": [
    {
     "name": "stdout",
     "output_type": "stream",
     "text": [
      "Model 1 Test Accuracy = 0.5025270760059357\n",
      "Model 2 Test Accuracy = 0.501805055141449\n",
      "Model 3 Test Accuracy = 0.5148014485836029\n"
     ]
    }
   ],
   "source": [
    "for m in range(len(models)):\n",
    "    print('Model', m+1, 'Test Accuracy =', results_1[m].mean())"
   ]
  },
  {
   "cell_type": "code",
   "execution_count": 6,
   "id": "041159a3",
   "metadata": {},
   "outputs": [
    {
     "name": "stderr",
     "output_type": "stream",
     "text": [
      "C:\\Users\\lvcie\\AppData\\Local\\Temp\\ipykernel_12348\\2391126652.py:13: DeprecationWarning: KerasClassifier is deprecated, use Sci-Keras (https://github.com/adriangb/scikeras) instead. See https://www.adriangb.com/scikeras/stable/migration.html for help migrating.\n",
      "  classifier = KerasClassifier(build_fn=build_model_2, epochs=epochs[e], batch_size=batches[b], verbose=0, shuffle=False)\n",
      "C:\\Users\\lvcie\\AppData\\Local\\Temp\\ipykernel_12348\\2391126652.py:13: DeprecationWarning: KerasClassifier is deprecated, use Sci-Keras (https://github.com/adriangb/scikeras) instead. See https://www.adriangb.com/scikeras/stable/migration.html for help migrating.\n",
      "  classifier = KerasClassifier(build_fn=build_model_2, epochs=epochs[e], batch_size=batches[b], verbose=0, shuffle=False)\n",
      "C:\\Users\\lvcie\\AppData\\Local\\Temp\\ipykernel_12348\\2391126652.py:13: DeprecationWarning: KerasClassifier is deprecated, use Sci-Keras (https://github.com/adriangb/scikeras) instead. See https://www.adriangb.com/scikeras/stable/migration.html for help migrating.\n",
      "  classifier = KerasClassifier(build_fn=build_model_2, epochs=epochs[e], batch_size=batches[b], verbose=0, shuffle=False)\n",
      "C:\\Users\\lvcie\\AppData\\Local\\Temp\\ipykernel_12348\\2391126652.py:13: DeprecationWarning: KerasClassifier is deprecated, use Sci-Keras (https://github.com/adriangb/scikeras) instead. See https://www.adriangb.com/scikeras/stable/migration.html for help migrating.\n",
      "  classifier = KerasClassifier(build_fn=build_model_2, epochs=epochs[e], batch_size=batches[b], verbose=0, shuffle=False)\n"
     ]
    }
   ],
   "source": [
    "np.random.seed(seed)\n",
    "random.set_seed(seed)\n",
    "\n",
    "n_folds = 5\n",
    "\n",
    "epochs = [100, 200]\n",
    "batches = [10, 20]\n",
    "\n",
    "results_2 = []\n",
    "\n",
    "for e in range(len(epochs)):\n",
    "    for b in range(len(batches)):\n",
    "        classifier = KerasClassifier(build_fn=build_model_2, epochs=epochs[e], batch_size=batches[b], verbose=0, shuffle=False)\n",
    "        kfold = StratifiedKFold(n_splits=n_folds, shuffle=True, random_state=seed)\n",
    "        result = cross_val_score(classifier, X, y, cv=kfold)\n",
    "        \n",
    "        results_2.append(result)"
   ]
  },
  {
   "cell_type": "code",
   "execution_count": 7,
   "id": "eb04c60e",
   "metadata": {},
   "outputs": [
    {
     "name": "stdout",
     "output_type": "stream",
     "text": [
      "batch_size = 10 epochs = 100 , Test Accuracy = 0.49747292399406434\n",
      "batch_size = 20 epochs = 100 , Test Accuracy = 0.5119133651256561\n",
      "batch_size = 10 epochs = 200 , Test Accuracy = 0.5227436900138855\n",
      "batch_size = 20 epochs = 200 , Test Accuracy = 0.5061371743679046\n"
     ]
    }
   ],
   "source": [
    "c = 0\n",
    "for e in range(len(epochs)):\n",
    "    for b in range(len(batches)):\n",
    "        print('batch_size =', batches[b], 'epochs =', epochs[e], ', Test Accuracy =', results_2[c].mean())\n",
    "        c += 1"
   ]
  },
  {
   "cell_type": "code",
   "execution_count": 8,
   "id": "c9d17c42",
   "metadata": {},
   "outputs": [
    {
     "name": "stderr",
     "output_type": "stream",
     "text": [
      "C:\\Users\\lvcie\\AppData\\Local\\Temp\\ipykernel_12348\\2643146467.py:18: DeprecationWarning: KerasClassifier is deprecated, use Sci-Keras (https://github.com/adriangb/scikeras) instead. See https://www.adriangb.com/scikeras/stable/migration.html for help migrating.\n",
      "  classifier = KerasClassifier(build_fn=build_model_2, epochs=epochs, batch_size=batch_size, verbose=0, shuffle=False)\n",
      "C:\\Users\\lvcie\\AppData\\Local\\Temp\\ipykernel_12348\\2643146467.py:18: DeprecationWarning: KerasClassifier is deprecated, use Sci-Keras (https://github.com/adriangb/scikeras) instead. See https://www.adriangb.com/scikeras/stable/migration.html for help migrating.\n",
      "  classifier = KerasClassifier(build_fn=build_model_2, epochs=epochs, batch_size=batch_size, verbose=0, shuffle=False)\n",
      "C:\\Users\\lvcie\\AppData\\Local\\Temp\\ipykernel_12348\\2643146467.py:18: DeprecationWarning: KerasClassifier is deprecated, use Sci-Keras (https://github.com/adriangb/scikeras) instead. See https://www.adriangb.com/scikeras/stable/migration.html for help migrating.\n",
      "  classifier = KerasClassifier(build_fn=build_model_2, epochs=epochs, batch_size=batch_size, verbose=0, shuffle=False)\n",
      "C:\\Users\\lvcie\\AppData\\Local\\Temp\\ipykernel_12348\\2643146467.py:18: DeprecationWarning: KerasClassifier is deprecated, use Sci-Keras (https://github.com/adriangb/scikeras) instead. See https://www.adriangb.com/scikeras/stable/migration.html for help migrating.\n",
      "  classifier = KerasClassifier(build_fn=build_model_2, epochs=epochs, batch_size=batch_size, verbose=0, shuffle=False)\n",
      "C:\\Users\\lvcie\\AppData\\Local\\Temp\\ipykernel_12348\\2643146467.py:18: DeprecationWarning: KerasClassifier is deprecated, use Sci-Keras (https://github.com/adriangb/scikeras) instead. See https://www.adriangb.com/scikeras/stable/migration.html for help migrating.\n",
      "  classifier = KerasClassifier(build_fn=build_model_2, epochs=epochs, batch_size=batch_size, verbose=0, shuffle=False)\n",
      "C:\\Users\\lvcie\\AppData\\Local\\Temp\\ipykernel_12348\\2643146467.py:18: DeprecationWarning: KerasClassifier is deprecated, use Sci-Keras (https://github.com/adriangb/scikeras) instead. See https://www.adriangb.com/scikeras/stable/migration.html for help migrating.\n",
      "  classifier = KerasClassifier(build_fn=build_model_2, epochs=epochs, batch_size=batch_size, verbose=0, shuffle=False)\n"
     ]
    }
   ],
   "source": [
    "np.random.seed(seed)\n",
    "random.set_seed(seed)\n",
    "\n",
    "n_folds = 5\n",
    "batch_size = 10\n",
    "epochs=100\n",
    "\n",
    "results_3 = []\n",
    "\n",
    "optimizers = ['rmsprop', 'adam', 'sgd']\n",
    "activations = ['relu', 'tanh']\n",
    "\n",
    "for o in range(len(optimizers)):\n",
    "    for a in range(len(activations)):\n",
    "        optimizer = optimizers[o]\n",
    "        activation = activations[a]\n",
    "        \n",
    "        classifier = KerasClassifier(build_fn=build_model_2, epochs=epochs, batch_size=batch_size, verbose=0, shuffle=False)\n",
    "        \n",
    "        kfold = StratifiedKFold(n_splits=n_folds, shuffle=True, random_state=seed)\n",
    "        result = cross_val_score(classifier, X, y, cv=kfold)\n",
    "        \n",
    "        results_3.append(result)"
   ]
  },
  {
   "cell_type": "code",
   "execution_count": 9,
   "id": "8d516b8b",
   "metadata": {},
   "outputs": [
    {
     "name": "stdout",
     "output_type": "stream",
     "text": [
      "activation =  relu , optimizer =  rmsprop , Test accuracy =  0.5083032369613647\n",
      "activation =  tanh , optimizer =  rmsprop , Test accuracy =  0.48664259910583496\n",
      "activation =  relu , optimizer =  adam , Test accuracy =  0.519133573770523\n",
      "activation =  tanh , optimizer =  adam , Test accuracy =  0.5321299612522126\n",
      "activation =  relu , optimizer =  sgd , Test accuracy =  0.49747291803359983\n",
      "activation =  tanh , optimizer =  sgd , Test accuracy =  0.5039711117744445\n"
     ]
    }
   ],
   "source": [
    "c = 0\n",
    "for o in range(len(optimizers)):\n",
    "    for a in range(len(activations)):\n",
    "        print('activation = ', activations[a], ', optimizer = ', optimizers[o], ', Test accuracy = ', results_3[c].mean())\n",
    "        c += 1"
   ]
  },
  {
   "cell_type": "code",
   "execution_count": null,
   "id": "ec79b910",
   "metadata": {},
   "outputs": [],
   "source": []
  }
 ],
 "metadata": {
  "kernelspec": {
   "display_name": "Python 3 (ipykernel)",
   "language": "python",
   "name": "python3"
  },
  "language_info": {
   "codemirror_mode": {
    "name": "ipython",
    "version": 3
   },
   "file_extension": ".py",
   "mimetype": "text/x-python",
   "name": "python",
   "nbconvert_exporter": "python",
   "pygments_lexer": "ipython3",
   "version": "3.10.10"
  }
 },
 "nbformat": 4,
 "nbformat_minor": 5
}
