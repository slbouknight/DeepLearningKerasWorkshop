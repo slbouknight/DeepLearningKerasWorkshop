{
 "cells": [
  {
   "cell_type": "code",
   "execution_count": 1,
   "id": "e5c12643",
   "metadata": {},
   "outputs": [],
   "source": [
    "import numpy as np\n",
    "import matplotlib.pyplot as plt\n",
    "import pandas as pd\n",
    "from tensorflow import random"
   ]
  },
  {
   "cell_type": "code",
   "execution_count": 3,
   "id": "da0b4c1f",
   "metadata": {},
   "outputs": [
    {
     "data": {
      "text/html": [
       "<div>\n",
       "<style scoped>\n",
       "    .dataframe tbody tr th:only-of-type {\n",
       "        vertical-align: middle;\n",
       "    }\n",
       "\n",
       "    .dataframe tbody tr th {\n",
       "        vertical-align: top;\n",
       "    }\n",
       "\n",
       "    .dataframe thead th {\n",
       "        text-align: right;\n",
       "    }\n",
       "</style>\n",
       "<table border=\"1\" class=\"dataframe\">\n",
       "  <thead>\n",
       "    <tr style=\"text-align: right;\">\n",
       "      <th></th>\n",
       "      <th>Date</th>\n",
       "      <th>Open</th>\n",
       "      <th>High</th>\n",
       "      <th>Low</th>\n",
       "      <th>Close</th>\n",
       "      <th>Adj Close</th>\n",
       "      <th>Volume</th>\n",
       "    </tr>\n",
       "  </thead>\n",
       "  <tbody>\n",
       "    <tr>\n",
       "      <th>0</th>\n",
       "      <td>2014-01-02</td>\n",
       "      <td>555.647278</td>\n",
       "      <td>556.788025</td>\n",
       "      <td>552.060730</td>\n",
       "      <td>554.481689</td>\n",
       "      <td>554.481689</td>\n",
       "      <td>3656400</td>\n",
       "    </tr>\n",
       "    <tr>\n",
       "      <th>1</th>\n",
       "      <td>2014-01-03</td>\n",
       "      <td>555.418152</td>\n",
       "      <td>556.379578</td>\n",
       "      <td>550.401978</td>\n",
       "      <td>550.436829</td>\n",
       "      <td>550.436829</td>\n",
       "      <td>3345800</td>\n",
       "    </tr>\n",
       "    <tr>\n",
       "      <th>2</th>\n",
       "      <td>2014-01-06</td>\n",
       "      <td>554.426880</td>\n",
       "      <td>557.340942</td>\n",
       "      <td>551.154114</td>\n",
       "      <td>556.573853</td>\n",
       "      <td>556.573853</td>\n",
       "      <td>3551800</td>\n",
       "    </tr>\n",
       "    <tr>\n",
       "      <th>3</th>\n",
       "      <td>2014-01-07</td>\n",
       "      <td>560.399475</td>\n",
       "      <td>567.717041</td>\n",
       "      <td>558.486633</td>\n",
       "      <td>567.303589</td>\n",
       "      <td>567.303589</td>\n",
       "      <td>5124300</td>\n",
       "    </tr>\n",
       "    <tr>\n",
       "      <th>4</th>\n",
       "      <td>2014-01-08</td>\n",
       "      <td>570.860291</td>\n",
       "      <td>571.517822</td>\n",
       "      <td>564.528992</td>\n",
       "      <td>568.484192</td>\n",
       "      <td>568.484192</td>\n",
       "      <td>4501700</td>\n",
       "    </tr>\n",
       "  </tbody>\n",
       "</table>\n",
       "</div>"
      ],
      "text/plain": [
       "         Date        Open        High         Low       Close   Adj Close  \\\n",
       "0  2014-01-02  555.647278  556.788025  552.060730  554.481689  554.481689   \n",
       "1  2014-01-03  555.418152  556.379578  550.401978  550.436829  550.436829   \n",
       "2  2014-01-06  554.426880  557.340942  551.154114  556.573853  556.573853   \n",
       "3  2014-01-07  560.399475  567.717041  558.486633  567.303589  567.303589   \n",
       "4  2014-01-08  570.860291  571.517822  564.528992  568.484192  568.484192   \n",
       "\n",
       "    Volume  \n",
       "0  3656400  \n",
       "1  3345800  \n",
       "2  3551800  \n",
       "3  5124300  \n",
       "4  4501700  "
      ]
     },
     "execution_count": 3,
     "metadata": {},
     "output_type": "execute_result"
    }
   ],
   "source": [
    "dataset_training = pd.read_csv('../GOOG_train.csv')\n",
    "dataset_training.head()"
   ]
  },
  {
   "cell_type": "code",
   "execution_count": 4,
   "id": "d61a3499",
   "metadata": {},
   "outputs": [
    {
     "data": {
      "text/plain": [
       "array([[ 555.647278],\n",
       "       [ 555.418152],\n",
       "       [ 554.42688 ],\n",
       "       ...,\n",
       "       [1017.150024],\n",
       "       [1049.619995],\n",
       "       [1050.959961]])"
      ]
     },
     "execution_count": 4,
     "metadata": {},
     "output_type": "execute_result"
    }
   ],
   "source": [
    "training_data = dataset_training[['Open']].values\n",
    "training_data"
   ]
  },
  {
   "cell_type": "code",
   "execution_count": 5,
   "id": "864ee2c3",
   "metadata": {},
   "outputs": [
    {
     "data": {
      "text/plain": [
       "array([[0.08017394],\n",
       "       [0.07987932],\n",
       "       [0.07860471],\n",
       "       ...,\n",
       "       [0.67359064],\n",
       "       [0.71534169],\n",
       "       [0.71706467]])"
      ]
     },
     "execution_count": 5,
     "metadata": {},
     "output_type": "execute_result"
    }
   ],
   "source": [
    "from sklearn.preprocessing import MinMaxScaler\n",
    "sc = MinMaxScaler(feature_range=(0, 1))\n",
    "training_data_scaled = sc.fit_transform(training_data)\n",
    "\n",
    "training_data_scaled"
   ]
  },
  {
   "cell_type": "code",
   "execution_count": 6,
   "id": "a1fe908c",
   "metadata": {},
   "outputs": [],
   "source": [
    "X_train = []\n",
    "y_train = []\n",
    "\n",
    "for i in range(60, 1258):\n",
    "    X_train.append(training_data_scaled[i-60: i, 0])\n",
    "    y_train.append(training_data_scaled[i, 0])\n",
    "    \n",
    "X_train, y_train = np.array(X_train), np.array(y_train)"
   ]
  },
  {
   "cell_type": "code",
   "execution_count": 7,
   "id": "f76d5c7f",
   "metadata": {},
   "outputs": [
    {
     "data": {
      "text/plain": [
       "array([[[0.08017394],\n",
       "        [0.07987932],\n",
       "        [0.07860471],\n",
       "        ...,\n",
       "        [0.10999004],\n",
       "        [0.09405781],\n",
       "        [0.08533808]],\n",
       "\n",
       "       [[0.07987932],\n",
       "        [0.07860471],\n",
       "        [0.08628449],\n",
       "        ...,\n",
       "        [0.09405781],\n",
       "        [0.08533808],\n",
       "        [0.09263448]],\n",
       "\n",
       "       [[0.07860471],\n",
       "        [0.08628449],\n",
       "        [0.09973538],\n",
       "        ...,\n",
       "        [0.08533808],\n",
       "        [0.09263448],\n",
       "        [0.08214508]],\n",
       "\n",
       "       ...,\n",
       "\n",
       "       [[0.90856424],\n",
       "        [0.89708166],\n",
       "        [0.91513484],\n",
       "        ...,\n",
       "        [0.6712118 ],\n",
       "        [0.61797825],\n",
       "        [0.63740721]],\n",
       "\n",
       "       [[0.89708166],\n",
       "        [0.91513484],\n",
       "        [0.90270076],\n",
       "        ...,\n",
       "        [0.61797825],\n",
       "        [0.63740721],\n",
       "        [0.67359064]],\n",
       "\n",
       "       [[0.91513484],\n",
       "        [0.90270076],\n",
       "        [0.86691601],\n",
       "        ...,\n",
       "        [0.63740721],\n",
       "        [0.67359064],\n",
       "        [0.71534169]]])"
      ]
     },
     "execution_count": 7,
     "metadata": {},
     "output_type": "execute_result"
    }
   ],
   "source": [
    "X_train = np.reshape(X_train, (X_train.shape[0], X_train.shape[1], 1))\n",
    "X_train"
   ]
  },
  {
   "cell_type": "code",
   "execution_count": 8,
   "id": "ca20c939",
   "metadata": {},
   "outputs": [],
   "source": [
    "from keras.models import Sequential\n",
    "from keras.layers import Dense\n",
    "from keras.layers import LSTM\n",
    "from keras.layers import Dropout"
   ]
  },
  {
   "cell_type": "code",
   "execution_count": 9,
   "id": "3b040e62",
   "metadata": {},
   "outputs": [],
   "source": [
    "seed = 1\n",
    "np.random.seed(seed)\n",
    "random.set_seed(seed)\n",
    "\n",
    "model = Sequential()"
   ]
  },
  {
   "cell_type": "code",
   "execution_count": 10,
   "id": "def737f1",
   "metadata": {},
   "outputs": [],
   "source": [
    "model.add(LSTM(100, return_sequences=True, input_shape=(X_train.shape[1], 1)))\n",
    "model.add(LSTM(100, return_sequences=True))\n",
    "model.add(LSTM(100, return_sequences=True))\n",
    "model.add(LSTM(100))\n",
    "model.add(Dense(1))"
   ]
  },
  {
   "cell_type": "code",
   "execution_count": 11,
   "id": "e5370c62",
   "metadata": {},
   "outputs": [
    {
     "name": "stdout",
     "output_type": "stream",
     "text": [
      "Epoch 1/100\n",
      "38/38 [==============================] - 25s 309ms/step - loss: 0.0208\n",
      "Epoch 2/100\n",
      "38/38 [==============================] - 11s 302ms/step - loss: 0.0021\n",
      "Epoch 3/100\n",
      "38/38 [==============================] - 12s 305ms/step - loss: 0.0019\n",
      "Epoch 4/100\n",
      "38/38 [==============================] - 12s 307ms/step - loss: 0.0023\n",
      "Epoch 5/100\n",
      "38/38 [==============================] - 11s 296ms/step - loss: 0.0019\n",
      "Epoch 6/100\n",
      "38/38 [==============================] - 11s 292ms/step - loss: 0.0018\n",
      "Epoch 7/100\n",
      "38/38 [==============================] - 11s 300ms/step - loss: 0.0017\n",
      "Epoch 8/100\n",
      "38/38 [==============================] - 11s 303ms/step - loss: 0.0015\n",
      "Epoch 9/100\n",
      "38/38 [==============================] - 11s 289ms/step - loss: 0.0017\n",
      "Epoch 10/100\n",
      "38/38 [==============================] - 11s 301ms/step - loss: 0.0017\n",
      "Epoch 11/100\n",
      "38/38 [==============================] - 11s 300ms/step - loss: 0.0016\n",
      "Epoch 12/100\n",
      "38/38 [==============================] - 11s 301ms/step - loss: 0.0014\n",
      "Epoch 13/100\n",
      "38/38 [==============================] - 11s 293ms/step - loss: 0.0016\n",
      "Epoch 14/100\n",
      "38/38 [==============================] - 11s 296ms/step - loss: 0.0016\n",
      "Epoch 15/100\n",
      "38/38 [==============================] - 12s 303ms/step - loss: 0.0013\n",
      "Epoch 16/100\n",
      "38/38 [==============================] - 11s 293ms/step - loss: 0.0012\n",
      "Epoch 17/100\n",
      "38/38 [==============================] - 11s 295ms/step - loss: 0.0014\n",
      "Epoch 18/100\n",
      "38/38 [==============================] - 11s 295ms/step - loss: 0.0014\n",
      "Epoch 19/100\n",
      "38/38 [==============================] - 11s 294ms/step - loss: 0.0012\n",
      "Epoch 20/100\n",
      "38/38 [==============================] - 12s 305ms/step - loss: 0.0011\n",
      "Epoch 21/100\n",
      "38/38 [==============================] - 12s 306ms/step - loss: 0.0011\n",
      "Epoch 22/100\n",
      "38/38 [==============================] - 11s 298ms/step - loss: 0.0012\n",
      "Epoch 23/100\n",
      "38/38 [==============================] - 11s 292ms/step - loss: 8.5588e-04\n",
      "Epoch 24/100\n",
      "38/38 [==============================] - 11s 300ms/step - loss: 7.7063e-04\n",
      "Epoch 25/100\n",
      "38/38 [==============================] - 11s 299ms/step - loss: 6.4759e-04\n",
      "Epoch 26/100\n",
      "38/38 [==============================] - 11s 301ms/step - loss: 6.3507e-04\n",
      "Epoch 27/100\n",
      "38/38 [==============================] - 11s 297ms/step - loss: 6.7586e-04\n",
      "Epoch 28/100\n",
      "38/38 [==============================] - 11s 300ms/step - loss: 6.6886e-04\n",
      "Epoch 29/100\n",
      "38/38 [==============================] - 11s 299ms/step - loss: 5.6368e-04\n",
      "Epoch 30/100\n",
      "38/38 [==============================] - 11s 294ms/step - loss: 5.8488e-04\n",
      "Epoch 31/100\n",
      "38/38 [==============================] - 11s 293ms/step - loss: 5.8143e-04\n",
      "Epoch 32/100\n",
      "38/38 [==============================] - 12s 321ms/step - loss: 6.0245e-04\n",
      "Epoch 33/100\n",
      "38/38 [==============================] - 11s 299ms/step - loss: 5.3075e-04\n",
      "Epoch 34/100\n",
      "38/38 [==============================] - 11s 300ms/step - loss: 6.6210e-04\n",
      "Epoch 35/100\n",
      "38/38 [==============================] - 11s 294ms/step - loss: 5.0973e-04\n",
      "Epoch 36/100\n",
      "38/38 [==============================] - 11s 295ms/step - loss: 4.8122e-04\n",
      "Epoch 37/100\n",
      "38/38 [==============================] - 11s 291ms/step - loss: 5.4496e-04\n",
      "Epoch 38/100\n",
      "38/38 [==============================] - 11s 293ms/step - loss: 4.3085e-04\n",
      "Epoch 39/100\n",
      "38/38 [==============================] - 11s 293ms/step - loss: 5.0574e-04\n",
      "Epoch 40/100\n",
      "38/38 [==============================] - 11s 295ms/step - loss: 4.9380e-04\n",
      "Epoch 41/100\n",
      "38/38 [==============================] - 11s 294ms/step - loss: 6.3734e-04\n",
      "Epoch 42/100\n",
      "38/38 [==============================] - 11s 294ms/step - loss: 4.2940e-04\n",
      "Epoch 43/100\n",
      "38/38 [==============================] - 11s 292ms/step - loss: 4.9321e-04\n",
      "Epoch 44/100\n",
      "38/38 [==============================] - 11s 299ms/step - loss: 4.7909e-04\n",
      "Epoch 45/100\n",
      "38/38 [==============================] - 11s 303ms/step - loss: 5.7756e-04\n",
      "Epoch 46/100\n",
      "38/38 [==============================] - 11s 292ms/step - loss: 4.0883e-04\n",
      "Epoch 47/100\n",
      "38/38 [==============================] - 11s 278ms/step - loss: 4.0166e-04\n",
      "Epoch 48/100\n",
      "38/38 [==============================] - 11s 296ms/step - loss: 4.2876e-04\n",
      "Epoch 49/100\n",
      "38/38 [==============================] - 11s 294ms/step - loss: 4.2151e-04\n",
      "Epoch 50/100\n",
      "38/38 [==============================] - 11s 287ms/step - loss: 4.3162e-04\n",
      "Epoch 51/100\n",
      "38/38 [==============================] - 11s 292ms/step - loss: 3.8807e-04\n",
      "Epoch 52/100\n",
      "38/38 [==============================] - 11s 295ms/step - loss: 4.2018e-04\n",
      "Epoch 53/100\n",
      "38/38 [==============================] - 11s 294ms/step - loss: 3.8616e-04\n",
      "Epoch 54/100\n",
      "38/38 [==============================] - 11s 295ms/step - loss: 4.0765e-04\n",
      "Epoch 55/100\n",
      "38/38 [==============================] - 11s 296ms/step - loss: 4.8411e-04\n",
      "Epoch 56/100\n",
      "38/38 [==============================] - 11s 292ms/step - loss: 5.2040e-04\n",
      "Epoch 57/100\n",
      "38/38 [==============================] - 11s 293ms/step - loss: 4.9143e-04\n",
      "Epoch 58/100\n",
      "38/38 [==============================] - 11s 292ms/step - loss: 3.6897e-04\n",
      "Epoch 59/100\n",
      "38/38 [==============================] - 11s 293ms/step - loss: 3.5530e-04\n",
      "Epoch 60/100\n",
      "38/38 [==============================] - 11s 288ms/step - loss: 3.6317e-04\n",
      "Epoch 61/100\n",
      "38/38 [==============================] - 11s 293ms/step - loss: 3.6733e-04\n",
      "Epoch 62/100\n",
      "38/38 [==============================] - 11s 288ms/step - loss: 3.6055e-04\n",
      "Epoch 63/100\n",
      "38/38 [==============================] - 11s 290ms/step - loss: 5.6519e-04\n",
      "Epoch 64/100\n",
      "38/38 [==============================] - 11s 296ms/step - loss: 5.3766e-04\n",
      "Epoch 65/100\n",
      "38/38 [==============================] - 11s 296ms/step - loss: 5.2532e-04\n",
      "Epoch 66/100\n",
      "38/38 [==============================] - 11s 289ms/step - loss: 3.7234e-04\n",
      "Epoch 67/100\n",
      "38/38 [==============================] - 11s 293ms/step - loss: 3.9333e-04\n",
      "Epoch 68/100\n",
      "38/38 [==============================] - 11s 295ms/step - loss: 3.6444e-04\n",
      "Epoch 69/100\n",
      "38/38 [==============================] - 12s 302ms/step - loss: 3.7636e-04\n",
      "Epoch 70/100\n",
      "38/38 [==============================] - 11s 296ms/step - loss: 3.6009e-04\n",
      "Epoch 71/100\n",
      "38/38 [==============================] - 12s 305ms/step - loss: 3.6048e-04\n",
      "Epoch 72/100\n",
      "38/38 [==============================] - 11s 300ms/step - loss: 3.7568e-04\n",
      "Epoch 73/100\n",
      "38/38 [==============================] - 11s 292ms/step - loss: 3.6747e-04\n",
      "Epoch 74/100\n",
      "38/38 [==============================] - 11s 299ms/step - loss: 3.9851e-04\n",
      "Epoch 75/100\n",
      "38/38 [==============================] - 11s 292ms/step - loss: 4.2004e-04\n",
      "Epoch 76/100\n",
      "38/38 [==============================] - 11s 288ms/step - loss: 3.7984e-04\n",
      "Epoch 77/100\n",
      "38/38 [==============================] - 11s 295ms/step - loss: 3.3708e-04\n",
      "Epoch 78/100\n",
      "38/38 [==============================] - 11s 291ms/step - loss: 3.7408e-04\n",
      "Epoch 79/100\n",
      "38/38 [==============================] - 11s 290ms/step - loss: 3.6471e-04\n",
      "Epoch 80/100\n",
      "38/38 [==============================] - 11s 290ms/step - loss: 3.2639e-04\n",
      "Epoch 81/100\n",
      "38/38 [==============================] - 11s 292ms/step - loss: 3.2783e-04\n",
      "Epoch 82/100\n",
      "38/38 [==============================] - 11s 296ms/step - loss: 3.3145e-04\n",
      "Epoch 83/100\n",
      "38/38 [==============================] - 11s 296ms/step - loss: 3.2586e-04\n",
      "Epoch 84/100\n",
      "38/38 [==============================] - 11s 297ms/step - loss: 3.1717e-04\n",
      "Epoch 85/100\n",
      "38/38 [==============================] - 11s 296ms/step - loss: 3.3001e-04\n",
      "Epoch 86/100\n",
      "38/38 [==============================] - 11s 291ms/step - loss: 3.3784e-04\n",
      "Epoch 87/100\n",
      "38/38 [==============================] - 11s 292ms/step - loss: 3.4179e-04\n",
      "Epoch 88/100\n",
      "38/38 [==============================] - 11s 294ms/step - loss: 5.4296e-04\n",
      "Epoch 89/100\n",
      "38/38 [==============================] - 11s 289ms/step - loss: 6.2250e-04\n",
      "Epoch 90/100\n",
      "38/38 [==============================] - 11s 288ms/step - loss: 4.2929e-04\n",
      "Epoch 91/100\n",
      "38/38 [==============================] - 11s 302ms/step - loss: 4.6088e-04\n",
      "Epoch 92/100\n",
      "38/38 [==============================] - 11s 290ms/step - loss: 4.1294e-04\n",
      "Epoch 93/100\n",
      "38/38 [==============================] - 11s 289ms/step - loss: 3.2770e-04\n",
      "Epoch 94/100\n",
      "38/38 [==============================] - 11s 295ms/step - loss: 6.3133e-04\n",
      "Epoch 95/100\n"
     ]
    },
    {
     "name": "stdout",
     "output_type": "stream",
     "text": [
      "38/38 [==============================] - 11s 293ms/step - loss: 3.3457e-04\n",
      "Epoch 96/100\n",
      "38/38 [==============================] - 11s 295ms/step - loss: 3.9515e-04\n",
      "Epoch 97/100\n",
      "38/38 [==============================] - 11s 292ms/step - loss: 3.6084e-04\n",
      "Epoch 98/100\n",
      "38/38 [==============================] - 11s 296ms/step - loss: 3.7729e-04\n",
      "Epoch 99/100\n",
      "38/38 [==============================] - 11s 295ms/step - loss: 3.5517e-04\n",
      "Epoch 100/100\n",
      "38/38 [==============================] - 11s 296ms/step - loss: 3.9632e-04\n"
     ]
    },
    {
     "data": {
      "text/plain": [
       "<keras.callbacks.History at 0x1871c0cdea0>"
      ]
     },
     "execution_count": 11,
     "metadata": {},
     "output_type": "execute_result"
    }
   ],
   "source": [
    "model.compile(optimizer='adam', loss='mse')\n",
    "model.fit(X_train, y_train, epochs=100, batch_size=32)"
   ]
  },
  {
   "cell_type": "code",
   "execution_count": 12,
   "id": "47e0359b",
   "metadata": {},
   "outputs": [
    {
     "data": {
      "text/plain": [
       "array([[1016.570007],\n",
       "       [1041.      ],\n",
       "       [1032.589966],\n",
       "       [1071.5     ],\n",
       "       [1076.109985],\n",
       "       [1081.650024],\n",
       "       [1067.660034],\n",
       "       [1063.180054],\n",
       "       [1046.920044],\n",
       "       [1050.170044],\n",
       "       [1080.      ],\n",
       "       [1079.469971],\n",
       "       [1100.      ],\n",
       "       [1088.      ],\n",
       "       [1077.349976],\n",
       "       [1076.47998 ],\n",
       "       [1085.      ],\n",
       "       [1080.109985],\n",
       "       [1072.680054],\n",
       "       [1068.430054],\n",
       "       [1103.      ]])"
      ]
     },
     "execution_count": 12,
     "metadata": {},
     "output_type": "execute_result"
    }
   ],
   "source": [
    "dataset_testing = pd.read_csv(\"../GOOG_test.csv\")\n",
    "actual_stock_price = dataset_testing[['Open']].values\n",
    "actual_stock_price"
   ]
  },
  {
   "cell_type": "code",
   "execution_count": 13,
   "id": "14720513",
   "metadata": {},
   "outputs": [
    {
     "name": "stdout",
     "output_type": "stream",
     "text": [
      "1/1 [==============================] - 3s 3s/step\n"
     ]
    }
   ],
   "source": [
    "total_data = pd.concat((dataset_training['Open'], dataset_testing['Open']), axis = 0)\n",
    "inputs = total_data[len(total_data) - len(dataset_testing) - 60:].values\n",
    "inputs = inputs.reshape(-1,1)\n",
    "inputs = sc.transform(inputs)\n",
    "X_test = []\n",
    "for i in range(60, 81):\n",
    "    X_test.append(inputs[i-60:i, 0])\n",
    "X_test = np.array(X_test)\n",
    "X_test = np.reshape(X_test, (X_test.shape[0], X_test.shape[1], 1))\n",
    "predicted_stock_price = model.predict(X_test)\n",
    "predicted_stock_price = sc.inverse_transform(predicted_stock_price)"
   ]
  },
  {
   "cell_type": "code",
   "execution_count": 14,
   "id": "8aec67aa",
   "metadata": {},
   "outputs": [
    {
     "data": {
      "image/png": "[encoded data removed]",
      "text/plain": [
       "<Figure size 640x480 with 1 Axes>"
      ]
     },
     "metadata": {},
     "output_type": "display_data"
    }
   ],
   "source": [
    "plt.plot(actual_stock_price, color = 'green', label = 'Real Alphabet Stock Price',ls='--')\n",
    "plt.plot(predicted_stock_price, color = 'red', label = 'Predicted Alphabet Stock Price',ls='-')\n",
    "plt.title('Predicted Stock Price')\n",
    "plt.xlabel('Time in days')\n",
    "plt.ylabel('Real Stock Price')\n",
    "plt.legend()\n",
    "plt.show()"
   ]
  },
  {
   "cell_type": "code",
   "execution_count": null,
   "id": "91b1d66e",
   "metadata": {},
   "outputs": [],
   "source": []
  }
 ],
 "metadata": {
  "kernelspec": {
   "display_name": "Python 3 (ipykernel)",
   "language": "python",
   "name": "python3"
  },
  "language_info": {
   "codemirror_mode": {
    "name": "ipython",
    "version": 3
   },
   "file_extension": ".py",
   "mimetype": "text/x-python",
   "name": "python",
   "nbconvert_exporter": "python",
   "pygments_lexer": "ipython3",
   "version": "3.10.10"
  }
 },
 "nbformat": 4,
 "nbformat_minor": 5
}
