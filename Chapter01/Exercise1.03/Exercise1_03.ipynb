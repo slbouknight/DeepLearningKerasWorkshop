{
 "cells": [
  {
   "cell_type": "markdown",
   "id": "c70527c8",
   "metadata": {},
   "source": [
    "## Data representation and feature engineering"
   ]
  },
  {
   "cell_type": "code",
   "execution_count": 1,
   "id": "cf09b734",
   "metadata": {},
   "outputs": [],
   "source": [
    "import pandas as pd\n",
    "data = pd.read_csv('../data/OSI_feats_e2.csv')"
   ]
  },
  {
   "cell_type": "code",
   "execution_count": 2,
   "id": "6a443741",
   "metadata": {},
   "outputs": [
    {
     "data": {
      "text/plain": [
       "Administrative                     int64\n",
       "Administrative_Duration          float64\n",
       "Informational                      int64\n",
       "Informational_Duration           float64\n",
       "ProductRelated                     int64\n",
       "ProductRelated_Duration          float64\n",
       "BounceRates                      float64\n",
       "ExitRates                        float64\n",
       "PageValues                       float64\n",
       "SpecialDay                       float64\n",
       "OperatingSystems                   int64\n",
       "Browser                            int64\n",
       "Region                             int64\n",
       "TrafficType                        int64\n",
       "is_weekend                         int64\n",
       "VisitorType_New_Visitor            int64\n",
       "VisitorType_Returning_Visitor      int64\n",
       "Month_Aug                          int64\n",
       "Month_Dec                          int64\n",
       "Month_Jul                          int64\n",
       "Month_June                         int64\n",
       "Month_Mar                          int64\n",
       "Month_May                          int64\n",
       "Month_Nov                          int64\n",
       "Month_Oct                          int64\n",
       "Month_Sep                          int64\n",
       "dtype: object"
      ]
     },
     "execution_count": 2,
     "metadata": {},
     "output_type": "execute_result"
    }
   ],
   "source": [
    "data.dtypes"
   ]
  },
  {
   "cell_type": "code",
   "execution_count": 3,
   "id": "be7405d3",
   "metadata": {},
   "outputs": [
    {
     "data": {
      "text/plain": [
       "2    6601\n",
       "1    2585\n",
       "3    2555\n",
       "4     478\n",
       "8      79\n",
       "6      19\n",
       "7       7\n",
       "5       6\n",
       "Name: OperatingSystems, dtype: int64"
      ]
     },
     "execution_count": 3,
     "metadata": {},
     "output_type": "execute_result"
    }
   ],
   "source": [
    "data['OperatingSystems'].value_counts()"
   ]
  },
  {
   "cell_type": "code",
   "execution_count": 5,
   "id": "86f13821",
   "metadata": {},
   "outputs": [],
   "source": [
    "colname = 'OperatingSystems'\n",
    "operation_system_dummies = pd.get_dummies(data[colname], prefix=colname)\n",
    "operation_system_dummies.drop(colname+'_5', axis=1, inplace=True)\n",
    "data = pd.concat([data, operation_system_dummies], axis=1)"
   ]
  },
  {
   "cell_type": "code",
   "execution_count": 6,
   "id": "1268f0b3",
   "metadata": {},
   "outputs": [
    {
     "data": {
      "text/plain": [
       "2     7961\n",
       "1     2462\n",
       "4      736\n",
       "5      467\n",
       "6      174\n",
       "10     163\n",
       "8      135\n",
       "3      105\n",
       "13      61\n",
       "7       49\n",
       "12      10\n",
       "11       6\n",
       "9        1\n",
       "Name: Browser, dtype: int64"
      ]
     },
     "execution_count": 6,
     "metadata": {},
     "output_type": "execute_result"
    }
   ],
   "source": [
    "data['Browser'].value_counts()"
   ]
  },
  {
   "cell_type": "code",
   "execution_count": 7,
   "id": "074ceb5a",
   "metadata": {},
   "outputs": [],
   "source": [
    "colname = 'Browser'\n",
    "browser_dummies = pd.get_dummies(data[colname], prefix=colname)\n",
    "browser_dummies.drop(colname+'_9', axis=1, inplace=True)\n",
    "data = pd.concat([data, browser_dummies], axis=1)"
   ]
  },
  {
   "cell_type": "code",
   "execution_count": 8,
   "id": "09ea1996",
   "metadata": {},
   "outputs": [
    {
     "data": {
      "text/plain": [
       "2     3913\n",
       "1     2451\n",
       "3     2052\n",
       "4     1069\n",
       "13     738\n",
       "10     450\n",
       "6      444\n",
       "8      343\n",
       "5      260\n",
       "11     247\n",
       "20     198\n",
       "9       42\n",
       "7       40\n",
       "15      38\n",
       "19      17\n",
       "14      13\n",
       "18      10\n",
       "16       3\n",
       "12       1\n",
       "17       1\n",
       "Name: TrafficType, dtype: int64"
      ]
     },
     "execution_count": 8,
     "metadata": {},
     "output_type": "execute_result"
    }
   ],
   "source": [
    "data['TrafficType'].value_counts()"
   ]
  },
  {
   "cell_type": "code",
   "execution_count": 9,
   "id": "791f1667",
   "metadata": {},
   "outputs": [],
   "source": [
    "colname = 'TrafficType'\n",
    "traffic_dummies = pd.get_dummies(data[colname], prefix=colname)\n",
    "traffic_dummies.drop(colname+'_17', axis=1, inplace=True)\n",
    "data = pd.concat([data, traffic_dummies], axis=1)"
   ]
  },
  {
   "cell_type": "code",
   "execution_count": 10,
   "id": "41e8cae5",
   "metadata": {},
   "outputs": [
    {
     "data": {
      "text/plain": [
       "1    4780\n",
       "3    2403\n",
       "4    1182\n",
       "2    1136\n",
       "6     805\n",
       "7     761\n",
       "9     511\n",
       "8     434\n",
       "5     318\n",
       "Name: Region, dtype: int64"
      ]
     },
     "execution_count": 10,
     "metadata": {},
     "output_type": "execute_result"
    }
   ],
   "source": [
    "data['Region'].value_counts()"
   ]
  },
  {
   "cell_type": "code",
   "execution_count": 12,
   "id": "86e29ade",
   "metadata": {},
   "outputs": [],
   "source": [
    "colname = 'Region'\n",
    "region_dummies = pd.get_dummies(data[colname], prefix=colname)\n",
    "region_dummies.drop(colname+'_5', axis=1, inplace =True)\n",
    "data = pd.concat([data, region_dummies], axis=1)"
   ]
  },
  {
   "cell_type": "code",
   "execution_count": 13,
   "id": "64ce3a5b",
   "metadata": {},
   "outputs": [],
   "source": [
    "drop_cols = ['OperatingSystems', 'Browser', 'TrafficType', 'Region']\n",
    "data.drop(drop_cols, inplace=True, axis=1)"
   ]
  },
  {
   "cell_type": "code",
   "execution_count": 14,
   "id": "23f4ec58",
   "metadata": {},
   "outputs": [
    {
     "data": {
      "text/plain": [
       "Administrative               int64\n",
       "Administrative_Duration    float64\n",
       "Informational                int64\n",
       "Informational_Duration     float64\n",
       "ProductRelated               int64\n",
       "                            ...   \n",
       "Region_4                     uint8\n",
       "Region_6                     uint8\n",
       "Region_7                     uint8\n",
       "Region_8                     uint8\n",
       "Region_9                     uint8\n",
       "Length: 68, dtype: object"
      ]
     },
     "execution_count": 14,
     "metadata": {},
     "output_type": "execute_result"
    }
   ],
   "source": [
    "data.dtypes"
   ]
  },
  {
   "cell_type": "code",
   "execution_count": 15,
   "id": "26ee0deb",
   "metadata": {},
   "outputs": [],
   "source": [
    "data.to_csv('../data/OSI_feats_e3.csv', index=False)"
   ]
  },
  {
   "cell_type": "code",
   "execution_count": null,
   "id": "5e54fcc3",
   "metadata": {},
   "outputs": [],
   "source": []
  }
 ],
 "metadata": {
  "kernelspec": {
   "display_name": "Python 3 (ipykernel)",
   "language": "python",
   "name": "python3"
  },
  "language_info": {
   "codemirror_mode": {
    "name": "ipython",
    "version": 3
   },
   "file_extension": ".py",
   "mimetype": "text/x-python",
   "name": "python",
   "nbconvert_exporter": "python",
   "pygments_lexer": "ipython3",
   "version": "3.10.10"
  }
 },
 "nbformat": 4,
 "nbformat_minor": 5
}
